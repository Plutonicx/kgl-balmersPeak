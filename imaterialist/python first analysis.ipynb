{
 "cells": [
  {
   "cell_type": "code",
   "execution_count": 1,
   "metadata": {
    "collapsed": true
   },
   "outputs": [],
   "source": [
    "import pandas as pd\n",
    "import numpy as np\n",
    "#import tensorflow as tf\n",
    "from tqdm import tqdm\n",
    "import feather"
   ]
  },
  {
   "cell_type": "code",
   "execution_count": 2,
   "metadata": {
    "collapsed": true
   },
   "outputs": [],
   "source": [
    "from boto.s3.connection import S3Connection\n",
    "from boto.s3.key import Key\n",
    "import sys, os\n",
    "import re\n",
    "import json\n",
    "from urllib.request import FancyURLopener\n",
    "import cv2\n",
    "import glob\n",
    "import zipfile\n",
    "from multiprocessing import Pool"
   ]
  },
  {
   "cell_type": "code",
   "execution_count": 3,
   "metadata": {
    "collapsed": true
   },
   "outputs": [],
   "source": [
    "KEY_FILE = '..//..//..//data//aws_keys//keys.txt'\n",
    "\n",
    "f = open(KEY_FILE,'rb')\n",
    "key_data = str(f.read())\n",
    "keys = re.findall(pattern='\\=([a-zA-Z0-9]*)',string=key_data)\n",
    "\n",
    "AWS_KEY = keys[0]\n",
    "AWS_SECRET = keys[1]\n",
    "\n",
    "del keys"
   ]
  },
  {
   "cell_type": "code",
   "execution_count": 4,
   "metadata": {
    "collapsed": true
   },
   "outputs": [],
   "source": [
    "BUCKET = 'imaterialist-challenge'\n",
    "PATH_TO_DATA = '..//..//..//data//imaterialist//'"
   ]
  },
  {
   "cell_type": "code",
   "execution_count": 5,
   "metadata": {
    "collapsed": true
   },
   "outputs": [],
   "source": [
    "labeldf = feather.read_dataframe(PATH_TO_DATA+'labeldf.feather')\n",
    "task_df = feather.read_dataframe(PATH_TO_DATA+'taskdf.feather')\n",
    "train_annotations = feather.read_dataframe(PATH_TO_DATA+'train_annotations.feather')"
   ]
  },
  {
   "cell_type": "code",
   "execution_count": 6,
   "metadata": {
    "collapsed": true
   },
   "outputs": [],
   "source": [
    "def readImage(imageId):\n",
    "    return cv2.imread(PATH_TO_DATA+imageId+'.jpg')"
   ]
  },
  {
   "cell_type": "code",
   "execution_count": 7,
   "metadata": {},
   "outputs": [
    {
     "data": {
      "text/html": [
       "<div>\n",
       "<style>\n",
       "    .dataframe thead tr:only-child th {\n",
       "        text-align: right;\n",
       "    }\n",
       "\n",
       "    .dataframe thead th {\n",
       "        text-align: left;\n",
       "    }\n",
       "\n",
       "    .dataframe tbody tr th {\n",
       "        vertical-align: top;\n",
       "    }\n",
       "</style>\n",
       "<table border=\"1\" class=\"dataframe\">\n",
       "  <thead>\n",
       "    <tr style=\"text-align: right;\">\n",
       "      <th></th>\n",
       "      <th>imageId</th>\n",
       "      <th>labelId</th>\n",
       "      <th>taskId</th>\n",
       "    </tr>\n",
       "  </thead>\n",
       "  <tbody>\n",
       "    <tr>\n",
       "      <th>0</th>\n",
       "      <td>1</td>\n",
       "      <td>6</td>\n",
       "      <td>5</td>\n",
       "    </tr>\n",
       "    <tr>\n",
       "      <th>1</th>\n",
       "      <td>2</td>\n",
       "      <td>7</td>\n",
       "      <td>6</td>\n",
       "    </tr>\n",
       "    <tr>\n",
       "      <th>2</th>\n",
       "      <td>3</td>\n",
       "      <td>8</td>\n",
       "      <td>7</td>\n",
       "    </tr>\n",
       "    <tr>\n",
       "      <th>3</th>\n",
       "      <td>4</td>\n",
       "      <td>10</td>\n",
       "      <td>9</td>\n",
       "    </tr>\n",
       "    <tr>\n",
       "      <th>4</th>\n",
       "      <td>5</td>\n",
       "      <td>14</td>\n",
       "      <td>12</td>\n",
       "    </tr>\n",
       "  </tbody>\n",
       "</table>\n",
       "</div>"
      ],
      "text/plain": [
       "  imageId labelId taskId\n",
       "0       1       6      5\n",
       "1       2       7      6\n",
       "2       3       8      7\n",
       "3       4      10      9\n",
       "4       5      14     12"
      ]
     },
     "execution_count": 7,
     "metadata": {},
     "output_type": "execute_result"
    }
   ],
   "source": [
    "train_annotations.head(5)"
   ]
  },
  {
   "cell_type": "markdown",
   "metadata": {},
   "source": [
    "# Single Core version"
   ]
  },
  {
   "cell_type": "code",
   "execution_count": null,
   "metadata": {},
   "outputs": [
    {
     "name": "stderr",
     "output_type": "stream",
     "text": [
      "16681it [11:11, 32.15it/s]"
     ]
    }
   ],
   "source": [
    "train_images = []\n",
    "for row in tqdm(train_annotations.iterrows()):\n",
    "    try:\n",
    "        appended = [str(row[1]['imageId']),readImage(str(row[1]['imageId']))]\n",
    "        appended_shape = np.shape(appended[1])\n",
    "        train_images.append(appended+[appended_shape])\n",
    "    except:\n",
    "        x = 1"
   ]
  },
  {
   "cell_type": "code",
   "execution_count": 26,
   "metadata": {},
   "outputs": [
    {
     "data": {
      "text/plain": [
       "[['1', None, ()],\n",
       " ['2', None, ()],\n",
       " ['3', None, ()],\n",
       " ['4', None, ()],\n",
       " ['5', None, ()],\n",
       " ['5', None, ()],\n",
       " ['6', None, ()],\n",
       " ['7', None, ()],\n",
       " ['8', None, ()],\n",
       " ['8', None, ()]]"
      ]
     },
     "execution_count": 26,
     "metadata": {},
     "output_type": "execute_result"
    }
   ],
   "source": [
    "train_images[:10]"
   ]
  },
  {
   "cell_type": "markdown",
   "metadata": {},
   "source": [
    "# Multi-Core version"
   ]
  },
  {
   "cell_type": "code",
   "execution_count": 11,
   "metadata": {},
   "outputs": [],
   "source": [
    "def GetImageDetails(imageId):\n",
    "    try:\n",
    "        appended = [imageId,readImage(imageId)]\n",
    "        appended_shape = np.shape(appended[1])\n",
    "        return(appended+[appended_shape])\n",
    "    except:\n",
    "        x = 1"
   ]
  },
  {
   "cell_type": "code",
   "execution_count": 9,
   "metadata": {
    "collapsed": true
   },
   "outputs": [],
   "source": [
    "train_images = []"
   ]
  },
  {
   "cell_type": "code",
   "execution_count": null,
   "metadata": {},
   "outputs": [
    {
     "name": "stderr",
     "output_type": "stream",
     "text": [
      "Exception in thread Thread-13:\n",
      "Traceback (most recent call last):\n",
      "  File \"/home/ubuntu/anaconda3/envs/tensorflow/lib/python3.5/threading.py\", line 914, in _bootstrap_inner\n",
      "    self.run()\n",
      "  File \"/home/ubuntu/anaconda3/envs/tensorflow/lib/python3.5/threading.py\", line 862, in run\n",
      "    self._target(*self._args, **self._kwargs)\n",
      "  File \"/home/ubuntu/anaconda3/envs/tensorflow/lib/python3.5/multiprocessing/pool.py\", line 429, in _handle_results\n",
      "    task = get()\n",
      "  File \"/home/ubuntu/anaconda3/envs/tensorflow/lib/python3.5/multiprocessing/connection.py\", line 250, in recv\n",
      "    buf = self._recv_bytes()\n",
      "  File \"/home/ubuntu/anaconda3/envs/tensorflow/lib/python3.5/multiprocessing/connection.py\", line 411, in _recv_bytes\n",
      "    return self._recv(size)\n",
      "  File \"/home/ubuntu/anaconda3/envs/tensorflow/lib/python3.5/multiprocessing/connection.py\", line 386, in _recv\n",
      "    buf.write(chunk)\n",
      "MemoryError\n",
      "\n"
     ]
    }
   ],
   "source": [
    "pool = Pool()\n",
    "pool.map_async(GetImageDetails, list(train_annotations['imageId']), callback = train_images.append )\n",
    "pool.close()\n",
    "pool.join()"
   ]
  },
  {
   "cell_type": "code",
   "execution_count": null,
   "metadata": {},
   "outputs": [],
   "source": [
    "len(train_images)"
   ]
  },
  {
   "cell_type": "code",
   "execution_count": null,
   "metadata": {
    "collapsed": true
   },
   "outputs": [],
   "source": []
  }
 ],
 "metadata": {
  "kernelspec": {
   "display_name": "Python 3",
   "language": "python",
   "name": "python3"
  },
  "language_info": {
   "codemirror_mode": {
    "name": "ipython",
    "version": 3
   },
   "file_extension": ".py",
   "mimetype": "text/x-python",
   "name": "python",
   "nbconvert_exporter": "python",
   "pygments_lexer": "ipython3",
   "version": "3.5.3"
  }
 },
 "nbformat": 4,
 "nbformat_minor": 2
}
