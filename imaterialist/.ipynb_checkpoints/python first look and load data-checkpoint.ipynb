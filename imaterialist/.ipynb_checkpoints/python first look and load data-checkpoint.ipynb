{
 "cells": [
  {
   "cell_type": "code",
   "execution_count": 1,
   "metadata": {
    "collapsed": true
   },
   "outputs": [],
   "source": [
    "import pandas as pd\n",
    "import numpy as np\n",
    "#import tensorflow as tf\n",
    "from tqdm import tqdm"
   ]
  },
  {
   "cell_type": "code",
   "execution_count": 2,
   "metadata": {
    "collapsed": true
   },
   "outputs": [],
   "source": [
    "from boto.s3.connection import S3Connection\n",
    "import sys, os\n",
    "import re\n",
    "import json\n",
    "from urllib.request import FancyURLopener\n",
    "import cv2\n",
    "import glob"
   ]
  },
  {
   "cell_type": "code",
   "execution_count": 3,
   "metadata": {
    "collapsed": true
   },
   "outputs": [],
   "source": [
    "KEY_FILE = '..//..//..//data//aws_keys//keys.txt'"
   ]
  },
  {
   "cell_type": "code",
   "execution_count": 4,
   "metadata": {
    "collapsed": true
   },
   "outputs": [],
   "source": [
    "f = open(KEY_FILE,'rb')\n",
    "key_data = str(f.read())\n",
    "keys = re.findall(pattern='\\=([a-zA-Z0-9]*)',string=key_data)"
   ]
  },
  {
   "cell_type": "code",
   "execution_count": 5,
   "metadata": {
    "collapsed": true
   },
   "outputs": [],
   "source": [
    "AWS_KEY = keys[0]\n",
    "AWS_SECRET = keys[1]"
   ]
  },
  {
   "cell_type": "code",
   "execution_count": 6,
   "metadata": {
    "collapsed": true
   },
   "outputs": [],
   "source": [
    "del keys"
   ]
  },
  {
   "cell_type": "code",
   "execution_count": 7,
   "metadata": {
    "collapsed": true
   },
   "outputs": [],
   "source": [
    "BUCKET = 'imaterialist-challenge'\n",
    "PATH_TO_DATA = '..//..//..//data//imaterialist//'"
   ]
  },
  {
   "cell_type": "code",
   "execution_count": 8,
   "metadata": {
    "collapsed": true
   },
   "outputs": [],
   "source": [
    "conn = S3Connection(AWS_KEY, AWS_SECRET)\n",
    "bucket = conn.get_bucket(BUCKET)"
   ]
  },
  {
   "cell_type": "code",
   "execution_count": 9,
   "metadata": {
    "collapsed": true
   },
   "outputs": [],
   "source": [
    "bucket_list = bucket.list()"
   ]
  },
  {
   "cell_type": "code",
   "execution_count": 10,
   "metadata": {
    "collapsed": true
   },
   "outputs": [],
   "source": [
    "files = []"
   ]
  },
  {
   "cell_type": "code",
   "execution_count": 11,
   "metadata": {},
   "outputs": [
    {
     "name": "stderr",
     "output_type": "stream",
     "text": [
<<<<<<< HEAD
      "5it [00:01,  3.06it/s]\n"
=======
      "5it [00:00,  6.73it/s]\n"
>>>>>>> 0e916c286c2df43ea3c4f06a422ba57a2a1682a4
     ]
    }
   ],
   "source": [
    "for l in tqdm(bucket_list):\n",
    "    keyString = str(l.key)\n",
    "    # check if file exists locally, if not: download it\n",
    "    if not os.path.exists(PATH_TO_DATA+keyString):\n",
    "        l.get_contents_to_filename(PATH_TO_DATA+keyString)\n",
    "    files.append(keyString)"
   ]
  },
  {
   "cell_type": "code",
   "execution_count": 12,
   "metadata": {
    "collapsed": true
   },
   "outputs": [],
   "source": [
    "json_data = []"
   ]
  },
  {
   "cell_type": "code",
   "execution_count": 13,
   "metadata": {},
   "outputs": [
    {
     "data": {
      "text/plain": [
       "{'fgvc4_iMat.label_map.json',\n",
       " 'fgvc4_iMat.task_map.json',\n",
       " 'fgvc4_iMat.test.samplesubmission.csv',\n",
       " 'fgvc4_iMat.train.data.json',\n",
       " 'fgvc4_iMat.validation.data.json'}"
      ]
     },
     "execution_count": 13,
     "metadata": {},
     "output_type": "execute_result"
    }
   ],
   "source": [
    "set(files)"
   ]
  },
  {
   "cell_type": "code",
   "execution_count": 14,
   "metadata": {
    "collapsed": true
   },
   "outputs": [],
   "source": [
    "def de_dupe_list(seq): # Order preserving\n",
    "    seen = set()\n",
    "    return [x for x in seq if x not in seen and not seen.add(x)]"
   ]
  },
  {
   "cell_type": "code",
   "execution_count": null,
<<<<<<< HEAD
   "metadata": {
    "collapsed": true
   },
=======
   "metadata": {},
>>>>>>> 0e916c286c2df43ea3c4f06a422ba57a2a1682a4
   "outputs": [],
   "source": []
  },
  {
   "cell_type": "code",
   "execution_count": 15,
   "metadata": {},
   "outputs": [
    {
     "name": "stderr",
     "output_type": "stream",
     "text": [
<<<<<<< HEAD
      " 60%|██████    | 3/5 [00:07<00:04,  2.35s/it]"
=======
      "\r",
      "  0%|          | 0/5 [00:00<?, ?it/s]"
>>>>>>> 0e916c286c2df43ea3c4f06a422ba57a2a1682a4
     ]
    },
    {
     "name": "stdout",
     "output_type": "stream",
     "text": [
      "not csv file\n"
     ]
    },
    {
     "name": "stderr",
     "output_type": "stream",
     "text": [
<<<<<<< HEAD
      "100%|██████████| 5/5 [00:34<00:00,  7.34s/it]\n"
=======
      "100%|██████████| 5/5 [00:00<00:00, 10.33it/s]\n"
>>>>>>> 0e916c286c2df43ea3c4f06a422ba57a2a1682a4
     ]
    }
   ],
   "source": [
    "for file in tqdm(de_dupe_list(files)):\n",
    "    try:\n",
    "        json_data.append(json.loads(open(PATH_TO_DATA+file).read()))\n",
    "    except:\n",
    "        print('not csv file')"
   ]
  },
  {
   "cell_type": "markdown",
   "metadata": {},
   "source": [
    "# get keys"
   ]
  },
  {
   "cell_type": "code",
   "execution_count": 16,
   "metadata": {},
   "outputs": [
    {
     "data": {
      "text/plain": [
<<<<<<< HEAD
       "['info', 'license', 'annotations', 'images']"
=======
       "['images', 'annotations', 'license', 'info']"
>>>>>>> 0e916c286c2df43ea3c4f06a422ba57a2a1682a4
      ]
     },
     "execution_count": 16,
     "metadata": {},
     "output_type": "execute_result"
    }
   ],
   "source": [
    "[k for k in json_data[2]]"
   ]
  },
  {
   "cell_type": "code",
   "execution_count": 17,
   "metadata": {
    "collapsed": true
   },
   "outputs": [],
   "source": [
    "train_data = json_data[2]"
   ]
  },
  {
   "cell_type": "code",
   "execution_count": null,
   "metadata": {
    "collapsed": true
   },
   "outputs": [],
   "source": []
  },
  {
   "cell_type": "code",
   "execution_count": 18,
   "metadata": {},
   "outputs": [
    {
     "data": {
      "text/plain": [
       "{'imageId': '1',\n",
       " 'url': ['http://im28.gulfup.com/2012-04-14/1334424802942.jpg',\n",
       "  'http://productshots0.modcloth.com/productshots/0062/9433/9c957ccc31e39e90c774dfd8351df5e7.jpg?1298662748',\n",
       "  'http://productshots2.modcloth.com/productshots/0062/9433/9c957ccc31e39e90c774dfd8351df5e7.jpg?1298662748',\n",
       "  'http://productshots3.modcloth.com/productshots/0062/9433/9c957ccc31e39e90c774dfd8351df5e7.jpg',\n",
       "  'http://productshots3.modcloth.net/productshots/0062/9433/9c957ccc31e39e90c774dfd8351df5e7.jpg',\n",
       "  'http://productshots3.modcloth.net/productshots/0062/9433/9c957ccc31e39e90c774dfd8351df5e7.jpg?1298662748',\n",
       "  'http://www.canaryrook.com/uploads/products/poema-moments-to-remember-dress_mc509151449.jpg%3F1298662748',\n",
       "  'https://s-media-cache-ak0.pinimg.com/originals/69/ac/48/69ac48e09b6b42ceceec674504306f63.jpg']}"
      ]
     },
     "execution_count": 18,
     "metadata": {},
     "output_type": "execute_result"
    }
   ],
   "source": [
    "train_data['images'][0]"
   ]
  },
  {
   "cell_type": "code",
   "execution_count": 19,
   "metadata": {
    "collapsed": true
   },
   "outputs": [],
   "source": [
    "#url = 'http://productshots0.modcloth.com/productshots/0062/9433/9c957ccc31e39e90c774dfd8351df5e7.jpg?1298662748'\n",
    "url = 'http://im28.gulfup.com/2012-04-14/1334424802942.jpg'"
   ]
  },
  {
   "cell_type": "code",
   "execution_count": 20,
   "metadata": {
    "collapsed": true
   },
   "outputs": [],
   "source": [
    "imageId = '1'"
   ]
  },
  {
   "cell_type": "code",
   "execution_count": 21,
   "metadata": {},
   "outputs": [
    {
     "name": "stderr",
     "output_type": "stream",
     "text": [
      "/home/ubuntu/anaconda3/envs/tensorflow/lib/python3.5/site-packages/ipykernel_launcher.py:4: DeprecationWarning: MyOpener style of invoking requests is deprecated. Use newer urlopen functions/methods\n",
      "  after removing the cwd from sys.path.\n"
     ]
    }
   ],
   "source": [
    "class MyOpener(FancyURLopener):\n",
    "    version = 'Mozilla/5.0 (Windows; U; Windows NT 5.1; it; rv:1.8.1.11) Gecko/20071127 Firefox/2.0.0.11'\n",
    " \n",
    "myopener = MyOpener()"
   ]
  },
  {
   "cell_type": "code",
   "execution_count": 22,
   "metadata": {
    "collapsed": true
   },
   "outputs": [],
   "source": [
    "cv_img = cv2.imread(PATH_TO_DATA+imageId+'.jpg')"
   ]
  },
  {
   "cell_type": "code",
   "execution_count": 23,
   "metadata": {},
   "outputs": [
    {
     "data": {
      "text/plain": [
       "(500, 350, 3)"
      ]
     },
     "execution_count": 23,
     "metadata": {},
     "output_type": "execute_result"
    }
   ],
   "source": [
    "np.shape(cv_img)"
   ]
  },
  {
   "cell_type": "code",
   "execution_count": 24,
   "metadata": {
    "collapsed": true
   },
   "outputs": [],
   "source": [
    "#images.append([ImageLocationToInt(img),cv2.resize(cv_img, (new_dimensions[0],new_dimensions[1]))])"
   ]
  },
  {
   "cell_type": "code",
   "execution_count": 25,
   "metadata": {
    "collapsed": true
   },
   "outputs": [],
   "source": [
    "image_data_clean = []\n",
    "image_data_anomalies = []"
   ]
  },
  {
   "cell_type": "markdown",
   "metadata": {},
   "source": [
    "# handling timeouts"
   ]
  },
  {
   "cell_type": "code",
   "execution_count": 26,
   "metadata": {
    "collapsed": true
   },
   "outputs": [],
   "source": [
    "from functools import wraps\n",
    "import errno\n",
    "import os\n",
    "import signal\n"
   ]
  },
  {
   "cell_type": "code",
   "execution_count": 27,
   "metadata": {
    "collapsed": true
   },
   "outputs": [],
   "source": [
    "class TimeoutError(Exception):\n",
    "    pass\n",
    "\n",
    "def timeout(seconds=10, error_message=os.strerror(errno.ETIME)):\n",
    "    def decorator(func):\n",
    "        def _handle_timeout(signum, frame):\n",
    "            raise TimeoutError(error_message)\n",
    "\n",
    "        def wrapper(*args, **kwargs):\n",
    "            signal.signal(signal.SIGALRM, _handle_timeout)\n",
    "            signal.alarm(seconds)\n",
    "            try:\n",
    "                result = func(*args, **kwargs)\n",
    "            finally:\n",
    "                signal.alarm(0)\n",
    "            return result\n",
    "\n",
    "        return wraps(func)(wrapper)\n",
    "\n",
    "    return decorator"
   ]
  },
  {
   "cell_type": "code",
   "execution_count": 28,
   "metadata": {
    "collapsed": true
   },
   "outputs": [],
   "source": [
    "timeout_param = 1"
   ]
  },
  {
   "cell_type": "code",
   "execution_count": 29,
   "metadata": {
    "collapsed": true
   },
   "outputs": [],
   "source": [
    "@timeout(timeout_param)\n",
    "def getImageFromUrl(url,store_path):\n",
    "    return(myopener.retrieve(url, PATH_TO_DATA+imageId+'.jpg'))\n"
   ]
  },
  {
   "cell_type": "code",
   "execution_count": 30,
   "metadata": {
    "collapsed": true
   },
   "outputs": [],
   "source": [
    "import time"
   ]
  },
  {
   "cell_type": "code",
   "execution_count": 31,
   "metadata": {
    "collapsed": true
   },
   "outputs": [],
   "source": [
    "@timeout(1)\n",
    "def tryFunction():\n",
    "    time.sleep(1.1)\n",
    "    return(1)\n"
   ]
  },
  {
   "cell_type": "code",
   "execution_count": 32,
   "metadata": {
    "collapsed": true
   },
   "outputs": [],
   "source": [
    "retrieved_files = glob.glob(PATH_TO_DATA+\"*.jpg\")"
   ]
  },
  {
   "cell_type": "code",
   "execution_count": 33,
<<<<<<< HEAD
   "metadata": {
    "collapsed": true
   },
=======
   "metadata": {},
>>>>>>> 0e916c286c2df43ea3c4f06a422ba57a2a1682a4
   "outputs": [],
   "source": [
    "img_to_string = lambda x: re.sub(pattern='.jpg',repl='',string=re.findall(pattern='[0-9]*.jpg',string=x)[0])"
   ]
  },
  {
   "cell_type": "code",
<<<<<<< HEAD
   "execution_count": 34,
   "metadata": {
    "collapsed": true
   },
=======
   "execution_count": 60,
   "metadata": {},
>>>>>>> 0e916c286c2df43ea3c4f06a422ba57a2a1682a4
   "outputs": [],
   "source": [
    "first_img = np.max([float(img_to_string(img_file)) for img_file in retrieved_files])"
   ]
  },
  {
   "cell_type": "code",
<<<<<<< HEAD
   "execution_count": 35,
=======
   "execution_count": null,
>>>>>>> 0e916c286c2df43ea3c4f06a422ba57a2a1682a4
   "metadata": {},
   "outputs": [
    {
     "name": "stderr",
     "output_type": "stream",
     "text": [
<<<<<<< HEAD
      "100%|██████████| 42029/42029 [1:14:31<00:00,  1.92it/s]  \n"
=======
      "  1%|          | 403/42029 [00:22<47:14, 14.68it/s]"
>>>>>>> 0e916c286c2df43ea3c4f06a422ba57a2a1682a4
     ]
    }
   ],
   "source": [
    "for image in tqdm(train_data['images']):\n",
    "    imageId = image['imageId']\n",
    "    if not os.path.exists(PATH_TO_DATA+imageId+\".jpg\") and float(imageId) >= first_img:\n",
    "        for url in image['url']:\n",
    "            try:\n",
    "                # download image\n",
    "                getImageFromUrl(url, PATH_TO_DATA+imageId+'.jpg')\n",
    "                # retrieve image\n",
    "                cv_img = cv2.imread(PATH_TO_DATA+imageId+'.jpg')\n",
    "                # append to data structure\n",
    "                image_data_clean.append([imageId,cv_img])\n",
    "                break\n",
    "            except:\n",
    "                image_data_anomalies.append(imageId)"
<<<<<<< HEAD
   ]
  },
  {
   "cell_type": "code",
   "execution_count": 36,
   "metadata": {
    "collapsed": true
   },
   "outputs": [],
   "source": [
    "stored_image_ids = [float(img_to_string(img_file)) for img_file in retrieved_files]"
   ]
  },
  {
   "cell_type": "code",
   "execution_count": 42,
   "metadata": {
    "collapsed": true
   },
   "outputs": [],
   "source": [
    "stored_image_ids_set = set(stored_image_ids)"
   ]
  },
  {
   "cell_type": "code",
   "execution_count": 40,
   "metadata": {
    "collapsed": true
   },
   "outputs": [],
   "source": [
    "max_id = np.max(stored_image_ids)"
   ]
  },
  {
   "cell_type": "code",
   "execution_count": 43,
   "metadata": {},
   "outputs": [],
   "source": [
    "missing_ids = [ x for x in list(range(int(max_id))) if x not in stored_image_ids_set ]"
   ]
  },
  {
   "cell_type": "code",
   "execution_count": 44,
   "metadata": {},
   "outputs": [
    {
     "data": {
      "text/plain": [
       "904"
      ]
     },
     "execution_count": 44,
     "metadata": {},
     "output_type": "execute_result"
    }
   ],
   "source": [
    "len(missing_ids)"
   ]
  },
  {
   "cell_type": "markdown",
   "metadata": {},
   "source": [
    "# 903 missing ids (0 doesn't count)"
   ]
  },
  {
   "cell_type": "code",
   "execution_count": 45,
   "metadata": {},
   "outputs": [
    {
     "data": {
      "text/plain": [
       "[0, 56, 148, 213, 258, 272, 314, 315, 352, 403]"
      ]
     },
     "execution_count": 45,
     "metadata": {},
     "output_type": "execute_result"
    }
   ],
   "source": [
    "missing_ids[:10]"
   ]
  },
  {
   "cell_type": "markdown",
   "metadata": {},
   "source": [
    "# Checking ID: 56, image doesn't exist anymore"
=======
>>>>>>> 0e916c286c2df43ea3c4f06a422ba57a2a1682a4
   ]
  },
  {
   "cell_type": "code",
   "execution_count": null,
   "metadata": {
    "collapsed": true
   },
   "outputs": [],
   "source": []
  }
 ],
 "metadata": {
  "kernelspec": {
   "display_name": "Python 3",
   "language": "python",
   "name": "python3"
  },
  "language_info": {
   "codemirror_mode": {
    "name": "ipython",
    "version": 3
   },
   "file_extension": ".py",
   "mimetype": "text/x-python",
   "name": "python",
   "nbconvert_exporter": "python",
   "pygments_lexer": "ipython3",
   "version": "3.5.3"
  }
 },
 "nbformat": 4,
 "nbformat_minor": 2
}
