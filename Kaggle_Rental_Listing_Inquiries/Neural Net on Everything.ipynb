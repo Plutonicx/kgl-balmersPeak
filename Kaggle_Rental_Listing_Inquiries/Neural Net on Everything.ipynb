{
 "cells": [
  {
   "cell_type": "code",
   "execution_count": 1,
   "metadata": {
    "collapsed": false
   },
   "outputs": [
    {
     "name": "stderr",
     "output_type": "stream",
     "text": [
      "Using TensorFlow backend.\n"
     ]
    }
   ],
   "source": [
    "import numpy as np\n",
    "import pandas as pd\n",
    "import matplotlib.pyplot as plt\n",
    "from tqdm import tqdm\n",
    "\n",
    "import pickle\n",
    "import feather\n",
    "import tensorflow as tf\n",
    "\n",
    "from keras.layers import Input, Embedding, LSTM, Dense, merge\n",
    "from keras.models import Model\n",
    "from keras.models import Sequential\n",
    "from keras.layers import Input, Dropout, Flatten, Convolution2D, MaxPooling2D, Dense, Activation\n",
    "from keras.layers import Convolution1D, GlobalMaxPooling1D, MaxPooling1D\n",
    "from keras.layers import Embedding\n",
    "from keras.optimizers import RMSprop\n",
    "from keras.callbacks import ModelCheckpoint, Callback, EarlyStopping\n",
    "from keras.utils import np_utils\n",
    "from IPython.display import SVG\n",
    "from keras.utils.visualize_util import plot\n",
    "from keras.utils.visualize_util import model_to_dot\n",
    "from keras.preprocessing import text\n",
    "from keras.preprocessing import sequence\n",
    "\n",
    "from keras_tqdm import TQDMNotebookCallback\n",
    "\n",
    "from sklearn import metrics"
   ]
  },
  {
   "cell_type": "code",
   "execution_count": 2,
   "metadata": {
    "collapsed": true
   },
   "outputs": [],
   "source": [
    "def MapInterestToVector(interest_level):\n",
    "    if interest_level == 'low':\n",
    "        return [1,0,0]\n",
    "    elif interest_level == 'medium':\n",
    "        return [0,1,0]\n",
    "    elif interest_level == 'high':\n",
    "        return [0,0,1]\n",
    "    else:\n",
    "        return [0,0,0]"
   ]
  },
  {
   "cell_type": "code",
   "execution_count": 3,
   "metadata": {
    "collapsed": true
   },
   "outputs": [],
   "source": [
    "#training_frame = pickle.load( open( '../../Data/RentalListingData/training_set_with_images_and_features.pkl', 'rb' ) )\n",
    "training_frame = feather.read_dataframe(path='../../Data/RentalListingData/first_dataframe_train_with_feature_clusters')\n",
    "training_frame['interest_vector'] = training_frame['interest_level'].apply(MapInterestToVector)"
   ]
  },
  {
   "cell_type": "code",
   "execution_count": 4,
   "metadata": {
    "collapsed": false
   },
   "outputs": [],
   "source": [
    "training_y = list(training_frame['interest_vector'])\n",
    "training_y = np.array(training_y).astype(float)"
   ]
  },
  {
   "cell_type": "code",
   "execution_count": 5,
   "metadata": {
    "collapsed": true
   },
   "outputs": [],
   "source": [
    "max_features = 4000\n",
    "maxlen = 250\n",
    "batch_size = 32\n",
    "embedding_dims = 60\n",
    "nb_filter = 250\n",
    "filter_length = 3\n",
    "hidden_dims = 250\n",
    "nb_epoch = 2"
   ]
  },
  {
   "cell_type": "code",
   "execution_count": 6,
   "metadata": {
    "collapsed": false
   },
   "outputs": [],
   "source": [
    "training_descriptions = list(training_frame['description'])\n",
    "word_tokens = text.Tokenizer(max_features, lower=True, split=\" \")\n",
    "word_tokens.fit_on_texts(training_descriptions)\n",
    "text_seqs = word_tokens.texts_to_sequences(training_descriptions)\n",
    "text_matrix = word_tokens.texts_to_matrix(training_descriptions)"
   ]
  },
  {
   "cell_type": "code",
   "execution_count": 7,
   "metadata": {
    "collapsed": false
   },
   "outputs": [],
   "source": [
    "seq_train = sequence.pad_sequences(text_seqs, maxlen=maxlen)"
   ]
  },
  {
   "cell_type": "code",
   "execution_count": 8,
   "metadata": {
    "collapsed": false
   },
   "outputs": [],
   "source": [
    "training_x = np.array(training_frame.ix[:,[1,2,7,8,11]+list(range(15,876))]).astype(float)"
   ]
  },
  {
   "cell_type": "code",
   "execution_count": 9,
   "metadata": {
    "collapsed": false
   },
   "outputs": [
    {
     "data": {
      "text/plain": [
       "(49352, 866)"
      ]
     },
     "execution_count": 9,
     "metadata": {},
     "output_type": "execute_result"
    }
   ],
   "source": [
    "np.shape(training_x)"
   ]
  },
  {
   "cell_type": "code",
   "execution_count": 55,
   "metadata": {
    "collapsed": false
   },
   "outputs": [],
   "source": [
    "optimizer = RMSprop(lr=1e-4)\n",
    "objective = 'binary_crossentropy'\n",
    "\n",
    "\n",
    "text_seq_input =  Input(shape=(250,), name = 'text_seq_input')\n",
    "text_matrix_input = Input(shape=(4000,), name = 'text_matrix_input')\n",
    "clustered_input = Input(shape=(866,), name = 'clustered_input')\n",
    "\n",
    "model_1 = Embedding(max_features,\n",
    "                    embedding_dims,\n",
    "                    input_length=maxlen,\n",
    "                    dropout=0.1)(text_seq_input)\n",
    "\n",
    "#model.add(LSTM(32, input_shape=(10, 64)))\n",
    "\n",
    "#model.add(LSTM(16))\n",
    "\n",
    "model_1 = Convolution1D(nb_filter=nb_filter,\n",
    "                        filter_length=5,\n",
    "                        border_mode='valid',\n",
    "                        activation='relu',\n",
    "                        subsample_length=2)(model_1)\n",
    "\n",
    "# model = MaxPooling1D(pool_length=2, border_mode='valid')(model)\n",
    "\n",
    "# model = Convolution1D(nb_filter=120,\n",
    "#                         filter_length=5,\n",
    "#                         border_mode='valid',\n",
    "#                         activation='relu',\n",
    "#                         subsample_length=2)(model)\n",
    "\n",
    "# model = MaxPooling1D(pool_length=2, border_mode='valid')(model)\n",
    "\n",
    "# model = Convolution1D(nb_filter=60,\n",
    "#                         filter_length=5,\n",
    "#                         border_mode='valid',\n",
    "#                         activation='relu',\n",
    "#                         subsample_length=1)(model)\n",
    "\n",
    "\n",
    "#model_1 = GlobalMaxPooling1D()(model_1)\n",
    "model_1 = MaxPooling1D(pool_length=2, border_mode='valid')(model_1)\n",
    "\n",
    "\n",
    "model_1 = Dense(250, activation='relu')(model_1)\n",
    "model_1 = Dropout(0.2)(model_1)\n",
    "\n",
    "model_1_out = Flatten()(model_1)\n",
    "# model = Activation('relu')(model)\n",
    "\n",
    "aux_1_output = Dense(3, activation = 'softmax', name = 'aux_1_out')(model_1_out)\n",
    "\n",
    "# model.add(Dense(120))\n",
    "# model.add(Dropout(0.2))\n",
    "# model.add(Activation('relu'))\n",
    "\n",
    "model_2 = Dense(250, activation='sigmoid')(clustered_input)\n",
    "model_2_out = Dropout(0.2)(model_2)\n",
    "\n",
    "aux_2_output = Dense(3, activation = 'softmax', name = 'aux_2_out')(model_2_out)\n",
    "\n",
    "\n",
    "model_3 = Dense(500, activation = 'sigmoid')(text_matrix_input)\n",
    "model_3 = Dropout(0.5)(model_3)\n",
    "\n",
    "model_3 = Dense(50, activation = 'sigmoid')(model_3)\n",
    "model_3 = Dropout(0.3)(model_3)\n",
    "\n",
    "model_3 = Dense(120, activation = 'relu')(model_3)\n",
    "model_3_out = Dropout(0.6)(model_3)\n",
    "\n",
    "aux_3_output = Dense(3, activation = 'softmax', name = 'aux_3_out')(model_3_out)\n",
    "\n",
    "\n",
    "#model_2_out = Flatten()(model_2)\n",
    "# merge models\n",
    "\n",
    "model = merge([model_1_out, model_2_out, model_3_out], mode='concat')\n",
    "\n",
    "model = Dense(30, activation='tanh')(model)\n",
    "\n",
    "model = Dense(3)(model)\n",
    "model = Activation('softmax')(model)\n",
    "\n",
    "\n",
    "class_model = Model(input = [text_seq_input, clustered_input, text_matrix_input], output = [model, aux_1_output, aux_2_output, aux_3_output])\n",
    "class_model.compile(loss=objective, optimizer=optimizer, metrics=['accuracy'], loss_weights = [0.5, 0.25, 0.25, 0.25])"
   ]
  },
  {
   "cell_type": "code",
   "execution_count": 56,
   "metadata": {
    "collapsed": false
   },
   "outputs": [
    {
     "data": {
      "image/svg+xml": [
       "<svg height=\"775pt\" viewBox=\"0.00 0.00 577.50 775.00\" width=\"578pt\" xmlns=\"http://www.w3.org/2000/svg\" xmlns:xlink=\"http://www.w3.org/1999/xlink\">\n",
       "<g class=\"graph\" id=\"graph0\" transform=\"scale(1 1) rotate(0) translate(4 771)\">\n",
       "<title>G</title>\n",
       "<polygon fill=\"white\" points=\"-4,4 -4,-771 573.5,-771 573.5,4 -4,4\" stroke=\"none\"/>\n",
       "<!-- 2227670027680 -->\n",
       "<g class=\"node\" id=\"node1\"><title>2227670027680</title>\n",
       "<polygon fill=\"none\" points=\"18,-730.5 18,-766.5 185,-766.5 185,-730.5 18,-730.5\" stroke=\"black\"/>\n",
       "<text font-family=\"Times New Roman,serif\" font-size=\"14.00\" text-anchor=\"middle\" x=\"101.5\" y=\"-744.8\">text_seq_input: InputLayer</text>\n",
       "</g>\n",
       "<!-- 2227668792824 -->\n",
       "<g class=\"node\" id=\"node3\"><title>2227668792824</title>\n",
       "<polygon fill=\"none\" points=\"20,-657.5 20,-693.5 183,-693.5 183,-657.5 20,-657.5\" stroke=\"black\"/>\n",
       "<text font-family=\"Times New Roman,serif\" font-size=\"14.00\" text-anchor=\"middle\" x=\"101.5\" y=\"-671.8\">embedding_2: Embedding</text>\n",
       "</g>\n",
       "<!-- 2227670027680&#45;&gt;2227668792824 -->\n",
       "<g class=\"edge\" id=\"edge1\"><title>2227670027680-&gt;2227668792824</title>\n",
       "<path d=\"M101.5,-730.313C101.5,-722.289 101.5,-712.547 101.5,-703.569\" fill=\"none\" stroke=\"black\"/>\n",
       "<polygon fill=\"black\" points=\"105,-703.529 101.5,-693.529 98.0001,-703.529 105,-703.529\" stroke=\"black\"/>\n",
       "</g>\n",
       "<!-- 2227670027792 -->\n",
       "<g class=\"node\" id=\"node2\"><title>2227670027792</title>\n",
       "<polygon fill=\"none\" points=\"387.5,-730.5 387.5,-766.5 569.5,-766.5 569.5,-730.5 387.5,-730.5\" stroke=\"black\"/>\n",
       "<text font-family=\"Times New Roman,serif\" font-size=\"14.00\" text-anchor=\"middle\" x=\"478.5\" y=\"-744.8\">text_matrix_input: InputLayer</text>\n",
       "</g>\n",
       "<!-- 2227676648280 -->\n",
       "<g class=\"node\" id=\"node4\"><title>2227676648280</title>\n",
       "<polygon fill=\"none\" points=\"423,-657.5 423,-693.5 534,-693.5 534,-657.5 423,-657.5\" stroke=\"black\"/>\n",
       "<text font-family=\"Times New Roman,serif\" font-size=\"14.00\" text-anchor=\"middle\" x=\"478.5\" y=\"-671.8\">dense_10: Dense</text>\n",
       "</g>\n",
       "<!-- 2227670027792&#45;&gt;2227676648280 -->\n",
       "<g class=\"edge\" id=\"edge2\"><title>2227670027792-&gt;2227676648280</title>\n",
       "<path d=\"M478.5,-730.313C478.5,-722.289 478.5,-712.547 478.5,-703.569\" fill=\"none\" stroke=\"black\"/>\n",
       "<polygon fill=\"black\" points=\"482,-703.529 478.5,-693.529 475,-703.529 482,-703.529\" stroke=\"black\"/>\n",
       "</g>\n",
       "<!-- 2226967330040 -->\n",
       "<g class=\"node\" id=\"node5\"><title>2226967330040</title>\n",
       "<polygon fill=\"none\" points=\"0,-584.5 0,-620.5 203,-620.5 203,-584.5 0,-584.5\" stroke=\"black\"/>\n",
       "<text font-family=\"Times New Roman,serif\" font-size=\"14.00\" text-anchor=\"middle\" x=\"101.5\" y=\"-598.8\">convolution1d_2: Convolution1D</text>\n",
       "</g>\n",
       "<!-- 2227668792824&#45;&gt;2226967330040 -->\n",
       "<g class=\"edge\" id=\"edge3\"><title>2227668792824-&gt;2226967330040</title>\n",
       "<path d=\"M101.5,-657.313C101.5,-649.289 101.5,-639.547 101.5,-630.569\" fill=\"none\" stroke=\"black\"/>\n",
       "<polygon fill=\"black\" points=\"105,-630.529 101.5,-620.529 98.0001,-630.529 105,-630.529\" stroke=\"black\"/>\n",
       "</g>\n",
       "<!-- 2227674545400 -->\n",
       "<g class=\"node\" id=\"node6\"><title>2227674545400</title>\n",
       "<polygon fill=\"none\" points=\"413.5,-584.5 413.5,-620.5 543.5,-620.5 543.5,-584.5 413.5,-584.5\" stroke=\"black\"/>\n",
       "<text font-family=\"Times New Roman,serif\" font-size=\"14.00\" text-anchor=\"middle\" x=\"478.5\" y=\"-598.8\">dropout_8: Dropout</text>\n",
       "</g>\n",
       "<!-- 2227676648280&#45;&gt;2227674545400 -->\n",
       "<g class=\"edge\" id=\"edge4\"><title>2227676648280-&gt;2227674545400</title>\n",
       "<path d=\"M478.5,-657.313C478.5,-649.289 478.5,-639.547 478.5,-630.569\" fill=\"none\" stroke=\"black\"/>\n",
       "<polygon fill=\"black\" points=\"482,-630.529 478.5,-620.529 475,-630.529 482,-630.529\" stroke=\"black\"/>\n",
       "</g>\n",
       "<!-- 2227667472456 -->\n",
       "<g class=\"node\" id=\"node7\"><title>2227667472456</title>\n",
       "<polygon fill=\"none\" points=\"1,-511.5 1,-547.5 202,-547.5 202,-511.5 1,-511.5\" stroke=\"black\"/>\n",
       "<text font-family=\"Times New Roman,serif\" font-size=\"14.00\" text-anchor=\"middle\" x=\"101.5\" y=\"-525.8\">maxpooling1d_2: MaxPooling1D</text>\n",
       "</g>\n",
       "<!-- 2226967330040&#45;&gt;2227667472456 -->\n",
       "<g class=\"edge\" id=\"edge5\"><title>2226967330040-&gt;2227667472456</title>\n",
       "<path d=\"M101.5,-584.313C101.5,-576.289 101.5,-566.547 101.5,-557.569\" fill=\"none\" stroke=\"black\"/>\n",
       "<polygon fill=\"black\" points=\"105,-557.529 101.5,-547.529 98.0001,-557.529 105,-557.529\" stroke=\"black\"/>\n",
       "</g>\n",
       "<!-- 2227676909352 -->\n",
       "<g class=\"node\" id=\"node8\"><title>2227676909352</title>\n",
       "<polygon fill=\"none\" points=\"423,-511.5 423,-547.5 534,-547.5 534,-511.5 423,-511.5\" stroke=\"black\"/>\n",
       "<text font-family=\"Times New Roman,serif\" font-size=\"14.00\" text-anchor=\"middle\" x=\"478.5\" y=\"-525.8\">dense_11: Dense</text>\n",
       "</g>\n",
       "<!-- 2227674545400&#45;&gt;2227676909352 -->\n",
       "<g class=\"edge\" id=\"edge6\"><title>2227674545400-&gt;2227676909352</title>\n",
       "<path d=\"M478.5,-584.313C478.5,-576.289 478.5,-566.547 478.5,-557.569\" fill=\"none\" stroke=\"black\"/>\n",
       "<polygon fill=\"black\" points=\"482,-557.529 478.5,-547.529 475,-557.529 482,-557.529\" stroke=\"black\"/>\n",
       "</g>\n",
       "<!-- 2227670158640 -->\n",
       "<g class=\"node\" id=\"node9\"><title>2227670158640</title>\n",
       "<polygon fill=\"none\" points=\"49.5,-438.5 49.5,-474.5 153.5,-474.5 153.5,-438.5 49.5,-438.5\" stroke=\"black\"/>\n",
       "<text font-family=\"Times New Roman,serif\" font-size=\"14.00\" text-anchor=\"middle\" x=\"101.5\" y=\"-452.8\">dense_8: Dense</text>\n",
       "</g>\n",
       "<!-- 2227667472456&#45;&gt;2227670158640 -->\n",
       "<g class=\"edge\" id=\"edge7\"><title>2227667472456-&gt;2227670158640</title>\n",
       "<path d=\"M101.5,-511.313C101.5,-503.289 101.5,-493.547 101.5,-484.569\" fill=\"none\" stroke=\"black\"/>\n",
       "<polygon fill=\"black\" points=\"105,-484.529 101.5,-474.529 98.0001,-484.529 105,-484.529\" stroke=\"black\"/>\n",
       "</g>\n",
       "<!-- 2227677082960 -->\n",
       "<g class=\"node\" id=\"node11\"><title>2227677082960</title>\n",
       "<polygon fill=\"none\" points=\"413.5,-438.5 413.5,-474.5 543.5,-474.5 543.5,-438.5 413.5,-438.5\" stroke=\"black\"/>\n",
       "<text font-family=\"Times New Roman,serif\" font-size=\"14.00\" text-anchor=\"middle\" x=\"478.5\" y=\"-452.8\">dropout_9: Dropout</text>\n",
       "</g>\n",
       "<!-- 2227676909352&#45;&gt;2227677082960 -->\n",
       "<g class=\"edge\" id=\"edge8\"><title>2227676909352-&gt;2227677082960</title>\n",
       "<path d=\"M478.5,-511.313C478.5,-503.289 478.5,-493.547 478.5,-484.569\" fill=\"none\" stroke=\"black\"/>\n",
       "<polygon fill=\"black\" points=\"482,-484.529 478.5,-474.529 475,-484.529 482,-484.529\" stroke=\"black\"/>\n",
       "</g>\n",
       "<!-- 2227382918560 -->\n",
       "<g class=\"node\" id=\"node12\"><title>2227382918560</title>\n",
       "<polygon fill=\"none\" points=\"36.5,-365.5 36.5,-401.5 166.5,-401.5 166.5,-365.5 36.5,-365.5\" stroke=\"black\"/>\n",
       "<text font-family=\"Times New Roman,serif\" font-size=\"14.00\" text-anchor=\"middle\" x=\"101.5\" y=\"-379.8\">dropout_6: Dropout</text>\n",
       "</g>\n",
       "<!-- 2227670158640&#45;&gt;2227382918560 -->\n",
       "<g class=\"edge\" id=\"edge9\"><title>2227670158640-&gt;2227382918560</title>\n",
       "<path d=\"M101.5,-438.313C101.5,-430.289 101.5,-420.547 101.5,-411.569\" fill=\"none\" stroke=\"black\"/>\n",
       "<polygon fill=\"black\" points=\"105,-411.529 101.5,-401.529 98.0001,-411.529 105,-411.529\" stroke=\"black\"/>\n",
       "</g>\n",
       "<!-- 2227382907568 -->\n",
       "<g class=\"node\" id=\"node10\"><title>2227382907568</title>\n",
       "<polygon fill=\"none\" points=\"207.5,-438.5 207.5,-474.5 377.5,-474.5 377.5,-438.5 207.5,-438.5\" stroke=\"black\"/>\n",
       "<text font-family=\"Times New Roman,serif\" font-size=\"14.00\" text-anchor=\"middle\" x=\"292.5\" y=\"-452.8\">clustered_input: InputLayer</text>\n",
       "</g>\n",
       "<!-- 2227670535920 -->\n",
       "<g class=\"node\" id=\"node13\"><title>2227670535920</title>\n",
       "<polygon fill=\"none\" points=\"240.5,-365.5 240.5,-401.5 344.5,-401.5 344.5,-365.5 240.5,-365.5\" stroke=\"black\"/>\n",
       "<text font-family=\"Times New Roman,serif\" font-size=\"14.00\" text-anchor=\"middle\" x=\"292.5\" y=\"-379.8\">dense_9: Dense</text>\n",
       "</g>\n",
       "<!-- 2227382907568&#45;&gt;2227670535920 -->\n",
       "<g class=\"edge\" id=\"edge10\"><title>2227382907568-&gt;2227670535920</title>\n",
       "<path d=\"M292.5,-438.313C292.5,-430.289 292.5,-420.547 292.5,-411.569\" fill=\"none\" stroke=\"black\"/>\n",
       "<polygon fill=\"black\" points=\"296,-411.529 292.5,-401.529 289,-411.529 296,-411.529\" stroke=\"black\"/>\n",
       "</g>\n",
       "<!-- 2228755733920 -->\n",
       "<g class=\"node\" id=\"node14\"><title>2228755733920</title>\n",
       "<polygon fill=\"none\" points=\"423,-365.5 423,-401.5 534,-401.5 534,-365.5 423,-365.5\" stroke=\"black\"/>\n",
       "<text font-family=\"Times New Roman,serif\" font-size=\"14.00\" text-anchor=\"middle\" x=\"478.5\" y=\"-379.8\">dense_12: Dense</text>\n",
       "</g>\n",
       "<!-- 2227677082960&#45;&gt;2228755733920 -->\n",
       "<g class=\"edge\" id=\"edge11\"><title>2227677082960-&gt;2228755733920</title>\n",
       "<path d=\"M478.5,-438.313C478.5,-430.289 478.5,-420.547 478.5,-411.569\" fill=\"none\" stroke=\"black\"/>\n",
       "<polygon fill=\"black\" points=\"482,-411.529 478.5,-401.529 475,-411.529 482,-411.529\" stroke=\"black\"/>\n",
       "</g>\n",
       "<!-- 2227670616888 -->\n",
       "<g class=\"node\" id=\"node15\"><title>2227670616888</title>\n",
       "<polygon fill=\"none\" points=\"47,-292.5 47,-328.5 156,-328.5 156,-292.5 47,-292.5\" stroke=\"black\"/>\n",
       "<text font-family=\"Times New Roman,serif\" font-size=\"14.00\" text-anchor=\"middle\" x=\"101.5\" y=\"-306.8\">flatten_2: Flatten</text>\n",
       "</g>\n",
       "<!-- 2227382918560&#45;&gt;2227670616888 -->\n",
       "<g class=\"edge\" id=\"edge12\"><title>2227382918560-&gt;2227670616888</title>\n",
       "<path d=\"M101.5,-365.313C101.5,-357.289 101.5,-347.547 101.5,-338.569\" fill=\"none\" stroke=\"black\"/>\n",
       "<polygon fill=\"black\" points=\"105,-338.529 101.5,-328.529 98.0001,-338.529 105,-338.529\" stroke=\"black\"/>\n",
       "</g>\n",
       "<!-- 2227674494624 -->\n",
       "<g class=\"node\" id=\"node16\"><title>2227674494624</title>\n",
       "<polygon fill=\"none\" points=\"227.5,-292.5 227.5,-328.5 357.5,-328.5 357.5,-292.5 227.5,-292.5\" stroke=\"black\"/>\n",
       "<text font-family=\"Times New Roman,serif\" font-size=\"14.00\" text-anchor=\"middle\" x=\"292.5\" y=\"-306.8\">dropout_7: Dropout</text>\n",
       "</g>\n",
       "<!-- 2227670535920&#45;&gt;2227674494624 -->\n",
       "<g class=\"edge\" id=\"edge13\"><title>2227670535920-&gt;2227674494624</title>\n",
       "<path d=\"M292.5,-365.313C292.5,-357.289 292.5,-347.547 292.5,-338.569\" fill=\"none\" stroke=\"black\"/>\n",
       "<polygon fill=\"black\" points=\"296,-338.529 292.5,-328.529 289,-338.529 296,-338.529\" stroke=\"black\"/>\n",
       "</g>\n",
       "<!-- 2228755776736 -->\n",
       "<g class=\"node\" id=\"node17\"><title>2228755776736</title>\n",
       "<polygon fill=\"none\" points=\"410,-292.5 410,-328.5 547,-328.5 547,-292.5 410,-292.5\" stroke=\"black\"/>\n",
       "<text font-family=\"Times New Roman,serif\" font-size=\"14.00\" text-anchor=\"middle\" x=\"478.5\" y=\"-306.8\">dropout_10: Dropout</text>\n",
       "</g>\n",
       "<!-- 2228755733920&#45;&gt;2228755776736 -->\n",
       "<g class=\"edge\" id=\"edge14\"><title>2228755733920-&gt;2228755776736</title>\n",
       "<path d=\"M478.5,-365.313C478.5,-357.289 478.5,-347.547 478.5,-338.569\" fill=\"none\" stroke=\"black\"/>\n",
       "<polygon fill=\"black\" points=\"482,-338.529 478.5,-328.529 475,-338.529 482,-338.529\" stroke=\"black\"/>\n",
       "</g>\n",
       "<!-- 2228760665952 -->\n",
       "<g class=\"node\" id=\"node18\"><title>2228760665952</title>\n",
       "<polygon fill=\"none\" points=\"169,-219.5 169,-255.5 276,-255.5 276,-219.5 169,-219.5\" stroke=\"black\"/>\n",
       "<text font-family=\"Times New Roman,serif\" font-size=\"14.00\" text-anchor=\"middle\" x=\"222.5\" y=\"-233.8\">merge_2: Merge</text>\n",
       "</g>\n",
       "<!-- 2227670616888&#45;&gt;2228760665952 -->\n",
       "<g class=\"edge\" id=\"edge15\"><title>2227670616888-&gt;2228760665952</title>\n",
       "<path d=\"M130.483,-292.494C146.677,-282.991 167.051,-271.036 184.509,-260.792\" fill=\"none\" stroke=\"black\"/>\n",
       "<polygon fill=\"black\" points=\"186.481,-263.693 193.335,-255.614 182.938,-257.656 186.481,-263.693\" stroke=\"black\"/>\n",
       "</g>\n",
       "<!-- 2227670652520 -->\n",
       "<g class=\"node\" id=\"node22\"><title>2227670652520</title>\n",
       "<polygon fill=\"none\" points=\"34,-219.5 34,-255.5 151,-255.5 151,-219.5 34,-219.5\" stroke=\"black\"/>\n",
       "<text font-family=\"Times New Roman,serif\" font-size=\"14.00\" text-anchor=\"middle\" x=\"92.5\" y=\"-233.8\">aux_1_out: Dense</text>\n",
       "</g>\n",
       "<!-- 2227670616888&#45;&gt;2227670652520 -->\n",
       "<g class=\"edge\" id=\"edge21\"><title>2227670616888-&gt;2227670652520</title>\n",
       "<path d=\"M99.3214,-292.313C98.3043,-284.289 97.0694,-274.547 95.9313,-265.569\" fill=\"none\" stroke=\"black\"/>\n",
       "<polygon fill=\"black\" points=\"99.3884,-265.009 94.6586,-255.529 92.444,-265.89 99.3884,-265.009\" stroke=\"black\"/>\n",
       "</g>\n",
       "<!-- 2227674494624&#45;&gt;2228760665952 -->\n",
       "<g class=\"edge\" id=\"edge16\"><title>2227674494624-&gt;2228760665952</title>\n",
       "<path d=\"M275.555,-292.313C266.785,-283.417 255.932,-272.409 246.331,-262.672\" fill=\"none\" stroke=\"black\"/>\n",
       "<polygon fill=\"black\" points=\"248.802,-260.193 239.289,-255.529 243.817,-265.107 248.802,-260.193\" stroke=\"black\"/>\n",
       "</g>\n",
       "<!-- 2227674543048 -->\n",
       "<g class=\"node\" id=\"node23\"><title>2227674543048</title>\n",
       "<polygon fill=\"none\" points=\"294,-219.5 294,-255.5 411,-255.5 411,-219.5 294,-219.5\" stroke=\"black\"/>\n",
       "<text font-family=\"Times New Roman,serif\" font-size=\"14.00\" text-anchor=\"middle\" x=\"352.5\" y=\"-233.8\">aux_2_out: Dense</text>\n",
       "</g>\n",
       "<!-- 2227674494624&#45;&gt;2227674543048 -->\n",
       "<g class=\"edge\" id=\"edge22\"><title>2227674494624-&gt;2227674543048</title>\n",
       "<path d=\"M307.024,-292.313C314.394,-283.592 323.48,-272.84 331.588,-263.246\" fill=\"none\" stroke=\"black\"/>\n",
       "<polygon fill=\"black\" points=\"334.328,-265.426 338.109,-255.529 328.982,-260.908 334.328,-265.426\" stroke=\"black\"/>\n",
       "</g>\n",
       "<!-- 2228755776736&#45;&gt;2228760665952 -->\n",
       "<g class=\"edge\" id=\"edge17\"><title>2228755776736-&gt;2228760665952</title>\n",
       "<path d=\"M416.441,-292.488C380.732,-282.675 334.76,-270.003 286.041,-256.424\" fill=\"none\" stroke=\"black\"/>\n",
       "<polygon fill=\"black\" points=\"286.836,-253.012 276.263,-253.696 284.955,-259.754 286.836,-253.012\" stroke=\"black\"/>\n",
       "</g>\n",
       "<!-- 2228756048528 -->\n",
       "<g class=\"node\" id=\"node24\"><title>2228756048528</title>\n",
       "<polygon fill=\"none\" points=\"429,-219.5 429,-255.5 546,-255.5 546,-219.5 429,-219.5\" stroke=\"black\"/>\n",
       "<text font-family=\"Times New Roman,serif\" font-size=\"14.00\" text-anchor=\"middle\" x=\"487.5\" y=\"-233.8\">aux_3_out: Dense</text>\n",
       "</g>\n",
       "<!-- 2228755776736&#45;&gt;2228756048528 -->\n",
       "<g class=\"edge\" id=\"edge23\"><title>2228755776736-&gt;2228756048528</title>\n",
       "<path d=\"M480.679,-292.313C481.696,-284.289 482.931,-274.547 484.069,-265.569\" fill=\"none\" stroke=\"black\"/>\n",
       "<polygon fill=\"black\" points=\"487.556,-265.89 485.341,-255.529 480.612,-265.009 487.556,-265.89\" stroke=\"black\"/>\n",
       "</g>\n",
       "<!-- 2228760750120 -->\n",
       "<g class=\"node\" id=\"node19\"><title>2228760750120</title>\n",
       "<polygon fill=\"none\" points=\"167,-146.5 167,-182.5 278,-182.5 278,-146.5 167,-146.5\" stroke=\"black\"/>\n",
       "<text font-family=\"Times New Roman,serif\" font-size=\"14.00\" text-anchor=\"middle\" x=\"222.5\" y=\"-160.8\">dense_13: Dense</text>\n",
       "</g>\n",
       "<!-- 2228760665952&#45;&gt;2228760750120 -->\n",
       "<g class=\"edge\" id=\"edge18\"><title>2228760665952-&gt;2228760750120</title>\n",
       "<path d=\"M222.5,-219.313C222.5,-211.289 222.5,-201.547 222.5,-192.569\" fill=\"none\" stroke=\"black\"/>\n",
       "<polygon fill=\"black\" points=\"226,-192.529 222.5,-182.529 219,-192.529 226,-192.529\" stroke=\"black\"/>\n",
       "</g>\n",
       "<!-- 2228760749952 -->\n",
       "<g class=\"node\" id=\"node20\"><title>2228760749952</title>\n",
       "<polygon fill=\"none\" points=\"167,-73.5 167,-109.5 278,-109.5 278,-73.5 167,-73.5\" stroke=\"black\"/>\n",
       "<text font-family=\"Times New Roman,serif\" font-size=\"14.00\" text-anchor=\"middle\" x=\"222.5\" y=\"-87.8\">dense_14: Dense</text>\n",
       "</g>\n",
       "<!-- 2228760750120&#45;&gt;2228760749952 -->\n",
       "<g class=\"edge\" id=\"edge19\"><title>2228760750120-&gt;2228760749952</title>\n",
       "<path d=\"M222.5,-146.313C222.5,-138.289 222.5,-128.547 222.5,-119.569\" fill=\"none\" stroke=\"black\"/>\n",
       "<polygon fill=\"black\" points=\"226,-119.529 222.5,-109.529 219,-119.529 226,-119.529\" stroke=\"black\"/>\n",
       "</g>\n",
       "<!-- 2228782665680 -->\n",
       "<g class=\"node\" id=\"node21\"><title>2228782665680</title>\n",
       "<polygon fill=\"none\" points=\"148.5,-0.5 148.5,-36.5 296.5,-36.5 296.5,-0.5 148.5,-0.5\" stroke=\"black\"/>\n",
       "<text font-family=\"Times New Roman,serif\" font-size=\"14.00\" text-anchor=\"middle\" x=\"222.5\" y=\"-14.8\">activation_2: Activation</text>\n",
       "</g>\n",
       "<!-- 2228760749952&#45;&gt;2228782665680 -->\n",
       "<g class=\"edge\" id=\"edge20\"><title>2228760749952-&gt;2228782665680</title>\n",
       "<path d=\"M222.5,-73.3129C222.5,-65.2895 222.5,-55.5475 222.5,-46.5691\" fill=\"none\" stroke=\"black\"/>\n",
       "<polygon fill=\"black\" points=\"226,-46.5288 222.5,-36.5288 219,-46.5289 226,-46.5288\" stroke=\"black\"/>\n",
       "</g>\n",
       "</g>\n",
       "</svg>"
      ],
      "text/plain": [
       "<IPython.core.display.SVG object>"
      ]
     },
     "execution_count": 56,
     "metadata": {},
     "output_type": "execute_result"
    }
   ],
   "source": [
    "SVG(model_to_dot(class_model).create(prog='dot', format='svg'))"
   ]
  },
  {
   "cell_type": "code",
   "execution_count": 57,
   "metadata": {
    "collapsed": true
   },
   "outputs": [],
   "source": [
    "nb_epoch = 7\n",
    "batch_size = 32\n",
    "\n",
    "## Callback for loss logging per epoch\n",
    "class LossHistory(Callback):\n",
    "    def on_train_begin(self, logs={}):\n",
    "        self.losses = []\n",
    "        self.val_losses = []\n",
    "        \n",
    "    def on_epoch_end(self, batch, logs={}):\n",
    "        self.losses.append(logs.get('loss'))\n",
    "        self.val_losses.append(logs.get('val_loss'))\n",
    "\n",
    "early_stopping = EarlyStopping(monitor='val_loss', patience=4, verbose=1, mode='auto')   \n",
    "history = LossHistory()"
   ]
  },
  {
   "cell_type": "code",
   "execution_count": 58,
   "metadata": {
    "collapsed": false
   },
   "outputs": [],
   "source": [
    "train_indices = list(range(len(training_x)))\n",
    "np.random.shuffle(train_indices)"
   ]
  },
  {
   "cell_type": "code",
   "execution_count": 59,
   "metadata": {
    "collapsed": false
   },
   "outputs": [],
   "source": [
    "p = 0.85"
   ]
  },
  {
   "cell_type": "code",
   "execution_count": 60,
   "metadata": {
    "collapsed": true
   },
   "outputs": [],
   "source": [
    "range_length = int(p*(len(train_indices)))"
   ]
  },
  {
   "cell_type": "code",
   "execution_count": 61,
   "metadata": {
    "collapsed": false
   },
   "outputs": [
    {
     "name": "stderr",
     "output_type": "stream",
     "text": [
      "C:\\Users\\Stoja\\Anaconda3\\envs\\tensorflow2\\lib\\site-packages\\tensorflow\\python\\ops\\gradients_impl.py:91: UserWarning: Converting sparse IndexedSlices to a dense Tensor of unknown shape. This may consume a large amount of memory.\n",
      "  \"Converting sparse IndexedSlices to a dense Tensor of unknown shape. \"\n"
     ]
    },
    {
     "name": "stdout",
     "output_type": "stream",
     "text": [
      "\n"
     ]
    },
    {
     "data": {
      "text/plain": [
       "<keras.callbacks.History at 0x2090f6d1d30>"
      ]
     },
     "execution_count": 61,
     "metadata": {},
     "output_type": "execute_result"
    }
   ],
   "source": [
    "class_model.fit([seq_train[:range_length],training_x[:range_length],text_matrix[:range_length]], [training_y[:range_length],training_y[:range_length],training_y[:range_length],training_y[:range_length]], batch_size=batch_size, nb_epoch=nb_epoch,\n",
    "              validation_split=0.05, verbose=0, shuffle=True, callbacks=[TQDMNotebookCallback(leave_inner = True, leave_outer = True), history])"
   ]
  },
  {
   "cell_type": "code",
   "execution_count": 62,
   "metadata": {
    "collapsed": false
   },
   "outputs": [
    {
     "data": {
      "image/png": "[encoded data removed]",
      "text/plain": [
       "<matplotlib.figure.Figure at 0x20902836f60>"
      ]
     },
     "metadata": {},
     "output_type": "display_data"
    }
   ],
   "source": [
    "\n",
    "loss = history.losses\n",
    "val_loss = history.val_losses\n",
    "\n",
    "plt.xlabel('Epochs')\n",
    "plt.ylabel('Loss')\n",
    "plt.title('VGG-16 Loss Trend')\n",
    "plt.plot(loss, 'blue', label='Training Loss')\n",
    "plt.plot(val_loss, 'green', label='Validation Loss')\n",
    "plt.xticks(range(0,nb_epoch)[0::2])\n",
    "plt.legend()\n",
    "plt.show()"
   ]
  },
  {
   "cell_type": "code",
   "execution_count": 88,
   "metadata": {
    "collapsed": false
   },
   "outputs": [],
   "source": [
    "predictions = class_model.predict([seq_train[range_length:],training_x[range_length:],text_matrix[range_length:]], verbose=0)"
   ]
  },
  {
   "cell_type": "code",
   "execution_count": 89,
   "metadata": {
    "collapsed": true
   },
   "outputs": [],
   "source": [
    "predictions = predictions[0]"
   ]
  },
  {
   "cell_type": "code",
   "execution_count": 90,
   "metadata": {
    "collapsed": false
   },
   "outputs": [
    {
     "data": {
      "text/plain": [
       "(7403, 3)"
      ]
     },
     "execution_count": 90,
     "metadata": {},
     "output_type": "execute_result"
    }
   ],
   "source": [
    "np.shape(predictions)"
   ]
  },
  {
   "cell_type": "code",
   "execution_count": 91,
   "metadata": {
    "collapsed": false
   },
   "outputs": [
    {
     "name": "stdout",
     "output_type": "stream",
     "text": [
      "Im not really sure what interest this property yields\n",
      "5692\n",
      "I am 88.50% sure this property yields low interest\n",
      "I was right!\n",
      "5682\n",
      "I am 95.77% sure this property yields low interest\n",
      "I was wrong \n",
      "6616\n",
      "I am 64.36% sure this property yields low interest\n",
      "I was right!\n",
      "2855\n",
      "I am 55.10% sure this property yields medium interest\n",
      "I was wrong \n",
      "4527\n",
      "Im not really sure what interest this property yields\n",
      "2235\n",
      "I am 62.55% sure this property yields low interest\n",
      "I was wrong \n",
      "3395\n",
      "I am 88.37% sure this property yields low interest\n",
      "I was wrong \n",
      "6376\n",
      "I am 62.49% sure this property yields medium interest\n",
      "I was wrong \n",
      "4458\n",
      "I am 50.99% sure this property yields low interest\n",
      "I was right!\n",
      "3298\n",
      "I am 58.58% sure this property yields low interest\n",
      "I was right!\n",
      "7288\n",
      "I am 92.06% sure this property yields low interest\n",
      "I was wrong \n",
      "3965\n",
      "I am 51.84% sure this property yields low interest\n",
      "I was right!\n",
      "2054\n",
      "I am 74.61% sure this property yields low interest\n",
      "I was wrong \n",
      "5919\n",
      "Im not really sure what interest this property yields\n",
      "6889\n"
     ]
    }
   ],
   "source": [
    "indx = 0\n",
    "\n",
    "for i in np.random.randint(0,len(predictions),15):\n",
    "    if predictions[i][0] >= 0.5: \n",
    "        print('I am {:.2%} sure this property yields low interest'.format(predictions[i][0]))\n",
    "        #print('The price on this property is ${0} per month'.format(training_aux_clean[i][0]))\n",
    "        if list(training_y[i]) == [1,0,0]:\n",
    "            print('I was right!')\n",
    "        else:\n",
    "            print('I was wrong ')\n",
    "        print(i)\n",
    "    elif predictions[i][1] >= 0.5:\n",
    "        print('I am {:.2%} sure this property yields medium interest'.format(predictions[i][1]))\n",
    "        #print('The price on this property is ${0} per month'.format(training_aux_clean[i][0]))\n",
    "        if list(training_y[i]) == [0,1,0]:\n",
    "            print('I was right!')\n",
    "        else:\n",
    "            print('I was wrong ')\n",
    "        print(i)\n",
    "    elif predictions[i][2] >= 0.5:\n",
    "        print('I am {:.2%} sure this propertry yields high interest'.format(predictions[i][2]))\n",
    "        #print('The price on this property is ${0} per month'.format(training_aux_clean[i][0]))\n",
    "        if list(training_y[i]) == [0,0,1]:\n",
    "            print('I was right!')\n",
    "        else:\n",
    "            print('I was wrong ')\n",
    "        print(i)\n",
    "    else:\n",
    "        print('Im not really sure what interest this property yields')\n",
    "        print(i)\n",
    "        \n",
    "    \n",
    "#     plt.imshow(training_x_clean[i])\n",
    "#     plt.show()"
   ]
  },
  {
   "cell_type": "code",
   "execution_count": 92,
   "metadata": {
    "collapsed": false
   },
   "outputs": [],
   "source": [
    "fpr = dict()\n",
    "tpr = dict()\n",
    "roc_auc = dict()\n",
    "\n",
    "for i in range(3):\n",
    "    fpr[i], tpr[i], _ = metrics.roc_curve(training_y[range_length:, i], predictions[:, i])\n",
    "    roc_auc[i] = metrics.auc(fpr[i], tpr[i])"
   ]
  },
  {
   "cell_type": "code",
   "execution_count": 93,
   "metadata": {
    "collapsed": false
   },
   "outputs": [
    {
     "data": {
      "text/plain": [
       "{0: 0.76579822568132427, 1: 0.70106073460295315, 2: 0.80430834291609199}"
      ]
     },
     "execution_count": 93,
     "metadata": {},
     "output_type": "execute_result"
    }
   ],
   "source": [
    "roc_auc"
   ]
  },
  {
   "cell_type": "code",
   "execution_count": null,
   "metadata": {
    "collapsed": true
   },
   "outputs": [],
   "source": []
  }
 ],
 "metadata": {
  "anaconda-cloud": {},
  "kernelspec": {
   "display_name": "Python [conda env:tensorflow2]",
   "language": "python",
   "name": "conda-env-tensorflow2-py"
  },
  "language_info": {
   "codemirror_mode": {
    "name": "ipython",
    "version": 3
   },
   "file_extension": ".py",
   "mimetype": "text/x-python",
   "name": "python",
   "nbconvert_exporter": "python",
   "pygments_lexer": "ipython3",
   "version": "3.5.2"
  },
  "widgets": {
   "state": {
    "0c7066552a744d8395346b67ffd35837": {
     "views": [
      {
       "cell_index": 15
      }
     ]
    },
    "0e194e5be2884d069a5f39a2856c1492": {
     "views": [
      {
       "cell_index": 15
      }
     ]
    },
    "13766fc006554562adb91a6c9aa2aa3a": {
     "views": [
      {
       "cell_index": 15
      }
     ]
    },
    "1ea678090e1647978724a9f574be537d": {
     "views": [
      {
       "cell_index": 15
      }
     ]
    },
    "30296cc04b564371ab4b5e97bdb2ac4a": {
     "views": [
      {
       "cell_index": 15
      }
     ]
    },
    "75d595cbafba4290bc1426925435403f": {
     "views": [
      {
       "cell_index": 15
      }
     ]
    },
    "9e146655c9aa474d9b9bfb2913b8175f": {
     "views": [
      {
       "cell_index": 15
      }
     ]
    },
    "a5738511f4ce42399f344f3597444188": {
     "views": [
      {
       "cell_index": 15
      }
     ]
    },
    "c6118944a2f44b2fb2f5708fe90acc68": {
     "views": [
      {
       "cell_index": 15
      }
     ]
    },
    "c79dcfccc25044f8aec5985d89ca8ffb": {
     "views": [
      {
       "cell_index": 15
      }
     ]
    },
    "e3a5cd745a5642d9871af031dd9d73d4": {
     "views": [
      {
       "cell_index": 15
      }
     ]
    },
    "e81f8eceec764d108482afd26f169dfe": {
     "views": [
      {
       "cell_index": 15
      }
     ]
    },
    "f0d00fe041f54fb395e5b4658ca95fff": {
     "views": [
      {
       "cell_index": 15
      }
     ]
    }
   },
   "version": "1.2.0"
  }
 },
 "nbformat": 4,
 "nbformat_minor": 2
}
