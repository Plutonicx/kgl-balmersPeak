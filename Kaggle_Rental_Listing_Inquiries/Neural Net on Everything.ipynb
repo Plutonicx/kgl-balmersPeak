{
 "cells": [
  {
   "cell_type": "code",
   "execution_count": 1,
   "metadata": {
    "collapsed": false
   },
   "outputs": [
    {
     "name": "stderr",
     "output_type": "stream",
     "text": [
      "Using TensorFlow backend.\n"
     ]
    }
   ],
   "source": [
    "import numpy as np\n",
    "import pandas as pd\n",
    "import matplotlib.pyplot as plt\n",
    "from tqdm import tqdm\n",
    "\n",
    "import pickle\n",
    "import feather\n",
    "import tensorflow as tf\n",
    "\n",
    "from keras.layers import Input, Embedding, LSTM, Dense, merge\n",
    "from keras.models import Model\n",
    "from keras.models import Sequential\n",
    "from keras.layers import Input, Dropout, Flatten, Convolution2D, MaxPooling2D, Dense, Activation\n",
    "from keras.layers import Convolution1D, GlobalMaxPooling1D, MaxPooling1D\n",
    "from keras.layers import Embedding\n",
    "from keras.optimizers import RMSprop\n",
    "from keras.callbacks import ModelCheckpoint, Callback, EarlyStopping\n",
    "from keras.utils import np_utils\n",
    "from IPython.display import SVG\n",
    "from keras.utils.visualize_util import plot\n",
    "from keras.utils.visualize_util import model_to_dot\n",
    "from keras.preprocessing import text\n",
    "from keras.preprocessing import sequence\n",
    "\n",
    "from keras_tqdm import TQDMNotebookCallback\n",
    "\n",
    "from sklearn import metrics"
   ]
  },
  {
   "cell_type": "code",
   "execution_count": 2,
   "metadata": {
    "collapsed": true
   },
   "outputs": [],
   "source": [
    "def MapInterestToVector(interest_level):\n",
    "    if interest_level == 'low':\n",
    "        return [1,0,0]\n",
    "    elif interest_level == 'medium':\n",
    "        return [0,1,0]\n",
    "    elif interest_level == 'high':\n",
    "        return [0,0,1]\n",
    "    else:\n",
    "        return [0,0,0]"
   ]
  },
  {
   "cell_type": "code",
   "execution_count": 3,
   "metadata": {
    "collapsed": true
   },
   "outputs": [],
   "source": [
    "#training_frame = pickle.load( open( '../../Data/RentalListingData/training_set_with_images_and_features.pkl', 'rb' ) )\n",
    "training_frame = feather.read_dataframe(path='../../Data/RentalListingData/first_dataframe_train_with_feature_clusters')\n",
    "training_frame['interest_vector'] = training_frame['interest_level'].apply(MapInterestToVector)"
   ]
  },
  {
   "cell_type": "code",
   "execution_count": 4,
   "metadata": {
    "collapsed": false
   },
   "outputs": [],
   "source": [
    "training_y = list(training_frame['interest_vector'])\n",
    "training_y = np.array(training_y).astype(float)"
   ]
  },
  {
   "cell_type": "code",
   "execution_count": 5,
   "metadata": {
    "collapsed": true
   },
   "outputs": [],
   "source": [
    "max_features = 4000\n",
    "maxlen = 250\n",
    "batch_size = 32\n",
    "embedding_dims = 60\n",
    "nb_filter = 250\n",
    "filter_length = 3\n",
    "hidden_dims = 250\n",
    "nb_epoch = 2"
   ]
  },
  {
   "cell_type": "code",
   "execution_count": 6,
   "metadata": {
    "collapsed": false
   },
   "outputs": [],
   "source": [
    "training_descriptions = list(training_frame['description'])\n",
    "word_tokens = text.Tokenizer(max_features, lower=True, split=\" \")\n",
    "word_tokens.fit_on_texts(training_descriptions)\n",
    "text_seqs = word_tokens.texts_to_sequences(training_descriptions)\n",
    "text_matrix = word_tokens.texts_to_matrix(training_descriptions)"
   ]
  },
  {
   "cell_type": "code",
   "execution_count": 7,
   "metadata": {
    "collapsed": false
   },
   "outputs": [],
   "source": [
    "seq_train = sequence.pad_sequences(text_seqs, maxlen=maxlen)"
   ]
  },
  {
   "cell_type": "code",
   "execution_count": 8,
   "metadata": {
    "collapsed": false
   },
   "outputs": [],
   "source": [
    "training_x = np.array(training_frame.ix[:,[1,2,7,8,11]+list(range(15,876))]).astype(float)"
   ]
  },
  {
   "cell_type": "code",
   "execution_count": 9,
   "metadata": {
    "collapsed": false
   },
   "outputs": [
    {
     "data": {
      "text/plain": [
       "(49352, 866)"
      ]
     },
     "execution_count": 9,
     "metadata": {},
     "output_type": "execute_result"
    }
   ],
   "source": [
    "np.shape(training_x)"
   ]
  },
  {
   "cell_type": "code",
   "execution_count": 213,
   "metadata": {
    "collapsed": false
   },
   "outputs": [],
   "source": [
    "optimizer = RMSprop(lr=1e-4)\n",
    "objective = 'binary_crossentropy'\n",
    "\n",
    "\n",
    "text_seq_input =  Input(shape=(250,), name = 'text_seq_input')\n",
    "text_matrix_input = Input(shape=(4000,), name = 'text_matrix_input')\n",
    "clustered_input = Input(shape=(866,), name = 'clustered_input')\n",
    "\n",
    "model_1 = Embedding(max_features,\n",
    "                    embedding_dims,\n",
    "                    input_length=maxlen,\n",
    "                    dropout=0.1)(text_seq_input)\n",
    "\n",
    "#model.add(LSTM(32, input_shape=(10, 64)))\n",
    "\n",
    "#model.add(LSTM(16))\n",
    "\n",
    "# model_1 = Convolution1D(nb_filter=nb_filter,\n",
    "#                         filter_length=5,\n",
    "#                         border_mode='valid',\n",
    "#                         activation='relu',\n",
    "#                         subsample_length=2)(model_1)\n",
    "\n",
    "# model_1 = MaxPooling1D(pool_length=2, border_mode='valid')(model_1)\n",
    "\n",
    "model_1 = Convolution1D(nb_filter=120,\n",
    "                        filter_length=4,\n",
    "                        border_mode='valid',\n",
    "                        activation='relu',\n",
    "                        subsample_length=1)(model_1)\n",
    "\n",
    "#model = MaxPooling1D(pool_length=2, border_mode='valid')(model)\n",
    "\n",
    "# model = Convolution1D(nb_filter=60,\n",
    "#                         filter_length=5,\n",
    "#                         border_mode='valid',\n",
    "#                         activation='relu',\n",
    "#                         subsample_length=1)(model)\n",
    "\n",
    "\n",
    "#model_1 = GlobalMaxPooling1D()(model_1)\n",
    "model_1 = MaxPooling1D(pool_length=2, border_mode='valid')(model_1)\n",
    "\n",
    "\n",
    "model_1 = Dense(250, activation='relu')(model_1)\n",
    "model_1 = Dropout(0.25)(model_1)\n",
    "\n",
    "model_1 = Dense(50, activation='relu')(model_1)\n",
    "model_1 = Dropout(0.4)(model_1)\n",
    "\n",
    "model_1_out = Flatten()(model_1)\n",
    "# model = Activation('relu')(model)\n",
    "\n",
    "aux_1_output = Dense(3, activation = 'softmax', name = 'aux_1_out')(model_1_out)\n",
    "\n",
    "# model.add(Dense(120))\n",
    "# model.add(Dropout(0.2))\n",
    "# model.add(Activation('relu'))\n",
    "\n",
    "model_2 = Dense(250, activation='sigmoid')(clustered_input)\n",
    "model_2_out = Dropout(0.2)(model_2)\n",
    "\n",
    "aux_2_output = Dense(3, activation = 'softmax', name = 'aux_2_out')(model_2_out)\n",
    "\n",
    "\n",
    "model_3 = Dense(500, activation = 'sigmoid')(text_matrix_input)\n",
    "model_3 = Dropout(0.5)(model_3)\n",
    "\n",
    "model_3 = Dense(50, activation = 'sigmoid')(model_3)\n",
    "model_3 = Dropout(0.3)(model_3)\n",
    "\n",
    "model_3 = Dense(120, activation = 'relu')(model_3)\n",
    "model_3_out = Dropout(0.6)(model_3)\n",
    "\n",
    "aux_3_output = Dense(3, activation = 'softmax', name = 'aux_3_out')(model_3_out)\n",
    "\n",
    "\n",
    "#model_2_out = Flatten()(model_2)\n",
    "# merge models\n",
    "\n",
    "model = merge([model_1_out, model_2_out, model_3_out], mode='concat')\n",
    "\n",
    "model = Dense(30, activation='tanh')(model)\n",
    "model = Dropout(0.4)(model)\n",
    "\n",
    "model = Dense(3)(model)\n",
    "model = Activation('softmax')(model)\n",
    "\n",
    "\n",
    "class_model = Model(input = [text_seq_input, clustered_input, text_matrix_input], output = [model, aux_1_output, aux_2_output, aux_3_output])\n",
    "class_model.compile(loss=objective, optimizer=optimizer, metrics=['accuracy'], loss_weights = [0.5, 0.25, 0.25, 0.25])"
   ]
  },
  {
   "cell_type": "code",
   "execution_count": 214,
   "metadata": {
    "collapsed": false
   },
   "outputs": [
    {
     "data": {
      "image/svg+xml": [
       "<svg height=\"994pt\" viewBox=\"0.00 0.00 587.00 994.00\" width=\"587pt\" xmlns=\"http://www.w3.org/2000/svg\" xmlns:xlink=\"http://www.w3.org/1999/xlink\">\n",
       "<g class=\"graph\" id=\"graph0\" transform=\"scale(1 1) rotate(0) translate(4 990)\">\n",
       "<title>G</title>\n",
       "<polygon fill=\"white\" points=\"-4,4 -4,-990 583,-990 583,4 -4,4\" stroke=\"none\"/>\n",
       "<!-- 2238506547912 -->\n",
       "<g class=\"node\" id=\"node1\"><title>2238506547912</title>\n",
       "<polygon fill=\"none\" points=\"21.5,-949.5 21.5,-985.5 188.5,-985.5 188.5,-949.5 21.5,-949.5\" stroke=\"black\"/>\n",
       "<text font-family=\"Times New Roman,serif\" font-size=\"14.00\" text-anchor=\"middle\" x=\"105\" y=\"-963.8\">text_seq_input: InputLayer</text>\n",
       "</g>\n",
       "<!-- 2238472604472 -->\n",
       "<g class=\"node\" id=\"node2\"><title>2238472604472</title>\n",
       "<polygon fill=\"none\" points=\"20,-876.5 20,-912.5 190,-912.5 190,-876.5 20,-876.5\" stroke=\"black\"/>\n",
       "<text font-family=\"Times New Roman,serif\" font-size=\"14.00\" text-anchor=\"middle\" x=\"105\" y=\"-890.8\">embedding_20: Embedding</text>\n",
       "</g>\n",
       "<!-- 2238506547912&#45;&gt;2238472604472 -->\n",
       "<g class=\"edge\" id=\"edge1\"><title>2238506547912-&gt;2238472604472</title>\n",
       "<path d=\"M105,-949.313C105,-941.289 105,-931.547 105,-922.569\" fill=\"none\" stroke=\"black\"/>\n",
       "<polygon fill=\"black\" points=\"108.5,-922.529 105,-912.529 101.5,-922.529 108.5,-922.529\" stroke=\"black\"/>\n",
       "</g>\n",
       "<!-- 2238472604192 -->\n",
       "<g class=\"node\" id=\"node3\"><title>2238472604192</title>\n",
       "<polygon fill=\"none\" points=\"0,-803.5 0,-839.5 210,-839.5 210,-803.5 0,-803.5\" stroke=\"black\"/>\n",
       "<text font-family=\"Times New Roman,serif\" font-size=\"14.00\" text-anchor=\"middle\" x=\"105\" y=\"-817.8\">convolution1d_21: Convolution1D</text>\n",
       "</g>\n",
       "<!-- 2238472604472&#45;&gt;2238472604192 -->\n",
       "<g class=\"edge\" id=\"edge2\"><title>2238472604472-&gt;2238472604192</title>\n",
       "<path d=\"M105,-876.313C105,-868.289 105,-858.547 105,-849.569\" fill=\"none\" stroke=\"black\"/>\n",
       "<polygon fill=\"black\" points=\"108.5,-849.529 105,-839.529 101.5,-849.529 108.5,-849.529\" stroke=\"black\"/>\n",
       "</g>\n",
       "<!-- 2238293831128 -->\n",
       "<g class=\"node\" id=\"node5\"><title>2238293831128</title>\n",
       "<polygon fill=\"none\" points=\"1,-730.5 1,-766.5 209,-766.5 209,-730.5 1,-730.5\" stroke=\"black\"/>\n",
       "<text font-family=\"Times New Roman,serif\" font-size=\"14.00\" text-anchor=\"middle\" x=\"105\" y=\"-744.8\">maxpooling1d_21: MaxPooling1D</text>\n",
       "</g>\n",
       "<!-- 2238472604192&#45;&gt;2238293831128 -->\n",
       "<g class=\"edge\" id=\"edge3\"><title>2238472604192-&gt;2238293831128</title>\n",
       "<path d=\"M105,-803.313C105,-795.289 105,-785.547 105,-776.569\" fill=\"none\" stroke=\"black\"/>\n",
       "<polygon fill=\"black\" points=\"108.5,-776.529 105,-766.529 101.5,-776.529 108.5,-776.529\" stroke=\"black\"/>\n",
       "</g>\n",
       "<!-- 2238502587920 -->\n",
       "<g class=\"node\" id=\"node4\"><title>2238502587920</title>\n",
       "<polygon fill=\"none\" points=\"397,-803.5 397,-839.5 579,-839.5 579,-803.5 397,-803.5\" stroke=\"black\"/>\n",
       "<text font-family=\"Times New Roman,serif\" font-size=\"14.00\" text-anchor=\"middle\" x=\"488\" y=\"-817.8\">text_matrix_input: InputLayer</text>\n",
       "</g>\n",
       "<!-- 2238503194184 -->\n",
       "<g class=\"node\" id=\"node6\"><title>2238503194184</title>\n",
       "<polygon fill=\"none\" points=\"432.5,-730.5 432.5,-766.5 543.5,-766.5 543.5,-730.5 432.5,-730.5\" stroke=\"black\"/>\n",
       "<text font-family=\"Times New Roman,serif\" font-size=\"14.00\" text-anchor=\"middle\" x=\"488\" y=\"-744.8\">dense_78: Dense</text>\n",
       "</g>\n",
       "<!-- 2238502587920&#45;&gt;2238503194184 -->\n",
       "<g class=\"edge\" id=\"edge4\"><title>2238502587920-&gt;2238503194184</title>\n",
       "<path d=\"M488,-803.313C488,-795.289 488,-785.547 488,-776.569\" fill=\"none\" stroke=\"black\"/>\n",
       "<polygon fill=\"black\" points=\"491.5,-776.529 488,-766.529 484.5,-776.529 491.5,-776.529\" stroke=\"black\"/>\n",
       "</g>\n",
       "<!-- 2238293949464 -->\n",
       "<g class=\"node\" id=\"node7\"><title>2238293949464</title>\n",
       "<polygon fill=\"none\" points=\"49.5,-657.5 49.5,-693.5 160.5,-693.5 160.5,-657.5 49.5,-657.5\" stroke=\"black\"/>\n",
       "<text font-family=\"Times New Roman,serif\" font-size=\"14.00\" text-anchor=\"middle\" x=\"105\" y=\"-671.8\">dense_75: Dense</text>\n",
       "</g>\n",
       "<!-- 2238293831128&#45;&gt;2238293949464 -->\n",
       "<g class=\"edge\" id=\"edge5\"><title>2238293831128-&gt;2238293949464</title>\n",
       "<path d=\"M105,-730.313C105,-722.289 105,-712.547 105,-703.569\" fill=\"none\" stroke=\"black\"/>\n",
       "<polygon fill=\"black\" points=\"108.5,-703.529 105,-693.529 101.5,-703.529 108.5,-703.529\" stroke=\"black\"/>\n",
       "</g>\n",
       "<!-- 2238503278408 -->\n",
       "<g class=\"node\" id=\"node8\"><title>2238503278408</title>\n",
       "<polygon fill=\"none\" points=\"419.5,-657.5 419.5,-693.5 556.5,-693.5 556.5,-657.5 419.5,-657.5\" stroke=\"black\"/>\n",
       "<text font-family=\"Times New Roman,serif\" font-size=\"14.00\" text-anchor=\"middle\" x=\"488\" y=\"-671.8\">dropout_66: Dropout</text>\n",
       "</g>\n",
       "<!-- 2238503194184&#45;&gt;2238503278408 -->\n",
       "<g class=\"edge\" id=\"edge6\"><title>2238503194184-&gt;2238503278408</title>\n",
       "<path d=\"M488,-730.313C488,-722.289 488,-712.547 488,-703.569\" fill=\"none\" stroke=\"black\"/>\n",
       "<polygon fill=\"black\" points=\"491.5,-703.529 488,-693.529 484.5,-703.529 491.5,-703.529\" stroke=\"black\"/>\n",
       "</g>\n",
       "<!-- 2238295741720 -->\n",
       "<g class=\"node\" id=\"node9\"><title>2238295741720</title>\n",
       "<polygon fill=\"none\" points=\"36.5,-584.5 36.5,-620.5 173.5,-620.5 173.5,-584.5 36.5,-584.5\" stroke=\"black\"/>\n",
       "<text font-family=\"Times New Roman,serif\" font-size=\"14.00\" text-anchor=\"middle\" x=\"105\" y=\"-598.8\">dropout_63: Dropout</text>\n",
       "</g>\n",
       "<!-- 2238293949464&#45;&gt;2238295741720 -->\n",
       "<g class=\"edge\" id=\"edge7\"><title>2238293949464-&gt;2238295741720</title>\n",
       "<path d=\"M105,-657.313C105,-649.289 105,-639.547 105,-630.569\" fill=\"none\" stroke=\"black\"/>\n",
       "<polygon fill=\"black\" points=\"108.5,-630.529 105,-620.529 101.5,-630.529 108.5,-630.529\" stroke=\"black\"/>\n",
       "</g>\n",
       "<!-- 2238503321048 -->\n",
       "<g class=\"node\" id=\"node10\"><title>2238503321048</title>\n",
       "<polygon fill=\"none\" points=\"432.5,-584.5 432.5,-620.5 543.5,-620.5 543.5,-584.5 432.5,-584.5\" stroke=\"black\"/>\n",
       "<text font-family=\"Times New Roman,serif\" font-size=\"14.00\" text-anchor=\"middle\" x=\"488\" y=\"-598.8\">dense_79: Dense</text>\n",
       "</g>\n",
       "<!-- 2238503278408&#45;&gt;2238503321048 -->\n",
       "<g class=\"edge\" id=\"edge8\"><title>2238503278408-&gt;2238503321048</title>\n",
       "<path d=\"M488,-657.313C488,-649.289 488,-639.547 488,-630.569\" fill=\"none\" stroke=\"black\"/>\n",
       "<polygon fill=\"black\" points=\"491.5,-630.529 488,-620.529 484.5,-630.529 491.5,-630.529\" stroke=\"black\"/>\n",
       "</g>\n",
       "<!-- 2238294036376 -->\n",
       "<g class=\"node\" id=\"node11\"><title>2238294036376</title>\n",
       "<polygon fill=\"none\" points=\"49.5,-511.5 49.5,-547.5 160.5,-547.5 160.5,-511.5 49.5,-511.5\" stroke=\"black\"/>\n",
       "<text font-family=\"Times New Roman,serif\" font-size=\"14.00\" text-anchor=\"middle\" x=\"105\" y=\"-525.8\">dense_76: Dense</text>\n",
       "</g>\n",
       "<!-- 2238295741720&#45;&gt;2238294036376 -->\n",
       "<g class=\"edge\" id=\"edge9\"><title>2238295741720-&gt;2238294036376</title>\n",
       "<path d=\"M105,-584.313C105,-576.289 105,-566.547 105,-557.569\" fill=\"none\" stroke=\"black\"/>\n",
       "<polygon fill=\"black\" points=\"108.5,-557.529 105,-547.529 101.5,-557.529 108.5,-557.529\" stroke=\"black\"/>\n",
       "</g>\n",
       "<!-- 2238503662312 -->\n",
       "<g class=\"node\" id=\"node13\"><title>2238503662312</title>\n",
       "<polygon fill=\"none\" points=\"419.5,-511.5 419.5,-547.5 556.5,-547.5 556.5,-511.5 419.5,-511.5\" stroke=\"black\"/>\n",
       "<text font-family=\"Times New Roman,serif\" font-size=\"14.00\" text-anchor=\"middle\" x=\"488\" y=\"-525.8\">dropout_67: Dropout</text>\n",
       "</g>\n",
       "<!-- 2238503321048&#45;&gt;2238503662312 -->\n",
       "<g class=\"edge\" id=\"edge10\"><title>2238503321048-&gt;2238503662312</title>\n",
       "<path d=\"M488,-584.313C488,-576.289 488,-566.547 488,-557.569\" fill=\"none\" stroke=\"black\"/>\n",
       "<polygon fill=\"black\" points=\"491.5,-557.529 488,-547.529 484.5,-557.529 491.5,-557.529\" stroke=\"black\"/>\n",
       "</g>\n",
       "<!-- 2238295985624 -->\n",
       "<g class=\"node\" id=\"node14\"><title>2238295985624</title>\n",
       "<polygon fill=\"none\" points=\"36.5,-438.5 36.5,-474.5 173.5,-474.5 173.5,-438.5 36.5,-438.5\" stroke=\"black\"/>\n",
       "<text font-family=\"Times New Roman,serif\" font-size=\"14.00\" text-anchor=\"middle\" x=\"105\" y=\"-452.8\">dropout_64: Dropout</text>\n",
       "</g>\n",
       "<!-- 2238294036376&#45;&gt;2238295985624 -->\n",
       "<g class=\"edge\" id=\"edge11\"><title>2238294036376-&gt;2238295985624</title>\n",
       "<path d=\"M105,-511.313C105,-503.289 105,-493.547 105,-484.569\" fill=\"none\" stroke=\"black\"/>\n",
       "<polygon fill=\"black\" points=\"108.5,-484.529 105,-474.529 101.5,-484.529 108.5,-484.529\" stroke=\"black\"/>\n",
       "</g>\n",
       "<!-- 2238506555712 -->\n",
       "<g class=\"node\" id=\"node12\"><title>2238506555712</title>\n",
       "<polygon fill=\"none\" points=\"214,-511.5 214,-547.5 384,-547.5 384,-511.5 214,-511.5\" stroke=\"black\"/>\n",
       "<text font-family=\"Times New Roman,serif\" font-size=\"14.00\" text-anchor=\"middle\" x=\"299\" y=\"-525.8\">clustered_input: InputLayer</text>\n",
       "</g>\n",
       "<!-- 2238296587512 -->\n",
       "<g class=\"node\" id=\"node15\"><title>2238296587512</title>\n",
       "<polygon fill=\"none\" points=\"243.5,-438.5 243.5,-474.5 354.5,-474.5 354.5,-438.5 243.5,-438.5\" stroke=\"black\"/>\n",
       "<text font-family=\"Times New Roman,serif\" font-size=\"14.00\" text-anchor=\"middle\" x=\"299\" y=\"-452.8\">dense_77: Dense</text>\n",
       "</g>\n",
       "<!-- 2238506555712&#45;&gt;2238296587512 -->\n",
       "<g class=\"edge\" id=\"edge12\"><title>2238506555712-&gt;2238296587512</title>\n",
       "<path d=\"M299,-511.313C299,-503.289 299,-493.547 299,-484.569\" fill=\"none\" stroke=\"black\"/>\n",
       "<polygon fill=\"black\" points=\"302.5,-484.529 299,-474.529 295.5,-484.529 302.5,-484.529\" stroke=\"black\"/>\n",
       "</g>\n",
       "<!-- 2238503758144 -->\n",
       "<g class=\"node\" id=\"node16\"><title>2238503758144</title>\n",
       "<polygon fill=\"none\" points=\"432.5,-438.5 432.5,-474.5 543.5,-474.5 543.5,-438.5 432.5,-438.5\" stroke=\"black\"/>\n",
       "<text font-family=\"Times New Roman,serif\" font-size=\"14.00\" text-anchor=\"middle\" x=\"488\" y=\"-452.8\">dense_80: Dense</text>\n",
       "</g>\n",
       "<!-- 2238503662312&#45;&gt;2238503758144 -->\n",
       "<g class=\"edge\" id=\"edge13\"><title>2238503662312-&gt;2238503758144</title>\n",
       "<path d=\"M488,-511.313C488,-503.289 488,-493.547 488,-484.569\" fill=\"none\" stroke=\"black\"/>\n",
       "<polygon fill=\"black\" points=\"491.5,-484.529 488,-474.529 484.5,-484.529 491.5,-484.529\" stroke=\"black\"/>\n",
       "</g>\n",
       "<!-- 2238296158048 -->\n",
       "<g class=\"node\" id=\"node17\"><title>2238296158048</title>\n",
       "<polygon fill=\"none\" points=\"47,-365.5 47,-401.5 163,-401.5 163,-365.5 47,-365.5\" stroke=\"black\"/>\n",
       "<text font-family=\"Times New Roman,serif\" font-size=\"14.00\" text-anchor=\"middle\" x=\"105\" y=\"-379.8\">flatten_11: Flatten</text>\n",
       "</g>\n",
       "<!-- 2238295985624&#45;&gt;2238296158048 -->\n",
       "<g class=\"edge\" id=\"edge14\"><title>2238295985624-&gt;2238296158048</title>\n",
       "<path d=\"M105,-438.313C105,-430.289 105,-420.547 105,-411.569\" fill=\"none\" stroke=\"black\"/>\n",
       "<polygon fill=\"black\" points=\"108.5,-411.529 105,-401.529 101.5,-411.529 108.5,-411.529\" stroke=\"black\"/>\n",
       "</g>\n",
       "<!-- 2238296455824 -->\n",
       "<g class=\"node\" id=\"node18\"><title>2238296455824</title>\n",
       "<polygon fill=\"none\" points=\"230.5,-365.5 230.5,-401.5 367.5,-401.5 367.5,-365.5 230.5,-365.5\" stroke=\"black\"/>\n",
       "<text font-family=\"Times New Roman,serif\" font-size=\"14.00\" text-anchor=\"middle\" x=\"299\" y=\"-379.8\">dropout_65: Dropout</text>\n",
       "</g>\n",
       "<!-- 2238296587512&#45;&gt;2238296455824 -->\n",
       "<g class=\"edge\" id=\"edge15\"><title>2238296587512-&gt;2238296455824</title>\n",
       "<path d=\"M299,-438.313C299,-430.289 299,-420.547 299,-411.569\" fill=\"none\" stroke=\"black\"/>\n",
       "<polygon fill=\"black\" points=\"302.5,-411.529 299,-401.529 295.5,-411.529 302.5,-411.529\" stroke=\"black\"/>\n",
       "</g>\n",
       "<!-- 2238503849936 -->\n",
       "<g class=\"node\" id=\"node19\"><title>2238503849936</title>\n",
       "<polygon fill=\"none\" points=\"419.5,-365.5 419.5,-401.5 556.5,-401.5 556.5,-365.5 419.5,-365.5\" stroke=\"black\"/>\n",
       "<text font-family=\"Times New Roman,serif\" font-size=\"14.00\" text-anchor=\"middle\" x=\"488\" y=\"-379.8\">dropout_68: Dropout</text>\n",
       "</g>\n",
       "<!-- 2238503758144&#45;&gt;2238503849936 -->\n",
       "<g class=\"edge\" id=\"edge16\"><title>2238503758144-&gt;2238503849936</title>\n",
       "<path d=\"M488,-438.313C488,-430.289 488,-420.547 488,-411.569\" fill=\"none\" stroke=\"black\"/>\n",
       "<polygon fill=\"black\" points=\"491.5,-411.529 488,-401.529 484.5,-411.529 491.5,-411.529\" stroke=\"black\"/>\n",
       "</g>\n",
       "<!-- 2238504078584 -->\n",
       "<g class=\"node\" id=\"node20\"><title>2238504078584</title>\n",
       "<polygon fill=\"none\" points=\"172.5,-292.5 172.5,-328.5 285.5,-328.5 285.5,-292.5 172.5,-292.5\" stroke=\"black\"/>\n",
       "<text font-family=\"Times New Roman,serif\" font-size=\"14.00\" text-anchor=\"middle\" x=\"229\" y=\"-306.8\">merge_11: Merge</text>\n",
       "</g>\n",
       "<!-- 2238296158048&#45;&gt;2238504078584 -->\n",
       "<g class=\"edge\" id=\"edge17\"><title>2238296158048-&gt;2238504078584</title>\n",
       "<path d=\"M134.701,-365.494C151.297,-355.991 172.176,-344.036 190.067,-333.792\" fill=\"none\" stroke=\"black\"/>\n",
       "<polygon fill=\"black\" points=\"192.173,-336.62 199.111,-328.614 188.694,-330.545 192.173,-336.62\" stroke=\"black\"/>\n",
       "</g>\n",
       "<!-- 2238296382152 -->\n",
       "<g class=\"node\" id=\"node25\"><title>2238296382152</title>\n",
       "<polygon fill=\"none\" points=\"37.5,-292.5 37.5,-328.5 154.5,-328.5 154.5,-292.5 37.5,-292.5\" stroke=\"black\"/>\n",
       "<text font-family=\"Times New Roman,serif\" font-size=\"14.00\" text-anchor=\"middle\" x=\"96\" y=\"-306.8\">aux_1_out: Dense</text>\n",
       "</g>\n",
       "<!-- 2238296158048&#45;&gt;2238296382152 -->\n",
       "<g class=\"edge\" id=\"edge24\"><title>2238296158048-&gt;2238296382152</title>\n",
       "<path d=\"M102.821,-365.313C101.804,-357.289 100.569,-347.547 99.4313,-338.569\" fill=\"none\" stroke=\"black\"/>\n",
       "<polygon fill=\"black\" points=\"102.888,-338.009 98.1586,-328.529 95.944,-338.89 102.888,-338.009\" stroke=\"black\"/>\n",
       "</g>\n",
       "<!-- 2238296455824&#45;&gt;2238504078584 -->\n",
       "<g class=\"edge\" id=\"edge18\"><title>2238296455824-&gt;2238504078584</title>\n",
       "<path d=\"M282.055,-365.313C273.285,-356.417 262.432,-345.409 252.831,-335.672\" fill=\"none\" stroke=\"black\"/>\n",
       "<polygon fill=\"black\" points=\"255.302,-333.193 245.789,-328.529 250.317,-338.107 255.302,-333.193\" stroke=\"black\"/>\n",
       "</g>\n",
       "<!-- 2238503074728 -->\n",
       "<g class=\"node\" id=\"node26\"><title>2238503074728</title>\n",
       "<polygon fill=\"none\" points=\"303.5,-292.5 303.5,-328.5 420.5,-328.5 420.5,-292.5 303.5,-292.5\" stroke=\"black\"/>\n",
       "<text font-family=\"Times New Roman,serif\" font-size=\"14.00\" text-anchor=\"middle\" x=\"362\" y=\"-306.8\">aux_2_out: Dense</text>\n",
       "</g>\n",
       "<!-- 2238296455824&#45;&gt;2238503074728 -->\n",
       "<g class=\"edge\" id=\"edge25\"><title>2238296455824-&gt;2238503074728</title>\n",
       "<path d=\"M314.251,-365.313C321.989,-356.592 331.529,-345.84 340.042,-336.246\" fill=\"none\" stroke=\"black\"/>\n",
       "<polygon fill=\"black\" points=\"342.871,-338.332 346.89,-328.529 337.635,-333.686 342.871,-338.332\" stroke=\"black\"/>\n",
       "</g>\n",
       "<!-- 2238503849936&#45;&gt;2238504078584 -->\n",
       "<g class=\"edge\" id=\"edge19\"><title>2238503849936-&gt;2238504078584</title>\n",
       "<path d=\"M425.963,-365.494C386.56,-354.692 335.597,-340.722 295.383,-329.698\" fill=\"none\" stroke=\"black\"/>\n",
       "<polygon fill=\"black\" points=\"296.237,-326.303 285.667,-327.034 294.386,-333.054 296.237,-326.303\" stroke=\"black\"/>\n",
       "</g>\n",
       "<!-- 2238504212352 -->\n",
       "<g class=\"node\" id=\"node27\"><title>2238504212352</title>\n",
       "<polygon fill=\"none\" points=\"438.5,-292.5 438.5,-328.5 555.5,-328.5 555.5,-292.5 438.5,-292.5\" stroke=\"black\"/>\n",
       "<text font-family=\"Times New Roman,serif\" font-size=\"14.00\" text-anchor=\"middle\" x=\"497\" y=\"-306.8\">aux_3_out: Dense</text>\n",
       "</g>\n",
       "<!-- 2238503849936&#45;&gt;2238504212352 -->\n",
       "<g class=\"edge\" id=\"edge26\"><title>2238503849936-&gt;2238504212352</title>\n",
       "<path d=\"M490.179,-365.313C491.196,-357.289 492.431,-347.547 493.569,-338.569\" fill=\"none\" stroke=\"black\"/>\n",
       "<polygon fill=\"black\" points=\"497.056,-338.89 494.841,-328.529 490.112,-338.009 497.056,-338.89\" stroke=\"black\"/>\n",
       "</g>\n",
       "<!-- 2238504338992 -->\n",
       "<g class=\"node\" id=\"node21\"><title>2238504338992</title>\n",
       "<polygon fill=\"none\" points=\"173.5,-219.5 173.5,-255.5 284.5,-255.5 284.5,-219.5 173.5,-219.5\" stroke=\"black\"/>\n",
       "<text font-family=\"Times New Roman,serif\" font-size=\"14.00\" text-anchor=\"middle\" x=\"229\" y=\"-233.8\">dense_81: Dense</text>\n",
       "</g>\n",
       "<!-- 2238504078584&#45;&gt;2238504338992 -->\n",
       "<g class=\"edge\" id=\"edge20\"><title>2238504078584-&gt;2238504338992</title>\n",
       "<path d=\"M229,-292.313C229,-284.289 229,-274.547 229,-265.569\" fill=\"none\" stroke=\"black\"/>\n",
       "<polygon fill=\"black\" points=\"232.5,-265.529 229,-255.529 225.5,-265.529 232.5,-265.529\" stroke=\"black\"/>\n",
       "</g>\n",
       "<!-- 2238504561240 -->\n",
       "<g class=\"node\" id=\"node22\"><title>2238504561240</title>\n",
       "<polygon fill=\"none\" points=\"160.5,-146.5 160.5,-182.5 297.5,-182.5 297.5,-146.5 160.5,-146.5\" stroke=\"black\"/>\n",
       "<text font-family=\"Times New Roman,serif\" font-size=\"14.00\" text-anchor=\"middle\" x=\"229\" y=\"-160.8\">dropout_69: Dropout</text>\n",
       "</g>\n",
       "<!-- 2238504338992&#45;&gt;2238504561240 -->\n",
       "<g class=\"edge\" id=\"edge21\"><title>2238504338992-&gt;2238504561240</title>\n",
       "<path d=\"M229,-219.313C229,-211.289 229,-201.547 229,-192.569\" fill=\"none\" stroke=\"black\"/>\n",
       "<polygon fill=\"black\" points=\"232.5,-192.529 229,-182.529 225.5,-192.529 232.5,-192.529\" stroke=\"black\"/>\n",
       "</g>\n",
       "<!-- 2238504738768 -->\n",
       "<g class=\"node\" id=\"node23\"><title>2238504738768</title>\n",
       "<polygon fill=\"none\" points=\"173.5,-73.5 173.5,-109.5 284.5,-109.5 284.5,-73.5 173.5,-73.5\" stroke=\"black\"/>\n",
       "<text font-family=\"Times New Roman,serif\" font-size=\"14.00\" text-anchor=\"middle\" x=\"229\" y=\"-87.8\">dense_82: Dense</text>\n",
       "</g>\n",
       "<!-- 2238504561240&#45;&gt;2238504738768 -->\n",
       "<g class=\"edge\" id=\"edge22\"><title>2238504561240-&gt;2238504738768</title>\n",
       "<path d=\"M229,-146.313C229,-138.289 229,-128.547 229,-119.569\" fill=\"none\" stroke=\"black\"/>\n",
       "<polygon fill=\"black\" points=\"232.5,-119.529 229,-109.529 225.5,-119.529 232.5,-119.529\" stroke=\"black\"/>\n",
       "</g>\n",
       "<!-- 2238504786856 -->\n",
       "<g class=\"node\" id=\"node24\"><title>2238504786856</title>\n",
       "<polygon fill=\"none\" points=\"151.5,-0.5 151.5,-36.5 306.5,-36.5 306.5,-0.5 151.5,-0.5\" stroke=\"black\"/>\n",
       "<text font-family=\"Times New Roman,serif\" font-size=\"14.00\" text-anchor=\"middle\" x=\"229\" y=\"-14.8\">activation_11: Activation</text>\n",
       "</g>\n",
       "<!-- 2238504738768&#45;&gt;2238504786856 -->\n",
       "<g class=\"edge\" id=\"edge23\"><title>2238504738768-&gt;2238504786856</title>\n",
       "<path d=\"M229,-73.3129C229,-65.2895 229,-55.5475 229,-46.5691\" fill=\"none\" stroke=\"black\"/>\n",
       "<polygon fill=\"black\" points=\"232.5,-46.5288 229,-36.5288 225.5,-46.5289 232.5,-46.5288\" stroke=\"black\"/>\n",
       "</g>\n",
       "</g>\n",
       "</svg>"
      ],
      "text/plain": [
       "<IPython.core.display.SVG object>"
      ]
     },
     "execution_count": 214,
     "metadata": {},
     "output_type": "execute_result"
    }
   ],
   "source": [
    "SVG(model_to_dot(class_model).create(prog='dot', format='svg'))"
   ]
  },
  {
   "cell_type": "code",
   "execution_count": 215,
   "metadata": {
    "collapsed": true
   },
   "outputs": [],
   "source": [
    "nb_epoch = 9\n",
    "batch_size = 32\n",
    "\n",
    "## Callback for loss logging per epoch\n",
    "class LossHistory(Callback):\n",
    "    def on_train_begin(self, logs={}):\n",
    "        self.losses = []\n",
    "        self.val_losses = []\n",
    "        \n",
    "    def on_epoch_end(self, batch, logs={}):\n",
    "        self.losses.append(logs.get('loss'))\n",
    "        self.val_losses.append(logs.get('val_loss'))\n",
    "\n",
    "early_stopping = EarlyStopping(monitor='val_loss', patience=4, verbose=1, mode='auto')   \n",
    "history = LossHistory()"
   ]
  },
  {
   "cell_type": "code",
   "execution_count": 216,
   "metadata": {
    "collapsed": false
   },
   "outputs": [],
   "source": [
    "train_indices = list(range(len(training_x)))\n",
    "np.random.shuffle(train_indices)"
   ]
  },
  {
   "cell_type": "code",
   "execution_count": 217,
   "metadata": {
    "collapsed": false
   },
   "outputs": [],
   "source": [
    "p = 0.9"
   ]
  },
  {
   "cell_type": "code",
   "execution_count": 218,
   "metadata": {
    "collapsed": true
   },
   "outputs": [],
   "source": [
    "range_length = int(p*(len(train_indices)))"
   ]
  },
  {
   "cell_type": "code",
   "execution_count": 219,
   "metadata": {
    "collapsed": false
   },
   "outputs": [
    {
     "name": "stderr",
     "output_type": "stream",
     "text": [
      "C:\\Users\\Stoja\\Anaconda3\\envs\\tensorflow2\\lib\\site-packages\\tensorflow\\python\\ops\\gradients_impl.py:91: UserWarning: Converting sparse IndexedSlices to a dense Tensor of unknown shape. This may consume a large amount of memory.\n",
      "  \"Converting sparse IndexedSlices to a dense Tensor of unknown shape. \"\n"
     ]
    },
    {
     "name": "stdout",
     "output_type": "stream",
     "text": [
      "\n"
     ]
    },
    {
     "data": {
      "text/plain": [
       "<keras.callbacks.History at 0x2093170c710>"
      ]
     },
     "execution_count": 219,
     "metadata": {},
     "output_type": "execute_result"
    }
   ],
   "source": [
    "class_model.fit([seq_train[:range_length],training_x[:range_length],text_matrix[:range_length]], [training_y[:range_length],training_y[:range_length],training_y[:range_length],training_y[:range_length]], batch_size=batch_size, nb_epoch=nb_epoch,\n",
    "              validation_split=0.05, verbose=0, shuffle=True, callbacks=[TQDMNotebookCallback(leave_inner = True, leave_outer = True), history])"
   ]
  },
  {
   "cell_type": "code",
   "execution_count": 220,
   "metadata": {
    "collapsed": false
   },
   "outputs": [
    {
     "data": {
      "image/png": "[encoded data removed]",
      "text/plain": [
       "<matplotlib.figure.Figure at 0x2093170cf60>"
      ]
     },
     "metadata": {},
     "output_type": "display_data"
    }
   ],
   "source": [
    "\n",
    "loss = history.losses\n",
    "val_loss = history.val_losses\n",
    "\n",
    "plt.xlabel('Epochs')\n",
    "plt.ylabel('Loss')\n",
    "plt.title('VGG-16 Loss Trend')\n",
    "plt.plot(loss, 'blue', label='Training Loss')\n",
    "plt.plot(val_loss, 'green', label='Validation Loss')\n",
    "plt.xticks(range(0,nb_epoch)[0::2])\n",
    "plt.legend()\n",
    "plt.show()"
   ]
  },
  {
   "cell_type": "code",
   "execution_count": 221,
   "metadata": {
    "collapsed": false
   },
   "outputs": [],
   "source": [
    "predictions = class_model.predict([seq_train[range_length:],training_x[range_length:],text_matrix[range_length:]], verbose=0)"
   ]
  },
  {
   "cell_type": "code",
   "execution_count": 222,
   "metadata": {
    "collapsed": true
   },
   "outputs": [],
   "source": [
    "predictions = predictions[0]"
   ]
  },
  {
   "cell_type": "code",
   "execution_count": 223,
   "metadata": {
    "collapsed": false
   },
   "outputs": [
    {
     "data": {
      "text/plain": [
       "(4936, 3)"
      ]
     },
     "execution_count": 223,
     "metadata": {},
     "output_type": "execute_result"
    }
   ],
   "source": [
    "np.shape(predictions)"
   ]
  },
  {
   "cell_type": "code",
   "execution_count": 227,
   "metadata": {
    "collapsed": false
   },
   "outputs": [
    {
     "name": "stdout",
     "output_type": "stream",
     "text": [
      "I am 71.13% sure this property yields low interest\n",
      "I was right!\n",
      "4647\n",
      "I am 65.90% sure this property yields low interest\n",
      "I was right!\n",
      "78\n",
      "I am 79.95% sure this property yields low interest\n",
      "I was right!\n",
      "1312\n",
      "I am 64.02% sure this property yields medium interest\n",
      "I was wrong \n",
      "2679\n",
      "I am 71.85% sure this property yields low interest\n",
      "I was wrong \n",
      "434\n",
      "I am 89.44% sure this property yields low interest\n",
      "I was right!\n",
      "4626\n",
      "I am 80.31% sure this property yields low interest\n",
      "I was wrong \n",
      "2424\n",
      "I am 66.89% sure this property yields low interest\n",
      "I was wrong \n",
      "2131\n",
      "I am 66.34% sure this property yields low interest\n",
      "I was right!\n",
      "4706\n",
      "I am 74.21% sure this property yields low interest\n",
      "I was right!\n",
      "2378\n",
      "Im not really sure what interest this property yields\n",
      "2300\n",
      "Im not really sure what interest this property yields\n",
      "1033\n",
      "Im not really sure what interest this property yields\n",
      "4586\n",
      "Im not really sure what interest this property yields\n",
      "1433\n",
      "I am 52.18% sure this property yields low interest\n",
      "I was wrong \n",
      "2353\n"
     ]
    }
   ],
   "source": [
    "indx = 0\n",
    "\n",
    "for i in np.random.randint(0,len(predictions),15):\n",
    "    if predictions[i][0] >= 0.5: \n",
    "        print('I am {:.2%} sure this property yields low interest'.format(predictions[i][0]))\n",
    "        #print('The price on this property is ${0} per month'.format(training_aux_clean[i][0]))\n",
    "        if list(training_y[i]) == [1,0,0]:\n",
    "            print('I was right!')\n",
    "        else:\n",
    "            print('I was wrong ')\n",
    "        print(i)\n",
    "    elif predictions[i][1] >= 0.5:\n",
    "        print('I am {:.2%} sure this property yields medium interest'.format(predictions[i][1]))\n",
    "        #print('The price on this property is ${0} per month'.format(training_aux_clean[i][0]))\n",
    "        if list(training_y[i]) == [0,1,0]:\n",
    "            print('I was right!')\n",
    "        else:\n",
    "            print('I was wrong ')\n",
    "        print(i)\n",
    "    elif predictions[i][2] >= 0.5:\n",
    "        print('I am {:.2%} sure this propertry yields high interest'.format(predictions[i][2]))\n",
    "        #print('The price on this property is ${0} per month'.format(training_aux_clean[i][0]))\n",
    "        if list(training_y[i]) == [0,0,1]:\n",
    "            print('I was right!')\n",
    "        else:\n",
    "            print('I was wrong ')\n",
    "        print(i)\n",
    "    else:\n",
    "        print('Im not really sure what interest this property yields')\n",
    "        print(i)\n",
    "        \n",
    "    \n",
    "#     plt.imshow(training_x_clean[i])\n",
    "#     plt.show()"
   ]
  },
  {
   "cell_type": "code",
   "execution_count": 228,
   "metadata": {
    "collapsed": false
   },
   "outputs": [],
   "source": [
    "fpr = dict()\n",
    "tpr = dict()\n",
    "roc_auc = dict()\n",
    "\n",
    "for i in range(3):\n",
    "    fpr[i], tpr[i], _ = metrics.roc_curve(training_y[range_length:, i], predictions[:, i])\n",
    "    roc_auc[i] = metrics.auc(fpr[i], tpr[i])"
   ]
  },
  {
   "cell_type": "code",
   "execution_count": 108,
   "metadata": {
    "collapsed": false
   },
   "outputs": [
    {
     "data": {
      "text/plain": [
       "{0: 0.77486258167825151, 1: 0.71379243666334347, 2: 0.80202804675471995}"
      ]
     },
     "execution_count": 108,
     "metadata": {},
     "output_type": "execute_result"
    }
   ],
   "source": [
    "roc_auc"
   ]
  },
  {
   "cell_type": "code",
   "execution_count": 122,
   "metadata": {
    "collapsed": false
   },
   "outputs": [
    {
     "data": {
      "text/plain": [
       "{0: 0.77474497560730227, 1: 0.71015044608838063, 2: 0.8152987247791913}"
      ]
     },
     "execution_count": 122,
     "metadata": {},
     "output_type": "execute_result"
    }
   ],
   "source": [
    "roc_auc"
   ]
  },
  {
   "cell_type": "code",
   "execution_count": 229,
   "metadata": {
    "collapsed": false
   },
   "outputs": [
    {
     "data": {
      "text/plain": [
       "{0: 0.7826575945913391, 1: 0.71637615982628666, 2: 0.8022217607973422}"
      ]
     },
     "execution_count": 229,
     "metadata": {},
     "output_type": "execute_result"
    }
   ],
   "source": [
    "roc_auc"
   ]
  },
  {
   "cell_type": "code",
   "execution_count": null,
   "metadata": {
    "collapsed": true
   },
   "outputs": [],
   "source": []
  }
 ],
 "metadata": {
  "anaconda-cloud": {},
  "kernelspec": {
   "display_name": "Python [conda env:tensorflow2]",
   "language": "python",
   "name": "conda-env-tensorflow2-py"
  },
  "language_info": {
   "codemirror_mode": {
    "name": "ipython",
    "version": 3
   },
   "file_extension": ".py",
   "mimetype": "text/x-python",
   "name": "python",
   "nbconvert_exporter": "python",
   "pygments_lexer": "ipython3",
   "version": "3.5.2"
  },
  "widgets": {
   "state": {
    "0c7066552a744d8395346b67ffd35837": {
     "views": [
      {
       "cell_index": 15
      }
     ]
    },
    "12241a73bd9c4f2f96d033a84872d949": {
     "views": [
      {
       "cell_index": 15
      }
     ]
    },
    "12b37fb293d544bab4631b62b7c57ee9": {
     "views": [
      {
       "cell_index": 15
      }
     ]
    },
    "136cb6982c9340b98ae311f47b83f20e": {
     "views": [
      {
       "cell_index": 15
      }
     ]
    },
    "13766fc006554562adb91a6c9aa2aa3a": {
     "views": [
      {
       "cell_index": 15
      }
     ]
    },
    "24337e0f773947d682796d1ed8cd21ef": {
     "views": [
      {
       "cell_index": 15
      }
     ]
    },
    "251ab51d99b14e37aabc2b6037f19b09": {
     "views": [
      {
       "cell_index": 15
      }
     ]
    },
    "28b174ace94043e1a2467ff727e832a1": {
     "views": [
      {
       "cell_index": 15
      }
     ]
    },
    "2aa1f9b28298487c881d938837f63d0f": {
     "views": [
      {
       "cell_index": 15
      }
     ]
    },
    "2b2e40326afb40ebb6250eb36af85349": {
     "views": [
      {
       "cell_index": 15
      }
     ]
    },
    "2c42fd7f76304e6b8282668c5e80c6cb": {
     "views": [
      {
       "cell_index": 15
      }
     ]
    },
    "2f17c127b8f64726a9d567ff7c9d4a46": {
     "views": [
      {
       "cell_index": 15
      }
     ]
    },
    "31eadd518cd64576bb718b85effed9be": {
     "views": [
      {
       "cell_index": 15
      }
     ]
    },
    "3ab32a03c10a4e35bf0d771b262681f6": {
     "views": [
      {
       "cell_index": 15
      }
     ]
    },
    "4cffbc0064b343fba165f47a01155e4f": {
     "views": [
      {
       "cell_index": 15
      }
     ]
    },
    "4dee4d79624241ebb61dc08a9f09e731": {
     "views": [
      {
       "cell_index": 15
      }
     ]
    },
    "50c05cbc2ef74d5f921cd22f79bac38e": {
     "views": [
      {
       "cell_index": 15
      }
     ]
    },
    "523b048fdf314655bb6199487a99bc13": {
     "views": [
      {
       "cell_index": 15
      }
     ]
    },
    "5fc20858e21b47c6949f29efff43bc51": {
     "views": [
      {
       "cell_index": 15
      }
     ]
    },
    "67225a57504148b9a71ab801d34b8ed9": {
     "views": [
      {
       "cell_index": 15
      }
     ]
    },
    "6d9c8cbe108c40a3b3cf79203e988af6": {
     "views": [
      {
       "cell_index": 15
      }
     ]
    },
    "7146f10948c149bebb2e40108555f4a8": {
     "views": [
      {
       "cell_index": 15
      }
     ]
    },
    "74ece14cd2724da5b7ce5e7a82cc2caf": {
     "views": [
      {
       "cell_index": 15
      }
     ]
    },
    "75d595cbafba4290bc1426925435403f": {
     "views": [
      {
       "cell_index": 15
      }
     ]
    },
    "773cb630230e432396d16f269c777f1a": {
     "views": [
      {
       "cell_index": 15
      }
     ]
    },
    "801cb3a491ed4d538064c8ca5fcc63e0": {
     "views": [
      {
       "cell_index": 15
      }
     ]
    },
    "8bccb6c09f794d858b245ddccdc5f32f": {
     "views": [
      {
       "cell_index": 15
      }
     ]
    },
    "968adc730b0b44929b008590aa0bbc48": {
     "views": [
      {
       "cell_index": 15
      }
     ]
    },
    "981ece335238472e811cfd06163762c1": {
     "views": [
      {
       "cell_index": 15
      }
     ]
    },
    "9c4bed2ce2fd4a5a9e3bb053ef52bdb5": {
     "views": [
      {
       "cell_index": 15
      }
     ]
    },
    "9e146655c9aa474d9b9bfb2913b8175f": {
     "views": [
      {
       "cell_index": 15
      }
     ]
    },
    "9ee037a24db44fc39c5486776ab80c67": {
     "views": [
      {
       "cell_index": 15
      }
     ]
    },
    "a4e27336c97a47f9aa69dee9e639ee65": {
     "views": [
      {
       "cell_index": 15
      }
     ]
    },
    "b6032994af334d02861e0d2c0428c4b6": {
     "views": [
      {
       "cell_index": 15
      }
     ]
    },
    "b9f74cf569834a11a32f6a59be7f6ffc": {
     "views": [
      {
       "cell_index": 15
      }
     ]
    },
    "c6118944a2f44b2fb2f5708fe90acc68": {
     "views": [
      {
       "cell_index": 15
      }
     ]
    },
    "c79dcfccc25044f8aec5985d89ca8ffb": {
     "views": [
      {
       "cell_index": 15
      }
     ]
    },
    "d1242a293d0140ada9203c4cdbafb49f": {
     "views": [
      {
       "cell_index": 15
      }
     ]
    },
    "d2ae08197a694bd0a313ce770511ac0c": {
     "views": [
      {
       "cell_index": 15
      }
     ]
    },
    "d6116bdd91ce4198b3c282f04eb633d7": {
     "views": [
      {
       "cell_index": 15
      }
     ]
    },
    "d79b55424c3a4edf9262de35382bf2f7": {
     "views": [
      {
       "cell_index": 15
      }
     ]
    },
    "d8f7d7c1d2e84320ae5ee07a1ec6c68a": {
     "views": [
      {
       "cell_index": 15
      }
     ]
    },
    "e248181ff9774429a354257a9e72a306": {
     "views": [
      {
       "cell_index": 15
      }
     ]
    },
    "e3a5cd745a5642d9871af031dd9d73d4": {
     "views": [
      {
       "cell_index": 15
      }
     ]
    },
    "e3dd9cf02df147d7a7cdf496c5dcd75f": {
     "views": [
      {
       "cell_index": 15
      }
     ]
    },
    "e81f8eceec764d108482afd26f169dfe": {
     "views": [
      {
       "cell_index": 15
      }
     ]
    },
    "ee3e4f2d45254ef4888158b201300afb": {
     "views": [
      {
       "cell_index": 15
      }
     ]
    },
    "f0d00fe041f54fb395e5b4658ca95fff": {
     "views": [
      {
       "cell_index": 15
      }
     ]
    },
    "f0f6573c495844afbbc0247c163140be": {
     "views": [
      {
       "cell_index": 15
      }
     ]
    },
    "f19dc854cc7a4928b2f5f896ae2de0ff": {
     "views": [
      {
       "cell_index": 15
      }
     ]
    },
    "f5b029ca37384c078d03a8a082c50001": {
     "views": [
      {
       "cell_index": 15
      }
     ]
    }
   },
   "version": "1.2.0"
  }
 },
 "nbformat": 4,
 "nbformat_minor": 2
}
