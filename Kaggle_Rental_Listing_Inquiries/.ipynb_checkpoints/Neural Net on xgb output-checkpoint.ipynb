{
 "cells": [
  {
   "cell_type": "code",
   "execution_count": 8,
   "metadata": {
    "collapsed": false
   },
   "outputs": [],
   "source": [
    "import numpy as np\n",
    "import pandas as pd\n",
    "import matplotlib.pyplot as plt\n",
    "from tqdm import tqdm\n",
    "\n",
    "import pickle\n",
    "import feather\n",
    "import tensorflow as tf\n",
    "\n",
    "from keras.layers import Input, Embedding, LSTM, Dense, merge\n",
    "from keras.models import Model\n",
    "from keras.models import Sequential\n",
    "from keras.layers import Input, Dropout, Flatten, Convolution2D, MaxPooling2D, Dense, Activation\n",
    "from keras.layers import Convolution1D, GlobalMaxPooling1D, MaxPooling1D\n",
    "from keras.layers import Embedding\n",
    "from keras.optimizers import RMSprop\n",
    "from keras.callbacks import ModelCheckpoint, Callback, EarlyStopping\n",
    "from keras.utils import np_utils\n",
    "from IPython.display import SVG\n",
    "from keras.utils.visualize_util import plot\n",
    "from keras.utils.visualize_util import model_to_dot\n",
    "from keras.preprocessing import text\n",
    "from keras.preprocessing import sequence\n",
    "\n",
    "from keras_tqdm import TQDMNotebookCallback\n",
    "\n",
    "from sklearn import metrics"
   ]
  },
  {
   "cell_type": "code",
   "execution_count": 9,
   "metadata": {
    "collapsed": true
   },
   "outputs": [],
   "source": [
    "def MapInterestToVector(interest_level):\n",
    "    if interest_level == 'low':\n",
    "        return [1,0,0]\n",
    "    elif interest_level == 'medium':\n",
    "        return [0,1,0]\n",
    "    elif interest_level == 'high':\n",
    "        return [0,0,1]\n",
    "    else:\n",
    "        return [0,0,0]"
   ]
  },
  {
   "cell_type": "code",
   "execution_count": 24,
   "metadata": {
    "collapsed": false
   },
   "outputs": [],
   "source": [
    "#training_frame = pickle.load( open( '../../Data/RentalListingData/training_set_with_images_and_features.pkl', 'rb' ) )\n",
    "training_frame = feather.read_dataframe(path='../../Data/RentalListingData/first_dataframe_train_with_feature_clusters_and_xgb_preds')\n",
    "training_frame['interest_vector'] = training_frame['interest_level'].apply(MapInterestToVector)"
   ]
  },
  {
   "cell_type": "code",
   "execution_count": 25,
   "metadata": {
    "collapsed": false
   },
   "outputs": [],
   "source": [
    "training_xgb_out = np.array([MapInterestToVector(item) for item in list(training_frame['predictions'].apply(str))]).astype(float)"
   ]
  },
  {
   "cell_type": "code",
   "execution_count": 30,
   "metadata": {
    "collapsed": false
   },
   "outputs": [
    {
     "data": {
      "text/html": [
       "<div>\n",
       "<table border=\"1\" class=\"dataframe\">\n",
       "  <thead>\n",
       "    <tr style=\"text-align: right;\">\n",
       "      <th></th>\n",
       "      <th>bathrooms</th>\n",
       "      <th>bedrooms</th>\n",
       "      <th>building_id</th>\n",
       "      <th>description</th>\n",
       "      <th>display_address</th>\n",
       "      <th>features</th>\n",
       "      <th>latitude</th>\n",
       "      <th>longitude</th>\n",
       "      <th>listing_id</th>\n",
       "      <th>manager_id</th>\n",
       "      <th>price</th>\n",
       "      <th>street_address</th>\n",
       "      <th>photos</th>\n",
       "      <th>interest_level</th>\n",
       "      <th>Var.16</th>\n",
       "      <th>lounge</th>\n",
       "      <th>parking</th>\n",
       "      <th>convbedroom</th>\n",
       "      <th>spaciouslayout</th>\n",
       "    </tr>\n",
       "  </thead>\n",
       "  <tbody>\n",
       "    <tr>\n",
       "      <th>0</th>\n",
       "      <td>1.0</td>\n",
       "      <td>1.0</td>\n",
       "      <td>8579a0b0d54db803821a35a4a615e97a</td>\n",
       "      <td>Spacious 1 Bedroom 1 Bathroom in Williamsburg!...</td>\n",
       "      <td>145 Borinquen Place</td>\n",
       "      <td>0        [Dining Room, Pre-War, Laundry in Bui...</td>\n",
       "      <td>40.7108</td>\n",
       "      <td>-73.9539</td>\n",
       "      <td>7170325.0</td>\n",
       "      <td>a10db4590843d78c784171a107bdacb4</td>\n",
       "      <td>2400.0</td>\n",
       "      <td>145 Borinquen Place</td>\n",
       "      <td>0        [https://photos.renthop.com/2/7170325...</td>\n",
       "      <td>medium</td>\n",
       "      <td>0.0</td>\n",
       "      <td>0.0</td>\n",
       "      <td>0.0</td>\n",
       "      <td>0.0</td>\n",
       "      <td>0.0</td>\n",
       "    </tr>\n",
       "    <tr>\n",
       "      <th>1</th>\n",
       "      <td>1.0</td>\n",
       "      <td>2.0</td>\n",
       "      <td>b8e75fc949a6cd8225b455648a951712</td>\n",
       "      <td>BRAND NEW GUT RENOVATED TRUE 2 BEDROOMFind you...</td>\n",
       "      <td>East 44th</td>\n",
       "      <td>0        [Dining Room, Pre-War, Laundry in Bui...</td>\n",
       "      <td>40.7513</td>\n",
       "      <td>-73.9722</td>\n",
       "      <td>7092344.0</td>\n",
       "      <td>955db33477af4f40004820b4aed804a0</td>\n",
       "      <td>3800.0</td>\n",
       "      <td>230 East 44th</td>\n",
       "      <td>0        [https://photos.renthop.com/2/7170325...</td>\n",
       "      <td>low</td>\n",
       "      <td>0.0</td>\n",
       "      <td>0.0</td>\n",
       "      <td>0.0</td>\n",
       "      <td>0.0</td>\n",
       "      <td>0.0</td>\n",
       "    </tr>\n",
       "  </tbody>\n",
       "</table>\n",
       "</div>"
      ],
      "text/plain": [
       "   bathrooms  bedrooms                       building_id  \\\n",
       "0        1.0       1.0  8579a0b0d54db803821a35a4a615e97a   \n",
       "1        1.0       2.0  b8e75fc949a6cd8225b455648a951712   \n",
       "\n",
       "                                         description      display_address  \\\n",
       "0  Spacious 1 Bedroom 1 Bathroom in Williamsburg!...  145 Borinquen Place   \n",
       "1  BRAND NEW GUT RENOVATED TRUE 2 BEDROOMFind you...            East 44th   \n",
       "\n",
       "                                            features  latitude  longitude  \\\n",
       "0  0        [Dining Room, Pre-War, Laundry in Bui...   40.7108   -73.9539   \n",
       "1  0        [Dining Room, Pre-War, Laundry in Bui...   40.7513   -73.9722   \n",
       "\n",
       "   listing_id                        manager_id   price       street_address  \\\n",
       "0   7170325.0  a10db4590843d78c784171a107bdacb4  2400.0  145 Borinquen Place   \n",
       "1   7092344.0  955db33477af4f40004820b4aed804a0  3800.0        230 East 44th   \n",
       "\n",
       "                                              photos interest_level  Var.16  \\\n",
       "0  0        [https://photos.renthop.com/2/7170325...         medium     0.0   \n",
       "1  0        [https://photos.renthop.com/2/7170325...            low     0.0   \n",
       "\n",
       "   lounge  parking  convbedroom  spaciouslayout  \n",
       "0     0.0      0.0          0.0             0.0  \n",
       "1     0.0      0.0          0.0             0.0  "
      ]
     },
     "execution_count": 30,
     "metadata": {},
     "output_type": "execute_result"
    }
   ],
   "source": [
    "training_frame.ix[:,1:20].head(2)"
   ]
  },
  {
   "cell_type": "code",
   "execution_count": 45,
   "metadata": {
    "collapsed": false
   },
   "outputs": [],
   "source": [
    "training_x = np.array(training_frame.ix[:,[1,2,7,8,11]+list(range(15,876))]).astype(float)"
   ]
  },
  {
   "cell_type": "code",
   "execution_count": 49,
   "metadata": {
    "collapsed": false
   },
   "outputs": [
    {
     "data": {
      "text/plain": [
       "(49352, 866)"
      ]
     },
     "execution_count": 49,
     "metadata": {},
     "output_type": "execute_result"
    }
   ],
   "source": [
    "np.shape(training_x)"
   ]
  },
  {
   "cell_type": "code",
   "execution_count": 46,
   "metadata": {
    "collapsed": false
   },
   "outputs": [],
   "source": [
    "training_y = list(training_frame['interest_vector'])\n",
    "training_y = np.array(training_y).astype(float)"
   ]
  },
  {
   "cell_type": "code",
   "execution_count": 47,
   "metadata": {
    "collapsed": true
   },
   "outputs": [],
   "source": [
    "max_features = 4000\n",
    "maxlen = 250\n",
    "batch_size = 32\n",
    "embedding_dims = 60\n",
    "nb_filter = 250\n",
    "filter_length = 3\n",
    "hidden_dims = 250\n",
    "nb_epoch = 2"
   ]
  },
  {
   "cell_type": "code",
   "execution_count": 73,
   "metadata": {
    "collapsed": false
   },
   "outputs": [],
   "source": [
    "model = Sequential()\n",
    "\n",
    "# model.add(Embedding(max_features,\n",
    "#                     embedding_dims,\n",
    "#                     input_length=maxlen,\n",
    "#                     dropout=0.1))\n",
    "\n",
    "model.add(Dense(250, batch_input_shape=(None, 866)))\n",
    "model.add(Dropout(0.2))\n",
    "model.add(Activation('sigmoid'))\n",
    "\n",
    "model.add(Dense(120))\n",
    "model.add(Dropout(0.2))\n",
    "model.add(Activation('tanh'))\n",
    "\n",
    "model.add(Dense(3))\n",
    "model.add(Activation('softmax'))\n",
    "\n",
    "model.compile(loss='categorical_crossentropy',\n",
    "              optimizer='rmsprop',\n",
    "              metrics=['accuracy'])"
   ]
  },
  {
   "cell_type": "code",
   "execution_count": 74,
   "metadata": {
    "collapsed": true
   },
   "outputs": [],
   "source": [
    "nb_epoch = 10\n",
    "batch_size = 32\n",
    "\n",
    "## Callback for loss logging per epoch\n",
    "class LossHistory(Callback):\n",
    "    def on_train_begin(self, logs={}):\n",
    "        self.losses = []\n",
    "        self.val_losses = []\n",
    "        \n",
    "    def on_epoch_end(self, batch, logs={}):\n",
    "        self.losses.append(logs.get('loss'))\n",
    "        self.val_losses.append(logs.get('val_loss'))\n",
    "\n",
    "early_stopping = EarlyStopping(monitor='val_loss', patience=4, verbose=1, mode='auto')   \n",
    "history = LossHistory()"
   ]
  },
  {
   "cell_type": "code",
   "execution_count": 75,
   "metadata": {
    "collapsed": false
   },
   "outputs": [
    {
     "name": "stdout",
     "output_type": "stream",
     "text": [
      "208/|/[loss: 0.034, acc: 0.995]  16%|| 208/1311 [00:11<00:03, 294.37it/s]                                              "
     ]
    },
    {
     "data": {
      "text/plain": [
       "<keras.callbacks.History at 0x1e14cfe3ac8>"
      ]
     },
     "execution_count": 75,
     "metadata": {},
     "output_type": "execute_result"
    }
   ],
   "source": [
    "#training_xgb_out\n",
    "#training_y\n",
    "model.fit(training_x, training_xgb_out, batch_size=batch_size, nb_epoch=nb_epoch,\n",
    "              validation_split=0.15, verbose=0, shuffle=True, callbacks=[TQDMNotebookCallback(leave_inner = True, leave_outer = True), history])"
   ]
  },
  {
   "cell_type": "code",
   "execution_count": 76,
   "metadata": {
    "collapsed": false
   },
   "outputs": [
    {
     "data": {
      "image/png": "[encoded data removed]",
      "text/plain": [
       "<matplotlib.figure.Figure at 0x1e14cd480b8>"
      ]
     },
     "metadata": {},
     "output_type": "display_data"
    }
   ],
   "source": [
    "loss = history.losses\n",
    "val_loss = history.val_losses\n",
    "\n",
    "plt.xlabel('Epochs')\n",
    "plt.ylabel('Loss')\n",
    "plt.title('VGG-16 Loss Trend')\n",
    "plt.plot(loss, 'blue', label='Training Loss')\n",
    "plt.plot(val_loss, 'green', label='Validation Loss')\n",
    "plt.xticks(range(0,nb_epoch)[0::2])\n",
    "plt.legend()\n",
    "plt.show()"
   ]
  },
  {
   "cell_type": "code",
   "execution_count": 77,
   "metadata": {
    "collapsed": false
   },
   "outputs": [],
   "source": [
    "predictions = model.predict(training_x, verbose=0)"
   ]
  },
  {
   "cell_type": "code",
   "execution_count": 83,
   "metadata": {
    "collapsed": false
   },
   "outputs": [
    {
     "name": "stdout",
     "output_type": "stream",
     "text": [
      "I am 99.74% sure this property yields low interest\n",
      "I was right!\n",
      "684\n",
      "I am 99.74% sure this property yields low interest\n",
      "I was right!\n",
      "402\n",
      "I am 99.74% sure this property yields low interest\n",
      "I was right!\n",
      "42\n",
      "I am 99.74% sure this property yields low interest\n",
      "I was right!\n",
      "1354\n",
      "I am 99.74% sure this property yields low interest\n",
      "I was right!\n",
      "578\n",
      "I am 99.74% sure this property yields low interest\n",
      "I was right!\n",
      "610\n",
      "I am 99.74% sure this property yields low interest\n",
      "I was right!\n",
      "1726\n",
      "I am 99.74% sure this property yields low interest\n",
      "I was right!\n",
      "854\n",
      "I am 99.74% sure this property yields low interest\n",
      "I was right!\n",
      "864\n",
      "I am 99.74% sure this property yields low interest\n",
      "I was right!\n",
      "834\n",
      "I am 99.74% sure this property yields low interest\n",
      "I was right!\n",
      "482\n",
      "I am 99.74% sure this property yields low interest\n",
      "I was right!\n",
      "1565\n",
      "I am 99.74% sure this property yields low interest\n",
      "I was right!\n",
      "432\n",
      "I am 99.74% sure this property yields low interest\n",
      "I was right!\n",
      "194\n",
      "I am 99.74% sure this property yields low interest\n",
      "I was right!\n",
      "1040\n"
     ]
    }
   ],
   "source": [
    "indx = 0\n",
    "\n",
    "for i in np.random.randint(0,1900,15):\n",
    "    if predictions[i][0] >= 0.5: \n",
    "        print('I am {:.2%} sure this property yields low interest'.format(predictions[i][0]))\n",
    "        #print('The price on this property is ${0} per month'.format(training_aux_clean[i][0]))\n",
    "        if list(training_y[i]) == [1,0,0]:\n",
    "            print('I was right!')\n",
    "        else:\n",
    "            print('I was wrong ')\n",
    "        print(i)\n",
    "    elif predictions[i][1] >= 0.5:\n",
    "        print('I am {:.2%} sure this property yields medium interest'.format(predictions[i][1]))\n",
    "        #print('The price on this property is ${0} per month'.format(training_aux_clean[i][0]))\n",
    "        if list(training_y[i]) == [0,1,0]:\n",
    "            print('I was right!')\n",
    "        else:\n",
    "            print('I was wrong ')\n",
    "        print(i)\n",
    "    elif predictions[i][2] >= 0.5:\n",
    "        print('I am {:.2%} sure this propertry yields high interest'.format(predictions[i][2]))\n",
    "        #print('The price on this property is ${0} per month'.format(training_aux_clean[i][0]))\n",
    "        if list(training_y[i]) == [0,0,1]:\n",
    "            print('I was right!')\n",
    "        else:\n",
    "            print('I was wrong ')\n",
    "        print(i)\n",
    "    else:\n",
    "        print('Im not really sure what interest this property yields')\n",
    "        print(i)\n",
    "        \n",
    "    \n",
    "#     plt.imshow(training_x_clean[i])\n",
    "#     plt.show()"
   ]
  },
  {
   "cell_type": "code",
   "execution_count": 84,
   "metadata": {
    "collapsed": false
   },
   "outputs": [
    {
     "name": "stderr",
     "output_type": "stream",
     "text": [
      "C:\\Users\\Stoja\\Anaconda3\\envs\\tensorflow2\\lib\\site-packages\\sklearn\\metrics\\ranking.py:542: UndefinedMetricWarning: No positive samples in y_true, true positive value should be meaningless\n",
      "  UndefinedMetricWarning)\n"
     ]
    }
   ],
   "source": [
    "fpr = dict()\n",
    "tpr = dict()\n",
    "roc_auc = dict()\n",
    "\n",
    "for i in range(3):\n",
    "    fpr[i], tpr[i], _ = metrics.roc_curve(training_y[:, i], predictions[:, i])\n",
    "    roc_auc[i] = metrics.auc(fpr[i], tpr[i])"
   ]
  },
  {
   "cell_type": "code",
   "execution_count": 85,
   "metadata": {
    "collapsed": false
   },
   "outputs": [
    {
     "data": {
      "text/plain": [
       "{0: 0.500030593514175, 1: 0.43568052516965783, 2: nan}"
      ]
     },
     "execution_count": 85,
     "metadata": {},
     "output_type": "execute_result"
    }
   ],
   "source": [
    "roc_auc"
   ]
  },
  {
   "cell_type": "code",
   "execution_count": null,
   "metadata": {
    "collapsed": true
   },
   "outputs": [],
   "source": []
  }
 ],
 "metadata": {
  "anaconda-cloud": {},
  "kernelspec": {
   "display_name": "Python [default]",
   "language": "python",
   "name": "python3"
  },
  "language_info": {
   "codemirror_mode": {
    "name": "ipython",
    "version": 3
   },
   "file_extension": ".py",
   "mimetype": "text/x-python",
   "name": "python",
   "nbconvert_exporter": "python",
   "pygments_lexer": "ipython3",
   "version": "3.5.2"
  },
  "widgets": {
   "state": {
    "019c1a47d8584394b811421ff7ac9815": {
     "views": [
      {
       "cell_index": 11
      }
     ]
    },
    "0275091a7d15496280479983179fa8ba": {
     "views": [
      {
       "cell_index": 11
      }
     ]
    },
    "0659e369dea4438f91751fbe2d094caf": {
     "views": [
      {
       "cell_index": 11
      }
     ]
    },
    "07f0867b07af4f66881a6a61d2466cd3": {
     "views": [
      {
       "cell_index": 11
      }
     ]
    },
    "10ea87d363d34f0dbf916e69d7933773": {
     "views": [
      {
       "cell_index": 11
      }
     ]
    },
    "14499df032834c49852210e771cbaccc": {
     "views": [
      {
       "cell_index": 11
      }
     ]
    },
    "1cfd23838e2344bea50c24ddd484f526": {
     "views": [
      {
       "cell_index": 11
      }
     ]
    },
    "1d9f447c7a9f4fec871ec8bf9d8b1fca": {
     "views": [
      {
       "cell_index": 11
      }
     ]
    },
    "1da7d8b5def34648a4442454869d7e2c": {
     "views": [
      {
       "cell_index": 11
      }
     ]
    },
    "23b9830470be4b61a52e982df28246d4": {
     "views": [
      {
       "cell_index": 11
      }
     ]
    },
    "373501f501214e3e84a2216c3ba85475": {
     "views": [
      {
       "cell_index": 11
      }
     ]
    },
    "50e256782b724da8baa4bbf08644f25b": {
     "views": [
      {
       "cell_index": 11
      }
     ]
    },
    "5475cd1f96aa4baf893b4bd350e5b257": {
     "views": [
      {
       "cell_index": 11
      }
     ]
    },
    "60cafcc7514f4fc8a720e8eb5e1b22c9": {
     "views": [
      {
       "cell_index": 11
      }
     ]
    },
    "7170b6efee464a658e639c00105e24c0": {
     "views": [
      {
       "cell_index": 11
      }
     ]
    },
    "83c6f070db064d22aff28caf6675087d": {
     "views": [
      {
       "cell_index": 11
      }
     ]
    },
    "9300a6602e1a4062a87d8410f2238787": {
     "views": [
      {
       "cell_index": 11
      }
     ]
    },
    "b561863778534055a6b9f493c3e5c16b": {
     "views": [
      {
       "cell_index": 11
      }
     ]
    },
    "b7dbf88d6c4642dda81966cbfa2e4244": {
     "views": [
      {
       "cell_index": 11
      }
     ]
    },
    "b95e79f100584b96a216bd4849e8095b": {
     "views": [
      {
       "cell_index": 11
      }
     ]
    },
    "c1a0311939ad43db8e336b3306df71f0": {
     "views": [
      {
       "cell_index": 11
      }
     ]
    },
    "d4417faadfd04fb6a72bf35634ecb24d": {
     "views": [
      {
       "cell_index": 11
      }
     ]
    },
    "d87c8d7334284755947e44f51a60a9c6": {
     "views": [
      {
       "cell_index": 11
      }
     ]
    },
    "e3cbce1a436b48d7b9e0cd9eb8c6f5ba": {
     "views": [
      {
       "cell_index": 11
      }
     ]
    },
    "fb02e33048be414095699f353868924e": {
     "views": [
      {
       "cell_index": 11
      }
     ]
    }
   },
   "version": "1.2.0"
  }
 },
 "nbformat": 4,
 "nbformat_minor": 2
}
