{
 "cells": [
  {
   "cell_type": "code",
   "execution_count": 62,
   "metadata": {
    "collapsed": false
   },
   "outputs": [],
   "source": [
    "import numpy as np\n",
    "import pandas as pd\n",
    "import matplotlib.pyplot as plt\n",
    "from tqdm import tqdm\n",
    "\n",
    "import pickle\n",
    "import feather\n",
    "import tensorflow as tf\n",
    "\n",
    "from keras.layers import Input, Embedding, LSTM, Dense, merge\n",
    "from keras.models import Model\n",
    "from keras.models import Sequential\n",
    "from keras.layers import Input, Dropout, Flatten, Convolution2D, MaxPooling2D, Dense, Activation\n",
    "from keras.layers import Convolution1D, GlobalMaxPooling1D, MaxPooling1D, LocallyConnected1D\n",
    "from keras.layers import Embedding\n",
    "from keras.optimizers import RMSprop\n",
    "from keras.callbacks import ModelCheckpoint, Callback, EarlyStopping\n",
    "from keras.utils import np_utils\n",
    "from IPython.display import SVG\n",
    "from keras.utils.visualize_util import plot\n",
    "from keras.utils.visualize_util import model_to_dot\n",
    "from keras.preprocessing import text\n",
    "from keras.preprocessing import sequence\n",
    "\n",
    "from keras_tqdm import TQDMNotebookCallback\n",
    "\n",
    "from sklearn import metrics"
   ]
  },
  {
   "cell_type": "code",
   "execution_count": 2,
   "metadata": {
    "collapsed": true
   },
   "outputs": [],
   "source": [
    "def MapInterestToVector(interest_level):\n",
    "    if interest_level == 'low':\n",
    "        return [1,0,0]\n",
    "    elif interest_level == 'medium':\n",
    "        return [0,1,0]\n",
    "    elif interest_level == 'high':\n",
    "        return [0,0,1]\n",
    "    else:\n",
    "        return [0,0,0]"
   ]
  },
  {
   "cell_type": "code",
   "execution_count": 3,
   "metadata": {
    "collapsed": true
   },
   "outputs": [],
   "source": [
    "#training_frame = pickle.load( open( '../../Data/RentalListingData/training_set_with_images_and_features.pkl', 'rb' ) )\n",
    "training_frame = feather.read_dataframe(path='../../Data/RentalListingData/first_dataframe_train_with_feature_clusters')\n",
    "training_frame['interest_vector'] = training_frame['interest_level'].apply(MapInterestToVector)"
   ]
  },
  {
   "cell_type": "code",
   "execution_count": 4,
   "metadata": {
    "collapsed": false
   },
   "outputs": [],
   "source": [
    "training_y = list(training_frame['interest_vector'])\n",
    "training_y = np.array(training_y).astype(float)"
   ]
  },
  {
   "cell_type": "code",
   "execution_count": 5,
   "metadata": {
    "collapsed": true
   },
   "outputs": [],
   "source": [
    "max_features = 4000\n",
    "maxlen = 250\n",
    "batch_size = 32\n",
    "embedding_dims = 60\n",
    "nb_filter = 250\n",
    "filter_length = 3\n",
    "hidden_dims = 250\n",
    "nb_epoch = 2"
   ]
  },
  {
   "cell_type": "code",
   "execution_count": 6,
   "metadata": {
    "collapsed": false
   },
   "outputs": [],
   "source": [
    "training_descriptions = list(training_frame['description'])\n",
    "word_tokens = text.Tokenizer(max_features, lower=True, split=\" \")\n",
    "word_tokens.fit_on_texts(training_descriptions)\n",
    "text_seqs = word_tokens.texts_to_sequences(training_descriptions)\n",
    "text_matrix = word_tokens.texts_to_matrix(training_descriptions)"
   ]
  },
  {
   "cell_type": "code",
   "execution_count": 7,
   "metadata": {
    "collapsed": false
   },
   "outputs": [
    {
     "name": "stderr",
     "output_type": "stream",
     "text": [
      "100%|███████████████████████████████████████████████████████████████████████| 49352/49352 [00:00<00:00, 2461030.69it/s]\n"
     ]
    }
   ],
   "source": [
    "original_word_lengths = [ len(text_seqs[i]) for i in tqdm(range(len(text_seqs))) ]"
   ]
  },
  {
   "cell_type": "code",
   "execution_count": 8,
   "metadata": {
    "collapsed": false
   },
   "outputs": [
    {
     "data": {
      "image/png": "[encoded data removed]",
      "text/plain": [
       "<matplotlib.figure.Figure at 0x2748803cf98>"
      ]
     },
     "metadata": {},
     "output_type": "display_data"
    }
   ],
   "source": [
    "plt.hist(original_word_lengths, bins= 300)\n",
    "#plt.figure(figsize=(8,8))\n",
    "plt.show()"
   ]
  },
  {
   "cell_type": "code",
   "execution_count": 9,
   "metadata": {
    "collapsed": false
   },
   "outputs": [],
   "source": [
    "seq_train = sequence.pad_sequences(text_seqs, maxlen=maxlen)"
   ]
  },
  {
   "cell_type": "code",
   "execution_count": 109,
   "metadata": {
    "collapsed": false
   },
   "outputs": [],
   "source": [
    "model = Sequential()\n",
    "\n",
    "model.add(Embedding(max_features,\n",
    "                    embedding_dims,\n",
    "                    input_length=maxlen,\n",
    "                    dropout=0.1))\n",
    "\n",
    "#model.add(LSTM(32, input_shape=(10, 64)))\n",
    "\n",
    "#model.add(LSTM(16))\n",
    "\n",
    "model.add(Convolution1D(nb_filter=nb_filter,\n",
    "                        filter_length=5,\n",
    "                        border_mode='valid',\n",
    "                        activation='relu',\n",
    "                        subsample_length=2))\n",
    "\n",
    "model.add(MaxPooling1D(pool_length=2, border_mode='valid'))\n",
    "\n",
    "# model.add(Convolution1D(nb_filter=120,\n",
    "#                         filter_length=5,\n",
    "#                         border_mode='valid',\n",
    "#                         activation='relu',\n",
    "#                         subsample_length=2))\n",
    "\n",
    "# model.add(MaxPooling1D(pool_length=2, border_mode='valid'))\n",
    "\n",
    "model.add(Convolution1D(nb_filter=60,\n",
    "                        filter_length=5,\n",
    "                        border_mode='valid',\n",
    "                        activation='relu',\n",
    "                        subsample_length=1))\n",
    "\n",
    "\n",
    "model.add(GlobalMaxPooling1D())\n",
    "\n",
    "\n",
    "model.add(Dense(250))\n",
    "model.add(Dropout(0.2))\n",
    "model.add(Activation('relu'))\n",
    "\n",
    "# model.add(Dense(120))\n",
    "# model.add(Dropout(0.2))\n",
    "# model.add(Activation('relu'))\n",
    "\n",
    "model.add(Dense(3))\n",
    "model.add(Activation('softmax'))\n",
    "\n",
    "model.compile(loss='categorical_crossentropy',\n",
    "              optimizer='rmsprop',\n",
    "              metrics=['accuracy'])"
   ]
  },
  {
   "cell_type": "code",
   "execution_count": 110,
   "metadata": {
    "collapsed": false
   },
   "outputs": [
    {
     "data": {
      "text/plain": [
       "(49352, 4000)"
      ]
     },
     "execution_count": 110,
     "metadata": {},
     "output_type": "execute_result"
    }
   ],
   "source": [
    "np.shape(text_matrix)"
   ]
  },
  {
   "cell_type": "code",
   "execution_count": 134,
   "metadata": {
    "collapsed": false
   },
   "outputs": [],
   "source": [
    "model2 = Sequential()\n",
    "\n",
    "model2.add(Dense(500, batch_input_shape = (None, 4000), activation = 'sigmoid'))\n",
    "model2.add(Dropout(0.5))\n",
    "#model2.add(Activation('relu'))\n",
    "\n",
    "model2.add(Dense(50, activation = 'sigmoid'))\n",
    "model2.add(Dropout(0.3))\n",
    "\n",
    "model2.add(Dense(120, activation = 'relu'))\n",
    "model2.add(Dropout(0.6))\n",
    "#model2.add(Activation('relu'))\n",
    "\n",
    "model2.add(Dense(3))\n",
    "model2.add(Activation('softmax'))\n",
    "\n",
    "model2.compile(loss='categorical_crossentropy',\n",
    "              optimizer='rmsprop',\n",
    "              metrics=['accuracy'])"
   ]
  },
  {
   "cell_type": "code",
   "execution_count": 135,
   "metadata": {
    "collapsed": true
   },
   "outputs": [],
   "source": [
    "nb_epoch = 10\n",
    "batch_size = 32\n",
    "\n",
    "## Callback for loss logging per epoch\n",
    "class LossHistory(Callback):\n",
    "    def on_train_begin(self, logs={}):\n",
    "        self.losses = []\n",
    "        self.val_losses = []\n",
    "        \n",
    "    def on_epoch_end(self, batch, logs={}):\n",
    "        self.losses.append(logs.get('loss'))\n",
    "        self.val_losses.append(logs.get('val_loss'))\n",
    "\n",
    "early_stopping = EarlyStopping(monitor='val_loss', patience=4, verbose=1, mode='auto')   \n",
    "history = LossHistory()"
   ]
  },
  {
   "cell_type": "code",
   "execution_count": 113,
   "metadata": {
    "collapsed": false
   },
   "outputs": [
    {
     "name": "stderr",
     "output_type": "stream",
     "text": [
      "C:\\Users\\Stoja\\Anaconda3\\envs\\tensorflow2\\lib\\site-packages\\tensorflow\\python\\ops\\gradients_impl.py:91: UserWarning: Converting sparse IndexedSlices to a dense Tensor of unknown shape. This may consume a large amount of memory.\n",
      "  \"Converting sparse IndexedSlices to a dense Tensor of unknown shape. \"\n"
     ]
    },
    {
     "name": "stdout",
     "output_type": "stream",
     "text": [
      "\n"
     ]
    },
    {
     "data": {
      "text/plain": [
       "<keras.callbacks.History at 0x27705943a90>"
      ]
     },
     "execution_count": 113,
     "metadata": {},
     "output_type": "execute_result"
    }
   ],
   "source": [
    "model.fit(seq_train, training_y, batch_size=batch_size, nb_epoch=nb_epoch,\n",
    "              validation_split=0.15, verbose=0, shuffle=True, callbacks=[TQDMNotebookCallback(leave_inner = True, leave_outer = True), history])"
   ]
  },
  {
   "cell_type": "code",
   "execution_count": 114,
   "metadata": {
    "collapsed": false
   },
   "outputs": [
    {
     "data": {
      "image/png": "[encoded data removed]",
      "text/plain": [
       "<matplotlib.figure.Figure at 0x2770703e8d0>"
      ]
     },
     "metadata": {},
     "output_type": "display_data"
    }
   ],
   "source": [
    "loss = history.losses\n",
    "val_loss = history.val_losses\n",
    "\n",
    "plt.xlabel('Epochs')\n",
    "plt.ylabel('Loss')\n",
    "plt.title('VGG-16 Loss Trend')\n",
    "plt.plot(loss, 'blue', label='Training Loss')\n",
    "plt.plot(val_loss, 'green', label='Validation Loss')\n",
    "plt.xticks(range(0,nb_epoch)[0::2])\n",
    "plt.legend()\n",
    "plt.show()"
   ]
  },
  {
   "cell_type": "code",
   "execution_count": 136,
   "metadata": {
    "collapsed": false
   },
   "outputs": [
    {
     "name": "stdout",
     "output_type": "stream",
     "text": [
      "\n"
     ]
    },
    {
     "data": {
      "text/plain": [
       "<keras.callbacks.History at 0x2770891e978>"
      ]
     },
     "execution_count": 136,
     "metadata": {},
     "output_type": "execute_result"
    }
   ],
   "source": [
    "model2.fit(text_matrix, training_y, batch_size=batch_size, nb_epoch=nb_epoch,\n",
    "              validation_split=0.15, verbose=0, shuffle=True, callbacks=[TQDMNotebookCallback(leave_inner = True, leave_outer = True), history])"
   ]
  },
  {
   "cell_type": "code",
   "execution_count": 137,
   "metadata": {
    "collapsed": false
   },
   "outputs": [
    {
     "data": {
      "image/png": "[encoded data removed]",
      "text/plain": [
       "<matplotlib.figure.Figure at 0x27709c97cc0>"
      ]
     },
     "metadata": {},
     "output_type": "display_data"
    }
   ],
   "source": [
    "loss = history.losses\n",
    "val_loss = history.val_losses\n",
    "\n",
    "plt.xlabel('Epochs')\n",
    "plt.ylabel('Loss')\n",
    "plt.title('VGG-16 Loss Trend')\n",
    "plt.plot(loss, 'blue', label='Training Loss')\n",
    "plt.plot(val_loss, 'green', label='Validation Loss')\n",
    "plt.xticks(range(0,nb_epoch)[0::2])\n",
    "plt.legend()\n",
    "plt.show()"
   ]
  },
  {
   "cell_type": "code",
   "execution_count": 138,
   "metadata": {
    "collapsed": false
   },
   "outputs": [],
   "source": [
    "predictions = model2.predict(text_matrix, verbose=0)\n",
    "#predictions = model.predict(seq_train, verbose=0)"
   ]
  },
  {
   "cell_type": "code",
   "execution_count": 149,
   "metadata": {
    "collapsed": false
   },
   "outputs": [
    {
     "name": "stdout",
     "output_type": "stream",
     "text": [
      "I am 78.49% sure this property yields low interest\n",
      "I was wrong \n",
      "1562\n",
      "I am 95.46% sure this property yields low interest\n",
      "I was right!\n",
      "952\n",
      "I am 83.49% sure this property yields low interest\n",
      "I was right!\n",
      "1341\n",
      "I am 95.32% sure this property yields low interest\n",
      "I was right!\n",
      "39\n",
      "Im not really sure what interest this property yields\n",
      "843\n",
      "I am 55.97% sure this property yields medium interest\n",
      "I was right!\n",
      "1862\n",
      "I am 90.78% sure this property yields low interest\n",
      "I was wrong \n",
      "956\n",
      "I am 69.42% sure this property yields low interest\n",
      "I was right!\n",
      "114\n",
      "I am 74.84% sure this property yields low interest\n",
      "I was wrong \n",
      "1352\n",
      "Im not really sure what interest this property yields\n",
      "1671\n",
      "I am 77.32% sure this property yields low interest\n",
      "I was wrong \n",
      "1369\n",
      "I am 75.53% sure this property yields low interest\n",
      "I was right!\n",
      "733\n",
      "I am 81.58% sure this property yields low interest\n",
      "I was right!\n",
      "1390\n",
      "I am 90.78% sure this property yields low interest\n",
      "I was right!\n",
      "1051\n",
      "I am 62.03% sure this property yields low interest\n",
      "I was right!\n",
      "1535\n"
     ]
    }
   ],
   "source": [
    "indx = 0\n",
    "\n",
    "for i in np.random.randint(0,1900,15):\n",
    "    if predictions[i][0] >= 0.5: \n",
    "        print('I am {:.2%} sure this property yields low interest'.format(predictions[i][0]))\n",
    "        #print('The price on this property is ${0} per month'.format(training_aux_clean[i][0]))\n",
    "        if list(training_y[i]) == [1,0,0]:\n",
    "            print('I was right!')\n",
    "        else:\n",
    "            print('I was wrong ')\n",
    "        print(i)\n",
    "    elif predictions[i][1] >= 0.5:\n",
    "        print('I am {:.2%} sure this property yields medium interest'.format(predictions[i][1]))\n",
    "        #print('The price on this property is ${0} per month'.format(training_aux_clean[i][0]))\n",
    "        if list(training_y[i]) == [0,1,0]:\n",
    "            print('I was right!')\n",
    "        else:\n",
    "            print('I was wrong ')\n",
    "        print(i)\n",
    "    elif predictions[i][2] >= 0.5:\n",
    "        print('I am {:.2%} sure this propertry yields high interest'.format(predictions[i][2]))\n",
    "        #print('The price on this property is ${0} per month'.format(training_aux_clean[i][0]))\n",
    "        if list(training_y[i]) == [0,0,1]:\n",
    "            print('I was right!')\n",
    "        else:\n",
    "            print('I was wrong ')\n",
    "        print(i)\n",
    "    else:\n",
    "        print('Im not really sure what interest this property yields')\n",
    "        print(i)\n",
    "        \n",
    "    \n",
    "#     plt.imshow(training_x_clean[i])\n",
    "#     plt.show()"
   ]
  },
  {
   "cell_type": "code",
   "execution_count": 140,
   "metadata": {
    "collapsed": true
   },
   "outputs": [],
   "source": [
    "fpr = dict()\n",
    "tpr = dict()\n",
    "roc_auc = dict()\n",
    "\n",
    "for i in range(3):\n",
    "    fpr[i], tpr[i], _ = metrics.roc_curve(training_y[:, i], predictions[:, i])\n",
    "    roc_auc[i] = metrics.auc(fpr[i], tpr[i])"
   ]
  },
  {
   "cell_type": "code",
   "execution_count": 141,
   "metadata": {
    "collapsed": false
   },
   "outputs": [
    {
     "data": {
      "text/plain": [
       "{0: 0.77995821288608891, 1: 0.73645947050284266, 2: 0.78979388094303282}"
      ]
     },
     "execution_count": 141,
     "metadata": {},
     "output_type": "execute_result"
    }
   ],
   "source": [
    "roc_auc"
   ]
  },
  {
   "cell_type": "code",
   "execution_count": null,
   "metadata": {
    "collapsed": true
   },
   "outputs": [],
   "source": []
  }
 ],
 "metadata": {
  "anaconda-cloud": {},
  "kernelspec": {
   "display_name": "Python [conda env:tensorflow2]",
   "language": "python",
   "name": "conda-env-tensorflow2-py"
  },
  "language_info": {
   "codemirror_mode": {
    "name": "ipython",
    "version": 3
   },
   "file_extension": ".py",
   "mimetype": "text/x-python",
   "name": "python",
   "nbconvert_exporter": "python",
   "pygments_lexer": "ipython3",
   "version": "3.5.2"
  },
  "widgets": {
   "state": {
    "0283c50578774a9dbc9e9a060d8e37b9": {
     "views": [
      {
       "cell_index": 15
      }
     ]
    },
    "04a633b30fbd44f0890e9ea11a8d0e84": {
     "views": [
      {
       "cell_index": 15
      }
     ]
    },
    "0531a88aeeb04ef78108e11552322785": {
     "views": [
      {
       "cell_index": 13
      }
     ]
    },
    "0adbe764196247858243919f0bef936b": {
     "views": [
      {
       "cell_index": 15
      }
     ]
    },
    "0c8c73f0aaf8489aa58b840d4cca7301": {
     "views": [
      {
       "cell_index": 15
      }
     ]
    },
    "0d17f50442f14a7db750907b4df84aad": {
     "views": [
      {
       "cell_index": 15
      }
     ]
    },
    "0f5fad495c7445a292c10148409d4330": {
     "views": [
      {
       "cell_index": 15
      }
     ]
    },
    "10867974f09d4c898e1c3e4734c56b7d": {
     "views": [
      {
       "cell_index": 13
      }
     ]
    },
    "14e6c13e9ae540ffabff2f5dc9f253bd": {
     "views": [
      {
       "cell_index": 15
      }
     ]
    },
    "1607a82c1c414b85920f58b893bd2395": {
     "views": [
      {
       "cell_index": 15
      }
     ]
    },
    "186d5cf416984e9ba72ec79aca11f290": {
     "views": [
      {
       "cell_index": 13
      }
     ]
    },
    "193a7e2bc76241a69dee4695e4fc51c8": {
     "views": [
      {
       "cell_index": 15
      }
     ]
    },
    "1aa1bf565ca1444282b6c0ba336bdcd7": {
     "views": [
      {
       "cell_index": 15
      }
     ]
    },
    "1bcb954d9456488db8a6c32021118f5e": {
     "views": [
      {
       "cell_index": 15
      }
     ]
    },
    "1d598209fc6f435c9b26ee1edb10761a": {
     "views": [
      {
       "cell_index": 15
      }
     ]
    },
    "1e0b5a170f40408c80d012e818e11266": {
     "views": [
      {
       "cell_index": 15
      }
     ]
    },
    "1ec962310eb54291b40c8eb46df3f67b": {
     "views": [
      {
       "cell_index": 15
      }
     ]
    },
    "20466f55dd6b47a796bcce8e769f1a7c": {
     "views": [
      {
       "cell_index": 15
      }
     ]
    },
    "2349c9d0e7124fb3bb31a861ca9faf6e": {
     "views": [
      {
       "cell_index": 15
      }
     ]
    },
    "23ac04d1b14245d7b1c6105fe36e811f": {
     "views": [
      {
       "cell_index": 15
      }
     ]
    },
    "25d8b12201c942ee9d242ae98a5ed8d5": {
     "views": [
      {
       "cell_index": 15
      }
     ]
    },
    "27dedfbdccb145d9a5590e5d5e19ee9d": {
     "views": [
      {
       "cell_index": 15
      }
     ]
    },
    "2bc2915712fd45978b4b982a505e39fd": {
     "views": [
      {
       "cell_index": 15
      }
     ]
    },
    "2f25b46ed0fb4f94ba38977fc08d1ce3": {
     "views": [
      {
       "cell_index": 15
      }
     ]
    },
    "342aa14989d149688bf53817e8369fe5": {
     "views": [
      {
       "cell_index": 15
      }
     ]
    },
    "34bf225752d24f9aa4afcf6be8b85f41": {
     "views": [
      {
       "cell_index": 15
      }
     ]
    },
    "37c9272b368949318303e5251d86b792": {
     "views": [
      {
       "cell_index": 15
      }
     ]
    },
    "37fc7bd5fca6456a817b6566c562d0a0": {
     "views": [
      {
       "cell_index": 15
      }
     ]
    },
    "38fe9f4cefc942b6987dc86190931449": {
     "views": [
      {
       "cell_index": 13
      }
     ]
    },
    "3bdaf9685fa449e89ded099447092461": {
     "views": [
      {
       "cell_index": 15
      }
     ]
    },
    "3ddc8b9d26b84896bea87557166eb0ac": {
     "views": [
      {
       "cell_index": 13
      }
     ]
    },
    "424f673def6349e587b8551ed985892a": {
     "views": [
      {
       "cell_index": 15
      }
     ]
    },
    "44585f06086e4c4e9ed3ed57035da77e": {
     "views": [
      {
       "cell_index": 15
      }
     ]
    },
    "45e1fefdcae94dfd8ebfde177c0a1e2c": {
     "views": [
      {
       "cell_index": 15
      }
     ]
    },
    "4a5423cd29a249dfb5af623545b767e6": {
     "views": [
      {
       "cell_index": 15
      }
     ]
    },
    "507774414ed3463384d1f01b5e22b2f4": {
     "views": [
      {
       "cell_index": 15
      }
     ]
    },
    "53fd2a77ffee48dca86ff41cb9c8af3f": {
     "views": [
      {
       "cell_index": 13
      }
     ]
    },
    "567a432ad157455bb3b397d78a9cd62e": {
     "views": [
      {
       "cell_index": 15
      }
     ]
    },
    "56c05b9675d84864b707898c56a021dc": {
     "views": [
      {
       "cell_index": 15
      }
     ]
    },
    "5ab1cb1e16cf4057b2c507a0ca437ae3": {
     "views": [
      {
       "cell_index": 15
      }
     ]
    },
    "5bed1fd1eff942fc9f7205f106d8d9f8": {
     "views": [
      {
       "cell_index": 13
      }
     ]
    },
    "5dfabb3127074af6bbf69ecba273e8dc": {
     "views": [
      {
       "cell_index": 13
      }
     ]
    },
    "60bdb51cb4bf4582aa229eefdb03203b": {
     "views": [
      {
       "cell_index": 15
      }
     ]
    },
    "611416c7c5ff4c2bb7beee326e7887e2": {
     "views": [
      {
       "cell_index": 15
      }
     ]
    },
    "61f47ed5b36e4503aacfa00269f941bc": {
     "views": [
      {
       "cell_index": 15
      }
     ]
    },
    "6223d195a40f4ec4947d2f4d58e567ec": {
     "views": [
      {
       "cell_index": 15
      }
     ]
    },
    "65fc0d86a67b40bd83f1920ec866543e": {
     "views": [
      {
       "cell_index": 15
      }
     ]
    },
    "707940c4cc5443fb990536a8a0920bcb": {
     "views": [
      {
       "cell_index": 13
      }
     ]
    },
    "7a0b3ff4300d48b7ac8b48d7517f10df": {
     "views": [
      {
       "cell_index": 15
      }
     ]
    },
    "7cf5e7c984694adabfe314809b6224a4": {
     "views": [
      {
       "cell_index": 15
      }
     ]
    },
    "7e75fe833dee499690defc8b02884d66": {
     "views": [
      {
       "cell_index": 15
      }
     ]
    },
    "7f3ef2d83d6c431ea4ac6bdc3c3380f6": {
     "views": [
      {
       "cell_index": 13
      }
     ]
    },
    "87ae865db6fc453387f2fa1b61ae31dd": {
     "views": [
      {
       "cell_index": 15
      }
     ]
    },
    "89c83b5b55ba4b3ab373766b948f9468": {
     "views": [
      {
       "cell_index": 15
      }
     ]
    },
    "906ebcc1ef574009831131c5b7fede4a": {
     "views": [
      {
       "cell_index": 15
      }
     ]
    },
    "91205b6842e64ef39563cda0a354072f": {
     "views": [
      {
       "cell_index": 15
      }
     ]
    },
    "938df085047e4bd29e2523567bd991c7": {
     "views": [
      {
       "cell_index": 15
      }
     ]
    },
    "947cef8441f4407f8a87f1b1cbf0cc3d": {
     "views": [
      {
       "cell_index": 13
      }
     ]
    },
    "96fa8ce7fcc24ac0b3725c735a0c570b": {
     "views": [
      {
       "cell_index": 15
      }
     ]
    },
    "9b39c7e3e6414c11b8868072ba88f1a9": {
     "views": [
      {
       "cell_index": 15
      }
     ]
    },
    "9cfafd63054546d5aa7bb57f17142f0c": {
     "views": [
      {
       "cell_index": 15
      }
     ]
    },
    "9d94a91b2ef741f2af5dcebfaceb6ca8": {
     "views": [
      {
       "cell_index": 15
      }
     ]
    },
    "a0e4f09b7f3e41188532497f52e4715a": {
     "views": [
      {
       "cell_index": 13
      }
     ]
    },
    "a58093f11f334cdebbe23574871395a7": {
     "views": [
      {
       "cell_index": 15
      }
     ]
    },
    "a6c5e3ac226745ca82888fe19faf5d52": {
     "views": [
      {
       "cell_index": 15
      }
     ]
    },
    "a7acfb4ae3ea4ec5b44b1042bb3ed32c": {
     "views": [
      {
       "cell_index": 15
      }
     ]
    },
    "a93e198769a64ababfb23d73f0cf477f": {
     "views": [
      {
       "cell_index": 15
      }
     ]
    },
    "a96ed12c0395487897c00dfae7c37d34": {
     "views": [
      {
       "cell_index": 15
      }
     ]
    },
    "aa8f840313e943dcba2d2873a141d46e": {
     "views": [
      {
       "cell_index": 15
      }
     ]
    },
    "ac7c968546d84052b6087225e747e167": {
     "views": [
      {
       "cell_index": 15
      }
     ]
    },
    "ac9870d7cf6449128f14aedddffe2ba8": {
     "views": [
      {
       "cell_index": 15
      }
     ]
    },
    "b3d792f443294edd9f7c3b50ec0881a4": {
     "views": [
      {
       "cell_index": 15
      }
     ]
    },
    "bdac284a76924fbeaf5fad8e47f229cd": {
     "views": [
      {
       "cell_index": 15
      }
     ]
    },
    "c0619995cd4d4d738782e7935fa1be02": {
     "views": [
      {
       "cell_index": 15
      }
     ]
    },
    "c1044d7cb3e342c3bbe6e78ee54996c9": {
     "views": [
      {
       "cell_index": 15
      }
     ]
    },
    "c3752eea7dfe4e258c0287957d33b915": {
     "views": [
      {
       "cell_index": 13
      }
     ]
    },
    "c3a9effe55c74923ac60ad6ee2676a0b": {
     "views": [
      {
       "cell_index": 15
      }
     ]
    },
    "c497fe741d884b1eb08706989ac79965": {
     "views": [
      {
       "cell_index": 15
      }
     ]
    },
    "ce1ff15bcda54eedbe40ba1338ba7f7a": {
     "views": [
      {
       "cell_index": 15
      }
     ]
    },
    "cf3e9b97a4124b96988bfde6e9097baa": {
     "views": [
      {
       "cell_index": 15
      }
     ]
    },
    "d10d6c10729540dd8fe188fc299adbb0": {
     "views": [
      {
       "cell_index": 15
      }
     ]
    },
    "d5851ac3de644ec8be940966f7191a88": {
     "views": [
      {
       "cell_index": 15
      }
     ]
    },
    "d8e3e6e37e344b60952ab8a1508602c4": {
     "views": [
      {
       "cell_index": 15
      }
     ]
    },
    "dab67e913013468287707a2e7362a9ff": {
     "views": [
      {
       "cell_index": 13
      }
     ]
    },
    "dc25454d362741cd90ab5885def26068": {
     "views": [
      {
       "cell_index": 15
      }
     ]
    },
    "df5b858a39314bb693784577ca0e917d": {
     "views": [
      {
       "cell_index": 13
      }
     ]
    },
    "e0a5a8f70ddf4764b4dbe74093017ee1": {
     "views": [
      {
       "cell_index": 13
      }
     ]
    },
    "e4742d91b7394b51af5ee7b1305d1d38": {
     "views": [
      {
       "cell_index": 15
      }
     ]
    },
    "e56a2b76a6ee489daab62d14ac66398f": {
     "views": [
      {
       "cell_index": 13
      }
     ]
    },
    "e5f83da84d164397a7d60a6f53e8f6b8": {
     "views": [
      {
       "cell_index": 15
      }
     ]
    },
    "f0a1303a77244bb69cee7b14d12987e5": {
     "views": [
      {
       "cell_index": 15
      }
     ]
    },
    "f1deb52b4d174f78a1eebf7d86c9fbe2": {
     "views": [
      {
       "cell_index": 15
      }
     ]
    },
    "fb8ef13efaef4517a6c26390e17ee584": {
     "views": [
      {
       "cell_index": 15
      }
     ]
    },
    "fcd5202dd5514a558178939a77b44704": {
     "views": [
      {
       "cell_index": 15
      }
     ]
    }
   },
   "version": "1.2.0"
  }
 },
 "nbformat": 4,
 "nbformat_minor": 2
}
