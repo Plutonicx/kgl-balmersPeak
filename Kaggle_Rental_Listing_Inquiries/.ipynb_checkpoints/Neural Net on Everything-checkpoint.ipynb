{
 "cells": [
  {
   "cell_type": "code",
   "execution_count": 1,
   "metadata": {
    "collapsed": false
   },
   "outputs": [
    {
     "name": "stderr",
     "output_type": "stream",
     "text": [
      "Using TensorFlow backend.\n"
     ]
    }
   ],
   "source": [
    "import numpy as np\n",
    "import pandas as pd\n",
    "import matplotlib.pyplot as plt\n",
    "from tqdm import tqdm\n",
    "\n",
    "import pickle\n",
    "import feather\n",
    "import tensorflow as tf\n",
    "\n",
    "from keras.layers import Input, Embedding, LSTM, Dense, merge\n",
    "from keras.models import Model\n",
    "from keras.models import Sequential\n",
    "from keras.layers import Input, Dropout, Flatten, Convolution2D, MaxPooling2D, Dense, Activation\n",
    "from keras.layers import Convolution1D, GlobalMaxPooling1D, MaxPooling1D\n",
    "from keras.layers import Embedding\n",
    "from keras.optimizers import RMSprop\n",
    "from keras.callbacks import ModelCheckpoint, Callback, EarlyStopping\n",
    "from keras.utils import np_utils\n",
    "from IPython.display import SVG\n",
    "from keras.utils.visualize_util import plot\n",
    "from keras.utils.visualize_util import model_to_dot\n",
    "from keras.preprocessing import text\n",
    "from keras.preprocessing import sequence\n",
    "\n",
    "from keras_tqdm import TQDMNotebookCallback\n",
    "\n",
    "from sklearn import metrics"
   ]
  },
  {
   "cell_type": "code",
   "execution_count": 2,
   "metadata": {
    "collapsed": true
   },
   "outputs": [],
   "source": [
    "def MapInterestToVector(interest_level):\n",
    "    if interest_level == 'low':\n",
    "        return [1,0,0]\n",
    "    elif interest_level == 'medium':\n",
    "        return [0,1,0]\n",
    "    elif interest_level == 'high':\n",
    "        return [0,0,1]\n",
    "    else:\n",
    "        return [0,0,0]"
   ]
  },
  {
   "cell_type": "code",
   "execution_count": 3,
   "metadata": {
    "collapsed": true
   },
   "outputs": [],
   "source": [
    "#training_frame = pickle.load( open( '../../Data/RentalListingData/training_set_with_images_and_features.pkl', 'rb' ) )\n",
    "training_frame = feather.read_dataframe(path='../../Data/RentalListingData/first_dataframe_train_with_feature_clusters')\n",
    "training_frame['interest_vector'] = training_frame['interest_level'].apply(MapInterestToVector)"
   ]
  },
  {
   "cell_type": "code",
   "execution_count": 4,
   "metadata": {
    "collapsed": false
   },
   "outputs": [],
   "source": [
    "training_y = list(training_frame['interest_vector'])\n",
    "training_y = np.array(training_y).astype(float)"
   ]
  },
  {
   "cell_type": "code",
   "execution_count": 5,
   "metadata": {
    "collapsed": true
   },
   "outputs": [],
   "source": [
    "max_features = 4000\n",
    "maxlen = 250\n",
    "batch_size = 32\n",
    "embedding_dims = 60\n",
    "nb_filter = 250\n",
    "filter_length = 3\n",
    "hidden_dims = 250\n",
    "nb_epoch = 2"
   ]
  },
  {
   "cell_type": "code",
   "execution_count": 6,
   "metadata": {
    "collapsed": false
   },
   "outputs": [],
   "source": [
    "training_descriptions = list(training_frame['description'])\n",
    "word_tokens = text.Tokenizer(max_features, lower=True, split=\" \")\n",
    "word_tokens.fit_on_texts(training_descriptions)\n",
    "text_seqs = word_tokens.texts_to_sequences(training_descriptions)"
   ]
  },
  {
   "cell_type": "code",
   "execution_count": 7,
   "metadata": {
    "collapsed": false
   },
   "outputs": [],
   "source": [
    "seq_train = sequence.pad_sequences(text_seqs, maxlen=maxlen)"
   ]
  },
  {
   "cell_type": "code",
   "execution_count": 8,
   "metadata": {
    "collapsed": false
   },
   "outputs": [],
   "source": [
    "training_x = np.array(training_frame.ix[:,[1,2,7,8,11]+list(range(15,876))]).astype(float)"
   ]
  },
  {
   "cell_type": "code",
   "execution_count": 28,
   "metadata": {
    "collapsed": false
   },
   "outputs": [
    {
     "data": {
      "text/plain": [
       "(49352, 866)"
      ]
     },
     "execution_count": 28,
     "metadata": {},
     "output_type": "execute_result"
    }
   ],
   "source": [
    "np.shape(training_x)"
   ]
  },
  {
   "cell_type": "code",
   "execution_count": 63,
   "metadata": {
    "collapsed": false
   },
   "outputs": [],
   "source": [
    "optimizer = RMSprop(lr=1e-4)\n",
    "objective = 'binary_crossentropy'\n",
    "\n",
    "\n",
    "text_seq_input =  Input(shape=(250,), name = 'text_seq_input')\n",
    "\n",
    "clustered_input = Input(shape=(866,), name = 'clustered_input')\n",
    "\n",
    "model_1 = Embedding(max_features,\n",
    "                    embedding_dims,\n",
    "                    input_length=maxlen,\n",
    "                    dropout=0.1)(text_seq_input)\n",
    "\n",
    "#model.add(LSTM(32, input_shape=(10, 64)))\n",
    "\n",
    "#model.add(LSTM(16))\n",
    "\n",
    "model_1 = Convolution1D(nb_filter=nb_filter,\n",
    "                        filter_length=5,\n",
    "                        border_mode='valid',\n",
    "                        activation='relu',\n",
    "                        subsample_length=2)(model_1)\n",
    "\n",
    "# model = MaxPooling1D(pool_length=2, border_mode='valid')(model)\n",
    "\n",
    "# model = Convolution1D(nb_filter=120,\n",
    "#                         filter_length=5,\n",
    "#                         border_mode='valid',\n",
    "#                         activation='relu',\n",
    "#                         subsample_length=2)(model)\n",
    "\n",
    "# model = MaxPooling1D(pool_length=2, border_mode='valid')(model)\n",
    "\n",
    "# model = Convolution1D(nb_filter=60,\n",
    "#                         filter_length=5,\n",
    "#                         border_mode='valid',\n",
    "#                         activation='relu',\n",
    "#                         subsample_length=1)(model)\n",
    "\n",
    "\n",
    "#model_1 = GlobalMaxPooling1D()(model_1)\n",
    "model_1 = MaxPooling1D(pool_length=2, border_mode='valid')(model_1)\n",
    "\n",
    "\n",
    "model_1 = Dense(250, activation='relu')(model_1)\n",
    "model_1 = Dropout(0.2)(model_1)\n",
    "\n",
    "model_1_out = Flatten()(model_1)\n",
    "# model = Activation('relu')(model)\n",
    "\n",
    "aux_1_output = Dense(3, activation = 'softmax', name = 'aux_1_out')(model_1_out)\n",
    "\n",
    "# model.add(Dense(120))\n",
    "# model.add(Dropout(0.2))\n",
    "# model.add(Activation('relu'))\n",
    "\n",
    "model_2 = Dense(250, activation='sigmoid')(clustered_input)\n",
    "model_2_out = Dropout(0.2)(model_2)\n",
    "\n",
    "aux_2_output = Dense(3, activation = 'softmax', name = 'aux_2_out')(model_2_out)\n",
    "\n",
    "#model_2_out = Flatten()(model_2)\n",
    "# merge models\n",
    "\n",
    "model = merge([model_1_out, model_2_out], mode='concat')\n",
    "\n",
    "model = Dense(30, activation='tanh')(model)\n",
    "\n",
    "model = Dense(3)(model)\n",
    "model = Activation('softmax')(model)\n",
    "\n",
    "\n",
    "class_model = Model(input = [text_seq_input, clustered_input], output = [model, aux_1_output, aux_2_output])\n",
    "class_model.compile(loss=objective, optimizer=optimizer, metrics=['accuracy'], loss_weights = [0.5, 0.25, 0.25])"
   ]
  },
  {
   "cell_type": "code",
   "execution_count": 64,
   "metadata": {
    "collapsed": false
   },
   "outputs": [
    {
     "data": {
      "image/svg+xml": [
       "<svg height=\"775pt\" viewBox=\"0.00 0.00 412.00 775.00\" width=\"412pt\" xmlns=\"http://www.w3.org/2000/svg\" xmlns:xlink=\"http://www.w3.org/1999/xlink\">\n",
       "<g class=\"graph\" id=\"graph0\" transform=\"scale(1 1) rotate(0) translate(4 771)\">\n",
       "<title>G</title>\n",
       "<polygon fill=\"white\" points=\"-4,4 -4,-771 408,-771 408,4 -4,4\" stroke=\"none\"/>\n",
       "<!-- 1456834451608 -->\n",
       "<g class=\"node\" id=\"node1\"><title>1456834451608</title>\n",
       "<polygon fill=\"none\" points=\"21.5,-730.5 21.5,-766.5 188.5,-766.5 188.5,-730.5 21.5,-730.5\" stroke=\"black\"/>\n",
       "<text font-family=\"Times New Roman,serif\" font-size=\"14.00\" text-anchor=\"middle\" x=\"105\" y=\"-744.8\">text_seq_input: InputLayer</text>\n",
       "</g>\n",
       "<!-- 1456834428152 -->\n",
       "<g class=\"node\" id=\"node2\"><title>1456834428152</title>\n",
       "<polygon fill=\"none\" points=\"20,-657.5 20,-693.5 190,-693.5 190,-657.5 20,-657.5\" stroke=\"black\"/>\n",
       "<text font-family=\"Times New Roman,serif\" font-size=\"14.00\" text-anchor=\"middle\" x=\"105\" y=\"-671.8\">embedding_31: Embedding</text>\n",
       "</g>\n",
       "<!-- 1456834451608&#45;&gt;1456834428152 -->\n",
       "<g class=\"edge\" id=\"edge1\"><title>1456834451608-&gt;1456834428152</title>\n",
       "<path d=\"M105,-730.313C105,-722.289 105,-712.547 105,-703.569\" fill=\"none\" stroke=\"black\"/>\n",
       "<polygon fill=\"black\" points=\"108.5,-703.529 105,-693.529 101.5,-703.529 108.5,-703.529\" stroke=\"black\"/>\n",
       "</g>\n",
       "<!-- 1456834427480 -->\n",
       "<g class=\"node\" id=\"node3\"><title>1456834427480</title>\n",
       "<polygon fill=\"none\" points=\"0,-584.5 0,-620.5 210,-620.5 210,-584.5 0,-584.5\" stroke=\"black\"/>\n",
       "<text font-family=\"Times New Roman,serif\" font-size=\"14.00\" text-anchor=\"middle\" x=\"105\" y=\"-598.8\">convolution1d_33: Convolution1D</text>\n",
       "</g>\n",
       "<!-- 1456834428152&#45;&gt;1456834427480 -->\n",
       "<g class=\"edge\" id=\"edge2\"><title>1456834428152-&gt;1456834427480</title>\n",
       "<path d=\"M105,-657.313C105,-649.289 105,-639.547 105,-630.569\" fill=\"none\" stroke=\"black\"/>\n",
       "<polygon fill=\"black\" points=\"108.5,-630.529 105,-620.529 101.5,-630.529 108.5,-630.529\" stroke=\"black\"/>\n",
       "</g>\n",
       "<!-- 1456834721888 -->\n",
       "<g class=\"node\" id=\"node4\"><title>1456834721888</title>\n",
       "<polygon fill=\"none\" points=\"1,-511.5 1,-547.5 209,-547.5 209,-511.5 1,-511.5\" stroke=\"black\"/>\n",
       "<text font-family=\"Times New Roman,serif\" font-size=\"14.00\" text-anchor=\"middle\" x=\"105\" y=\"-525.8\">maxpooling1d_19: MaxPooling1D</text>\n",
       "</g>\n",
       "<!-- 1456834427480&#45;&gt;1456834721888 -->\n",
       "<g class=\"edge\" id=\"edge3\"><title>1456834427480-&gt;1456834721888</title>\n",
       "<path d=\"M105,-584.313C105,-576.289 105,-566.547 105,-557.569\" fill=\"none\" stroke=\"black\"/>\n",
       "<polygon fill=\"black\" points=\"108.5,-557.529 105,-547.529 101.5,-557.529 108.5,-557.529\" stroke=\"black\"/>\n",
       "</g>\n",
       "<!-- 1456834879560 -->\n",
       "<g class=\"node\" id=\"node5\"><title>1456834879560</title>\n",
       "<polygon fill=\"none\" points=\"46,-438.5 46,-474.5 164,-474.5 164,-438.5 46,-438.5\" stroke=\"black\"/>\n",
       "<text font-family=\"Times New Roman,serif\" font-size=\"14.00\" text-anchor=\"middle\" x=\"105\" y=\"-452.8\">dense_104: Dense</text>\n",
       "</g>\n",
       "<!-- 1456834721888&#45;&gt;1456834879560 -->\n",
       "<g class=\"edge\" id=\"edge4\"><title>1456834721888-&gt;1456834879560</title>\n",
       "<path d=\"M105,-511.313C105,-503.289 105,-493.547 105,-484.569\" fill=\"none\" stroke=\"black\"/>\n",
       "<polygon fill=\"black\" points=\"108.5,-484.529 105,-474.529 101.5,-484.529 108.5,-484.529\" stroke=\"black\"/>\n",
       "</g>\n",
       "<!-- 1456834849872 -->\n",
       "<g class=\"node\" id=\"node7\"><title>1456834849872</title>\n",
       "<polygon fill=\"none\" points=\"36.5,-365.5 36.5,-401.5 173.5,-401.5 173.5,-365.5 36.5,-365.5\" stroke=\"black\"/>\n",
       "<text font-family=\"Times New Roman,serif\" font-size=\"14.00\" text-anchor=\"middle\" x=\"105\" y=\"-379.8\">dropout_54: Dropout</text>\n",
       "</g>\n",
       "<!-- 1456834879560&#45;&gt;1456834849872 -->\n",
       "<g class=\"edge\" id=\"edge5\"><title>1456834879560-&gt;1456834849872</title>\n",
       "<path d=\"M105,-438.313C105,-430.289 105,-420.547 105,-411.569\" fill=\"none\" stroke=\"black\"/>\n",
       "<polygon fill=\"black\" points=\"108.5,-411.529 105,-401.529 101.5,-411.529 108.5,-411.529\" stroke=\"black\"/>\n",
       "</g>\n",
       "<!-- 1456834451552 -->\n",
       "<g class=\"node\" id=\"node6\"><title>1456834451552</title>\n",
       "<polygon fill=\"none\" points=\"234,-438.5 234,-474.5 404,-474.5 404,-438.5 234,-438.5\" stroke=\"black\"/>\n",
       "<text font-family=\"Times New Roman,serif\" font-size=\"14.00\" text-anchor=\"middle\" x=\"319\" y=\"-452.8\">clustered_input: InputLayer</text>\n",
       "</g>\n",
       "<!-- 1456834940096 -->\n",
       "<g class=\"node\" id=\"node8\"><title>1456834940096</title>\n",
       "<polygon fill=\"none\" points=\"260,-365.5 260,-401.5 378,-401.5 378,-365.5 260,-365.5\" stroke=\"black\"/>\n",
       "<text font-family=\"Times New Roman,serif\" font-size=\"14.00\" text-anchor=\"middle\" x=\"319\" y=\"-379.8\">dense_105: Dense</text>\n",
       "</g>\n",
       "<!-- 1456834451552&#45;&gt;1456834940096 -->\n",
       "<g class=\"edge\" id=\"edge6\"><title>1456834451552-&gt;1456834940096</title>\n",
       "<path d=\"M319,-438.313C319,-430.289 319,-420.547 319,-411.569\" fill=\"none\" stroke=\"black\"/>\n",
       "<polygon fill=\"black\" points=\"322.5,-411.529 319,-401.529 315.5,-411.529 322.5,-411.529\" stroke=\"black\"/>\n",
       "</g>\n",
       "<!-- 1456830965184 -->\n",
       "<g class=\"node\" id=\"node9\"><title>1456830965184</title>\n",
       "<polygon fill=\"none\" points=\"47,-292.5 47,-328.5 163,-328.5 163,-292.5 47,-292.5\" stroke=\"black\"/>\n",
       "<text font-family=\"Times New Roman,serif\" font-size=\"14.00\" text-anchor=\"middle\" x=\"105\" y=\"-306.8\">flatten_18: Flatten</text>\n",
       "</g>\n",
       "<!-- 1456834849872&#45;&gt;1456830965184 -->\n",
       "<g class=\"edge\" id=\"edge7\"><title>1456834849872-&gt;1456830965184</title>\n",
       "<path d=\"M105,-365.313C105,-357.289 105,-347.547 105,-338.569\" fill=\"none\" stroke=\"black\"/>\n",
       "<polygon fill=\"black\" points=\"108.5,-338.529 105,-328.529 101.5,-338.529 108.5,-338.529\" stroke=\"black\"/>\n",
       "</g>\n",
       "<!-- 1456835360976 -->\n",
       "<g class=\"node\" id=\"node10\"><title>1456835360976</title>\n",
       "<polygon fill=\"none\" points=\"250.5,-292.5 250.5,-328.5 387.5,-328.5 387.5,-292.5 250.5,-292.5\" stroke=\"black\"/>\n",
       "<text font-family=\"Times New Roman,serif\" font-size=\"14.00\" text-anchor=\"middle\" x=\"319\" y=\"-306.8\">dropout_55: Dropout</text>\n",
       "</g>\n",
       "<!-- 1456834940096&#45;&gt;1456835360976 -->\n",
       "<g class=\"edge\" id=\"edge8\"><title>1456834940096-&gt;1456835360976</title>\n",
       "<path d=\"M319,-365.313C319,-357.289 319,-347.547 319,-338.569\" fill=\"none\" stroke=\"black\"/>\n",
       "<polygon fill=\"black\" points=\"322.5,-338.529 319,-328.529 315.5,-338.529 322.5,-338.529\" stroke=\"black\"/>\n",
       "</g>\n",
       "<!-- 1456835415624 -->\n",
       "<g class=\"node\" id=\"node11\"><title>1456835415624</title>\n",
       "<polygon fill=\"none\" points=\"155.5,-219.5 155.5,-255.5 268.5,-255.5 268.5,-219.5 155.5,-219.5\" stroke=\"black\"/>\n",
       "<text font-family=\"Times New Roman,serif\" font-size=\"14.00\" text-anchor=\"middle\" x=\"212\" y=\"-233.8\">merge_24: Merge</text>\n",
       "</g>\n",
       "<!-- 1456830965184&#45;&gt;1456835415624 -->\n",
       "<g class=\"edge\" id=\"edge9\"><title>1456830965184-&gt;1456835415624</title>\n",
       "<path d=\"M130.629,-292.494C144.687,-283.166 162.307,-271.474 177.552,-261.358\" fill=\"none\" stroke=\"black\"/>\n",
       "<polygon fill=\"black\" points=\"179.812,-264.059 186.209,-255.614 175.941,-258.226 179.812,-264.059\" stroke=\"black\"/>\n",
       "</g>\n",
       "<!-- 1456833940560 -->\n",
       "<g class=\"node\" id=\"node15\"><title>1456833940560</title>\n",
       "<polygon fill=\"none\" points=\"20.5,-219.5 20.5,-255.5 137.5,-255.5 137.5,-219.5 20.5,-219.5\" stroke=\"black\"/>\n",
       "<text font-family=\"Times New Roman,serif\" font-size=\"14.00\" text-anchor=\"middle\" x=\"79\" y=\"-233.8\">aux_1_out: Dense</text>\n",
       "</g>\n",
       "<!-- 1456830965184&#45;&gt;1456833940560 -->\n",
       "<g class=\"edge\" id=\"edge14\"><title>1456830965184-&gt;1456833940560</title>\n",
       "<path d=\"M98.7061,-292.313C95.7041,-284.115 92.0451,-274.123 88.6986,-264.985\" fill=\"none\" stroke=\"black\"/>\n",
       "<polygon fill=\"black\" points=\"91.9612,-263.715 85.2359,-255.529 85.3881,-266.123 91.9612,-263.715\" stroke=\"black\"/>\n",
       "</g>\n",
       "<!-- 1456835360976&#45;&gt;1456835415624 -->\n",
       "<g class=\"edge\" id=\"edge10\"><title>1456835360976-&gt;1456835415624</title>\n",
       "<path d=\"M293.371,-292.494C279.313,-283.166 261.693,-271.474 246.448,-261.358\" fill=\"none\" stroke=\"black\"/>\n",
       "<polygon fill=\"black\" points=\"248.059,-258.226 237.791,-255.614 244.188,-264.059 248.059,-258.226\" stroke=\"black\"/>\n",
       "</g>\n",
       "<!-- 1456835492776 -->\n",
       "<g class=\"node\" id=\"node16\"><title>1456835492776</title>\n",
       "<polygon fill=\"none\" points=\"286.5,-219.5 286.5,-255.5 403.5,-255.5 403.5,-219.5 286.5,-219.5\" stroke=\"black\"/>\n",
       "<text font-family=\"Times New Roman,serif\" font-size=\"14.00\" text-anchor=\"middle\" x=\"345\" y=\"-233.8\">aux_2_out: Dense</text>\n",
       "</g>\n",
       "<!-- 1456835360976&#45;&gt;1456835492776 -->\n",
       "<g class=\"edge\" id=\"edge15\"><title>1456835360976-&gt;1456835492776</title>\n",
       "<path d=\"M325.294,-292.313C328.296,-284.115 331.955,-274.123 335.301,-264.985\" fill=\"none\" stroke=\"black\"/>\n",
       "<polygon fill=\"black\" points=\"338.612,-266.123 338.764,-255.529 332.039,-263.715 338.612,-266.123\" stroke=\"black\"/>\n",
       "</g>\n",
       "<!-- 1456852237896 -->\n",
       "<g class=\"node\" id=\"node12\"><title>1456852237896</title>\n",
       "<polygon fill=\"none\" points=\"153,-146.5 153,-182.5 271,-182.5 271,-146.5 153,-146.5\" stroke=\"black\"/>\n",
       "<text font-family=\"Times New Roman,serif\" font-size=\"14.00\" text-anchor=\"middle\" x=\"212\" y=\"-160.8\">dense_106: Dense</text>\n",
       "</g>\n",
       "<!-- 1456835415624&#45;&gt;1456852237896 -->\n",
       "<g class=\"edge\" id=\"edge11\"><title>1456835415624-&gt;1456852237896</title>\n",
       "<path d=\"M212,-219.313C212,-211.289 212,-201.547 212,-192.569\" fill=\"none\" stroke=\"black\"/>\n",
       "<polygon fill=\"black\" points=\"215.5,-192.529 212,-182.529 208.5,-192.529 215.5,-192.529\" stroke=\"black\"/>\n",
       "</g>\n",
       "<!-- 1456852515864 -->\n",
       "<g class=\"node\" id=\"node13\"><title>1456852515864</title>\n",
       "<polygon fill=\"none\" points=\"153,-73.5 153,-109.5 271,-109.5 271,-73.5 153,-73.5\" stroke=\"black\"/>\n",
       "<text font-family=\"Times New Roman,serif\" font-size=\"14.00\" text-anchor=\"middle\" x=\"212\" y=\"-87.8\">dense_107: Dense</text>\n",
       "</g>\n",
       "<!-- 1456852237896&#45;&gt;1456852515864 -->\n",
       "<g class=\"edge\" id=\"edge12\"><title>1456852237896-&gt;1456852515864</title>\n",
       "<path d=\"M212,-146.313C212,-138.289 212,-128.547 212,-119.569\" fill=\"none\" stroke=\"black\"/>\n",
       "<polygon fill=\"black\" points=\"215.5,-119.529 212,-109.529 208.5,-119.529 215.5,-119.529\" stroke=\"black\"/>\n",
       "</g>\n",
       "<!-- 1456852593800 -->\n",
       "<g class=\"node\" id=\"node14\"><title>1456852593800</title>\n",
       "<polygon fill=\"none\" points=\"134.5,-0.5 134.5,-36.5 289.5,-36.5 289.5,-0.5 134.5,-0.5\" stroke=\"black\"/>\n",
       "<text font-family=\"Times New Roman,serif\" font-size=\"14.00\" text-anchor=\"middle\" x=\"212\" y=\"-14.8\">activation_27: Activation</text>\n",
       "</g>\n",
       "<!-- 1456852515864&#45;&gt;1456852593800 -->\n",
       "<g class=\"edge\" id=\"edge13\"><title>1456852515864-&gt;1456852593800</title>\n",
       "<path d=\"M212,-73.3129C212,-65.2895 212,-55.5475 212,-46.5691\" fill=\"none\" stroke=\"black\"/>\n",
       "<polygon fill=\"black\" points=\"215.5,-46.5288 212,-36.5288 208.5,-46.5289 215.5,-46.5288\" stroke=\"black\"/>\n",
       "</g>\n",
       "</g>\n",
       "</svg>"
      ],
      "text/plain": [
       "<IPython.core.display.SVG object>"
      ]
     },
     "execution_count": 64,
     "metadata": {},
     "output_type": "execute_result"
    }
   ],
   "source": [
    "SVG(model_to_dot(class_model).create(prog='dot', format='svg'))"
   ]
  },
  {
   "cell_type": "code",
   "execution_count": 65,
   "metadata": {
    "collapsed": true
   },
   "outputs": [],
   "source": [
    "nb_epoch = 6\n",
    "batch_size = 32\n",
    "\n",
    "## Callback for loss logging per epoch\n",
    "class LossHistory(Callback):\n",
    "    def on_train_begin(self, logs={}):\n",
    "        self.losses = []\n",
    "        self.val_losses = []\n",
    "        \n",
    "    def on_epoch_end(self, batch, logs={}):\n",
    "        self.losses.append(logs.get('loss'))\n",
    "        self.val_losses.append(logs.get('val_loss'))\n",
    "\n",
    "early_stopping = EarlyStopping(monitor='val_loss', patience=4, verbose=1, mode='auto')   \n",
    "history = LossHistory()"
   ]
  },
  {
   "cell_type": "code",
   "execution_count": 67,
   "metadata": {
    "collapsed": false
   },
   "outputs": [
    {
     "name": "stderr",
     "output_type": "stream",
     "text": [
      "C:\\Users\\Stoja\\Anaconda3\\envs\\tensorflow2\\lib\\site-packages\\tensorflow\\python\\ops\\gradients_impl.py:91: UserWarning: Converting sparse IndexedSlices to a dense Tensor of unknown shape. This may consume a large amount of memory.\n",
      "  \"Converting sparse IndexedSlices to a dense Tensor of unknown shape. \"\n"
     ]
    },
    {
     "name": "stdout",
     "output_type": "stream",
     "text": [
      "\n"
     ]
    },
    {
     "data": {
      "text/plain": [
       "<keras.callbacks.History at 0x15333abbcf8>"
      ]
     },
     "execution_count": 67,
     "metadata": {},
     "output_type": "execute_result"
    }
   ],
   "source": [
    "class_model.fit([seq_train,training_x], [training_y,training_y,training_y], batch_size=batch_size, nb_epoch=nb_epoch,\n",
    "              validation_split=0.15, verbose=0, shuffle=True, callbacks=[TQDMNotebookCallback(leave_inner = True, leave_outer = True), history])"
   ]
  },
  {
   "cell_type": "code",
   "execution_count": 68,
   "metadata": {
    "collapsed": false
   },
   "outputs": [
    {
     "data": {
      "image/png": "[encoded data removed]",
      "text/plain": [
       "<matplotlib.figure.Figure at 0x1533341ba20>"
      ]
     },
     "metadata": {},
     "output_type": "display_data"
    }
   ],
   "source": [
    "loss = history.losses\n",
    "val_loss = history.val_losses\n",
    "\n",
    "plt.xlabel('Epochs')\n",
    "plt.ylabel('Loss')\n",
    "plt.title('VGG-16 Loss Trend')\n",
    "plt.plot(loss, 'blue', label='Training Loss')\n",
    "plt.plot(val_loss, 'green', label='Validation Loss')\n",
    "plt.xticks(range(0,nb_epoch)[0::2])\n",
    "plt.legend()\n",
    "plt.show()"
   ]
  },
  {
   "cell_type": "code",
   "execution_count": 70,
   "metadata": {
    "collapsed": false
   },
   "outputs": [],
   "source": [
    "predictions = class_model.predict([seq_train,training_x], verbose=0)"
   ]
  },
  {
   "cell_type": "code",
   "execution_count": 72,
   "metadata": {
    "collapsed": true
   },
   "outputs": [],
   "source": [
    "predictions = predictions[0]"
   ]
  },
  {
   "cell_type": "code",
   "execution_count": 71,
   "metadata": {
    "collapsed": false
   },
   "outputs": [
    {
     "data": {
      "text/plain": [
       "(3, 49352, 3)"
      ]
     },
     "execution_count": 71,
     "metadata": {},
     "output_type": "execute_result"
    }
   ],
   "source": [
    "np.shape(predictions)"
   ]
  },
  {
   "cell_type": "code",
   "execution_count": 73,
   "metadata": {
    "collapsed": false
   },
   "outputs": [
    {
     "name": "stdout",
     "output_type": "stream",
     "text": [
      "I am 82.12% sure this property yields low interest\n",
      "I was right!\n",
      "1399\n",
      "Im not really sure what interest this property yields\n",
      "685\n",
      "I am 71.85% sure this property yields low interest\n",
      "I was right!\n",
      "385\n",
      "I am 51.42% sure this property yields medium interest\n",
      "I was right!\n",
      "836\n",
      "I am 93.28% sure this property yields low interest\n",
      "I was wrong \n",
      "677\n",
      "I am 55.92% sure this property yields medium interest\n",
      "I was right!\n",
      "905\n",
      "I am 95.17% sure this property yields low interest\n",
      "I was right!\n",
      "309\n",
      "I am 87.92% sure this property yields low interest\n",
      "I was right!\n",
      "864\n",
      "Im not really sure what interest this property yields\n",
      "1707\n",
      "I am 59.35% sure this property yields medium interest\n",
      "I was right!\n",
      "1568\n",
      "I am 95.38% sure this property yields low interest\n",
      "I was right!\n",
      "1276\n",
      "I am 52.30% sure this propertry yields high interest\n",
      "I was wrong \n",
      "584\n",
      "Im not really sure what interest this property yields\n",
      "452\n",
      "I am 96.39% sure this property yields low interest\n",
      "I was right!\n",
      "1730\n",
      "I am 70.92% sure this property yields low interest\n",
      "I was right!\n",
      "245\n"
     ]
    }
   ],
   "source": [
    "indx = 0\n",
    "\n",
    "for i in np.random.randint(0,1900,15):\n",
    "    if predictions[i][0] >= 0.5: \n",
    "        print('I am {:.2%} sure this property yields low interest'.format(predictions[i][0]))\n",
    "        #print('The price on this property is ${0} per month'.format(training_aux_clean[i][0]))\n",
    "        if list(training_y[i]) == [1,0,0]:\n",
    "            print('I was right!')\n",
    "        else:\n",
    "            print('I was wrong ')\n",
    "        print(i)\n",
    "    elif predictions[i][1] >= 0.5:\n",
    "        print('I am {:.2%} sure this property yields medium interest'.format(predictions[i][1]))\n",
    "        #print('The price on this property is ${0} per month'.format(training_aux_clean[i][0]))\n",
    "        if list(training_y[i]) == [0,1,0]:\n",
    "            print('I was right!')\n",
    "        else:\n",
    "            print('I was wrong ')\n",
    "        print(i)\n",
    "    elif predictions[i][2] >= 0.5:\n",
    "        print('I am {:.2%} sure this propertry yields high interest'.format(predictions[i][2]))\n",
    "        #print('The price on this property is ${0} per month'.format(training_aux_clean[i][0]))\n",
    "        if list(training_y[i]) == [0,0,1]:\n",
    "            print('I was right!')\n",
    "        else:\n",
    "            print('I was wrong ')\n",
    "        print(i)\n",
    "    else:\n",
    "        print('Im not really sure what interest this property yields')\n",
    "        print(i)\n",
    "        \n",
    "    \n",
    "#     plt.imshow(training_x_clean[i])\n",
    "#     plt.show()"
   ]
  },
  {
   "cell_type": "code",
   "execution_count": 74,
   "metadata": {
    "collapsed": true
   },
   "outputs": [],
   "source": [
    "fpr = dict()\n",
    "tpr = dict()\n",
    "roc_auc = dict()\n",
    "\n",
    "for i in range(3):\n",
    "    fpr[i], tpr[i], _ = metrics.roc_curve(training_y[:, i], predictions[:, i])\n",
    "    roc_auc[i] = metrics.auc(fpr[i], tpr[i])"
   ]
  },
  {
   "cell_type": "code",
   "execution_count": 75,
   "metadata": {
    "collapsed": false
   },
   "outputs": [
    {
     "data": {
      "text/plain": [
       "{0: 0.83900187717442676, 1: 0.77818974951659325, 2: 0.86061373211585712}"
      ]
     },
     "execution_count": 75,
     "metadata": {},
     "output_type": "execute_result"
    }
   ],
   "source": [
    "roc_auc"
   ]
  },
  {
   "cell_type": "code",
   "execution_count": null,
   "metadata": {
    "collapsed": true
   },
   "outputs": [],
   "source": []
  }
 ],
 "metadata": {
  "anaconda-cloud": {},
  "kernelspec": {
   "display_name": "Python [conda env:tensorflow2]",
   "language": "python",
   "name": "conda-env-tensorflow2-py"
  },
  "language_info": {
   "codemirror_mode": {
    "name": "ipython",
    "version": 3
   },
   "file_extension": ".py",
   "mimetype": "text/x-python",
   "name": "python",
   "nbconvert_exporter": "python",
   "pygments_lexer": "ipython3",
   "version": "3.5.2"
  },
  "widgets": {
   "state": {
    "228d701f7b324d30a0b68fe71f3b199c": {
     "views": [
      {
       "cell_index": 12
      }
     ]
    },
    "299ab7517ba0458ab5ed23ddd3fe0d70": {
     "views": [
      {
       "cell_index": 12
      }
     ]
    },
    "3de616752a7142d79e5eb08d4acd3ac3": {
     "views": [
      {
       "cell_index": 12
      }
     ]
    },
    "5083db2d91ca4a48ac51630efcf31c6e": {
     "views": [
      {
       "cell_index": 12
      }
     ]
    },
    "53cc9407203d48f88b1ecb5df2a84a14": {
     "views": [
      {
       "cell_index": 11
      }
     ]
    },
    "6c8b6952b4134435a0bd894ed6a10607": {
     "views": [
      {
       "cell_index": 11
      }
     ]
    },
    "93f2fd4d229a420094ab6a6980fd2327": {
     "views": [
      {
       "cell_index": 12
      }
     ]
    },
    "9558006a9baf401882f40b9660fc4c9f": {
     "views": [
      {
       "cell_index": 12
      }
     ]
    },
    "dca5cdaf41cf45b1b556355502c1d6f7": {
     "views": [
      {
       "cell_index": 11
      }
     ]
    },
    "dd7c9d8264ef427381d92fdb23b70f57": {
     "views": [
      {
       "cell_index": 11
      }
     ]
    },
    "e132b8afa54d4cbaa79833a78068bac7": {
     "views": [
      {
       "cell_index": 12
      }
     ]
    },
    "e31d69a4f2f84997970e7057a96f52de": {
     "views": [
      {
       "cell_index": 11
      }
     ]
    },
    "e9a6765ad5714dd7b61db69a2791cfbd": {
     "views": [
      {
       "cell_index": 11
      }
     ]
    }
   },
   "version": "1.2.0"
  }
 },
 "nbformat": 4,
 "nbformat_minor": 2
}
