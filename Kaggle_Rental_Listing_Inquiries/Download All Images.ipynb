{
 "cells": [
  {
   "cell_type": "code",
   "execution_count": 1,
   "metadata": {
    "collapsed": false
   },
   "outputs": [],
   "source": [
    "import numpy as np\n",
    "import pandas as pd\n",
    "import json\n",
    "from tqdm import tqdm\n",
    "import re\n",
    "import urllib\n",
    "from urllib.request import FancyURLopener"
   ]
  },
  {
   "cell_type": "code",
   "execution_count": 2,
   "metadata": {
    "collapsed": true
   },
   "outputs": [],
   "source": [
    "def generate_relational_data(item_name):\n",
    "    items = training_set.get(item_name)\n",
    "    item_list = [ [i, items[str(i)]] for i in items ]\n",
    "    item_frame = pd.DataFrame(item_list)\n",
    "    item_frame.columns = ['ID',item_name]\n",
    "    return(item_frame)\n",
    "\n",
    "def generate_relational_data_string(item_name):\n",
    "    items = training_set.get(item_name)\n",
    "    item_list = [ [i, items[str(i)]] for i in items ]\n",
    "    item_frame = pd.DataFrame(item_list)\n",
    "    item_frame.columns = ['ID',item_name]\n",
    "    return(item_frame)"
   ]
  },
  {
   "cell_type": "code",
   "execution_count": 3,
   "metadata": {
    "collapsed": false
   },
   "outputs": [],
   "source": [
    "json_data=open('../../Data/RentalListingData/train.json')\n",
    "training_set = json.load(json_data)\n",
    "\n",
    "bathrooms = generate_relational_data('bathrooms')\n",
    "bedrooms = generate_relational_data('bedrooms')\n",
    "building_id = generate_relational_data_string('building_id')\n",
    "created = generate_relational_data_string('created')\n",
    "description = generate_relational_data_string('description')\n",
    "display_address = generate_relational_data_string('display_address')\n",
    "features = generate_relational_data('features')\n",
    "latitude = generate_relational_data('latitude')\n",
    "longitude = generate_relational_data('longitude')\n",
    "listing_id = generate_relational_data_string('listing_id')\n",
    "manager_id = generate_relational_data_string('manager_id')\n",
    "price = generate_relational_data('price')\n",
    "street_address = generate_relational_data_string('street_address')\n",
    "photos = generate_relational_data('photos')\n",
    "interest_level = generate_relational_data('interest_level')\n",
    "\n",
    "full_training = pd.merge(\n",
    "pd.merge(\n",
    "pd.merge(\n",
    "pd.merge(\n",
    "pd.merge(\n",
    "pd.merge(\n",
    "pd.merge(\n",
    "pd.merge(\n",
    "pd.merge(\n",
    "pd.merge(\n",
    "pd.merge(\n",
    "pd.merge(\n",
    "pd.merge(\n",
    "  bathrooms\n",
    ", bedrooms)\n",
    ", building_id)\n",
    ", description)\n",
    ", display_address)\n",
    ", features)\n",
    ", latitude)\n",
    ", longitude)\n",
    ", listing_id)\n",
    ", manager_id)\n",
    ", price)\n",
    ", street_address)\n",
    ", photos)\n",
    ", interest_level)"
   ]
  },
  {
   "cell_type": "markdown",
   "metadata": {},
   "source": [
    "# Just quickly check if the url base is consistant."
   ]
  },
  {
   "cell_type": "code",
   "execution_count": 4,
   "metadata": {
    "collapsed": false
   },
   "outputs": [
    {
     "name": "stderr",
     "output_type": "stream",
     "text": [
      "100%|█████████████████████████████████████████████████████████████████████████| 49352/49352 [00:01<00:00, 44889.06it/s]\n"
     ]
    },
    {
     "name": "stdout",
     "output_type": "stream",
     "text": [
      "True\n"
     ]
    }
   ],
   "source": [
    "#'https://photos.renthop.com/2/' in full_training['photos'].ix[5468][1]\n",
    "\n",
    "\n",
    "consistant_urls = []\n",
    "\n",
    "for i in tqdm(range(len(full_training))):\n",
    "    for url in full_training['photos'].ix[i]:\n",
    "        consistant_urls.append('https://photos.renthop.com/2/' in url)\n",
    "\n",
    "all_consistant = True\n",
    "\n",
    "for variable in consistant_urls:\n",
    "    if variable == False:\n",
    "        all_consistant = False\n",
    "\n",
    "print(all_consistant)"
   ]
  },
  {
   "cell_type": "code",
   "execution_count": 5,
   "metadata": {
    "collapsed": false
   },
   "outputs": [
    {
     "data": {
      "text/plain": [
       "'7092344_7663c19af02c46104bc4c569f7162ae0.jpg'"
      ]
     },
     "execution_count": 5,
     "metadata": {},
     "output_type": "execute_result"
    }
   ],
   "source": [
    "re.sub(pattern='https://photos.renthop.com/2/', repl='', string = 'https://photos.renthop.com/2/7092344_7663c19af02c46104bc4c569f7162ae0.jpg')"
   ]
  },
  {
   "cell_type": "code",
   "execution_count": 7,
   "metadata": {
    "collapsed": false
   },
   "outputs": [
    {
     "name": "stderr",
     "output_type": "stream",
     "text": [
      "C:\\Users\\Stoja\\Anaconda3\\lib\\site-packages\\ipykernel\\__main__.py:5: DeprecationWarning: MyOpener style of invoking requests is deprecated. Use newer urlopen functions/methods\n"
     ]
    }
   ],
   "source": [
    "\n",
    "class MyOpener(FancyURLopener):\n",
    "    version = 'Mozilla/5.0 (Windows; U; Windows NT 5.1; it; rv:1.8.1.11) Gecko/20071127 Firefox/2.0.0.11'\n",
    " \n",
    "myopener = MyOpener()\n"
   ]
  },
  {
   "cell_type": "markdown",
   "metadata": {},
   "source": [
    "# Only get first 1000 properties images since this will take too long on an Australian internet connection"
   ]
  },
  {
   "cell_type": "code",
   "execution_count": null,
   "metadata": {
    "collapsed": false
   },
   "outputs": [
    {
     "name": "stderr",
     "output_type": "stream",
     "text": [
      " 19%|█████████████▉                                                            | 938/5000 [1:02:29<11:18:32, 10.02s/it]"
     ]
    },
    {
     "name": "stdout",
     "output_type": "stream",
     "text": [
      "something went wrong at index: 938\n"
     ]
    },
    {
     "name": "stderr",
     "output_type": "stream",
     "text": [
      " 42%|██████████████████████████████▊                                           | 2085/5000 [4:28:48<6:47:36,  8.39s/it]"
     ]
    },
    {
     "name": "stdout",
     "output_type": "stream",
     "text": [
      "something went wrong at index: 2085\n"
     ]
    },
    {
     "name": "stderr",
     "output_type": "stream",
     "text": [
      " 42%|██████████████████████████████▍                                          | 2089/5000 [4:30:06<13:43:36, 16.98s/it]"
     ]
    }
   ],
   "source": [
    "bad_indices = []\n",
    "\n",
    "for i in tqdm(range(len(full_training))):\n",
    "    for url in full_training['photos'].ix[i]:\n",
    "        try:\n",
    "            myopener.retrieve(url, '../../Data/RentalListingData/Images/'+re.sub(pattern='https://photos.renthop.com/2/', repl='', string = url))\n",
    "        except:\n",
    "            print(\"something went wrong at index: \" + str(i))\n",
    "            bad_indices.append(i)\n",
    "#myopener.retrieve('https://photos.renthop.com/2/7092344_7663c19af02c46104bc4c569f7162ae0.jpg', '../../Data/RentalListingData/Images/'+'7092344_7663c19af02c46104bc4c569f7162ae0.jpg')"
   ]
  }
 ],
 "metadata": {
  "kernelspec": {
   "display_name": "Python 3",
   "language": "python",
   "name": "python3"
  },
  "language_info": {
   "codemirror_mode": {
    "name": "ipython",
    "version": 3
   },
   "file_extension": ".py",
   "mimetype": "text/x-python",
   "name": "python",
   "nbconvert_exporter": "python",
   "pygments_lexer": "ipython3",
   "version": "3.6.0"
  }
 },
 "nbformat": 4,
 "nbformat_minor": 2
}
