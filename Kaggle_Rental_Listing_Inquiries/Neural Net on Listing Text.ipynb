{
 "cells": [
  {
   "cell_type": "code",
   "execution_count": 93,
   "metadata": {
    "collapsed": false
   },
   "outputs": [],
   "source": [
    "import numpy as np\n",
    "import pandas as pd\n",
    "import matplotlib.pyplot as plt\n",
    "from tqdm import tqdm\n",
    "\n",
    "import pickle\n",
    "import feather\n",
    "import tensorflow as tf\n",
    "\n",
    "from keras.layers import Input, Embedding, LSTM, Dense, merge\n",
    "from keras.models import Model\n",
    "from keras.models import Sequential\n",
    "from keras.layers import Input, Dropout, Flatten, Convolution2D, MaxPooling2D, Dense, Activation\n",
    "from keras.layers import Convolution1D, GlobalMaxPooling1D\n",
    "from keras.layers import Embedding\n",
    "from keras.optimizers import RMSprop\n",
    "from keras.callbacks import ModelCheckpoint, Callback, EarlyStopping\n",
    "from keras.utils import np_utils\n",
    "from IPython.display import SVG\n",
    "from keras.utils.visualize_util import plot\n",
    "from keras.utils.visualize_util import model_to_dot\n",
    "from keras.preprocessing import text\n",
    "from keras.preprocessing import sequence\n",
    "\n",
    "from keras_tqdm import TQDMNotebookCallback\n",
    "\n",
    "from sklearn import metrics"
   ]
  },
  {
   "cell_type": "code",
   "execution_count": 97,
   "metadata": {
    "collapsed": true
   },
   "outputs": [],
   "source": [
    "def MapInterestToVector(interest_level):\n",
    "    if interest_level == 'low':\n",
    "        return [1,0,0]\n",
    "    elif interest_level == 'medium':\n",
    "        return [0,1,0]\n",
    "    elif interest_level == 'high':\n",
    "        return [0,0,1]\n",
    "    else:\n",
    "        return [0,0,0]"
   ]
  },
  {
   "cell_type": "code",
   "execution_count": 119,
   "metadata": {
    "collapsed": true
   },
   "outputs": [],
   "source": [
    "#training_frame = pickle.load( open( '../../Data/RentalListingData/training_set_with_images_and_features.pkl', 'rb' ) )\n",
    "training_frame = feather.read_dataframe(path='../../Data/RentalListingData/first_dataframe_train_with_feature_clusters')\n",
    "training_frame['interest_vector'] = training_frame['interest_level'].apply(MapInterestToVector)"
   ]
  },
  {
   "cell_type": "code",
   "execution_count": 120,
   "metadata": {
    "collapsed": false
   },
   "outputs": [],
   "source": [
    "training_y = list(training_frame['interest_vector'])\n",
    "training_y = np.array(training_y).astype(float)"
   ]
  },
  {
   "cell_type": "code",
   "execution_count": 134,
   "metadata": {
    "collapsed": true
   },
   "outputs": [],
   "source": [
    "max_features = 4000\n",
    "maxlen = 250\n",
    "batch_size = 32\n",
    "embedding_dims = 60\n",
    "nb_filter = 250\n",
    "filter_length = 3\n",
    "hidden_dims = 250\n",
    "nb_epoch = 2"
   ]
  },
  {
   "cell_type": "code",
   "execution_count": 135,
   "metadata": {
    "collapsed": false
   },
   "outputs": [],
   "source": [
    "training_descriptions = list(training_frame['description'])\n",
    "word_tokens = text.Tokenizer(max_features, lower=True, split=\" \")\n",
    "word_tokens.fit_on_texts(training_descriptions)\n",
    "text_seqs = word_tokens.texts_to_sequences(training_descriptions)"
   ]
  },
  {
   "cell_type": "code",
   "execution_count": 123,
   "metadata": {
    "collapsed": false
   },
   "outputs": [
    {
     "name": "stderr",
     "output_type": "stream",
     "text": [
      "100%|███████████████████████████████████████████████████████████████████████| 49352/49352 [00:00<00:00, 2401082.14it/s]\n"
     ]
    }
   ],
   "source": [
    "original_word_lengths = [ len(text_seqs[i]) for i in tqdm(range(len(text_seqs))) ]"
   ]
  },
  {
   "cell_type": "code",
   "execution_count": 124,
   "metadata": {
    "collapsed": false
   },
   "outputs": [
    {
     "data": {
      "image/png": "[encoded data removed]",
      "text/plain": [
       "<matplotlib.figure.Figure at 0x1ddce223a90>"
      ]
     },
     "metadata": {},
     "output_type": "display_data"
    }
   ],
   "source": [
    "plt.hist(original_word_lengths, bins= 1000)\n",
    "#plt.figure(figsize=(8,8))\n",
    "plt.show()"
   ]
  },
  {
   "cell_type": "code",
   "execution_count": 136,
   "metadata": {
    "collapsed": false
   },
   "outputs": [],
   "source": [
    "seq_train = sequence.pad_sequences(text_seqs, maxlen=maxlen)"
   ]
  },
  {
   "cell_type": "code",
   "execution_count": 156,
   "metadata": {
    "collapsed": false
   },
   "outputs": [],
   "source": [
    "model = Sequential()\n",
    "\n",
    "model.add(Embedding(max_features,\n",
    "                    embedding_dims,\n",
    "                    input_length=maxlen,\n",
    "                    dropout=0.1))\n",
    "\n",
    "#model.add(LSTM(32, input_shape=(10, 64)))\n",
    "\n",
    "#model.add(LSTM(16))\n",
    "\n",
    "model.add(Convolution1D(nb_filter=nb_filter,\n",
    "                        filter_length=filter_length,\n",
    "                        border_mode='valid',\n",
    "                        activation='relu',\n",
    "                        subsample_length=2))\n",
    "\n",
    "model.add(GlobalMaxPooling1D())\n",
    "\n",
    "model.add(Dense(hidden_dims))\n",
    "model.add(Dropout(0.2))\n",
    "model.add(Activation('relu'))\n",
    "\n",
    "# model.add(Dense(120))\n",
    "# model.add(Dropout(0.2))\n",
    "# model.add(Activation('relu'))\n",
    "\n",
    "model.add(Dense(3))\n",
    "model.add(Activation('softmax'))\n",
    "\n",
    "model.compile(loss='binary_crossentropy',\n",
    "              optimizer='rmsprop',\n",
    "              metrics=['accuracy'])"
   ]
  },
  {
   "cell_type": "code",
   "execution_count": 157,
   "metadata": {
    "collapsed": true
   },
   "outputs": [],
   "source": [
    "nb_epoch = 5\n",
    "batch_size = 32\n",
    "\n",
    "## Callback for loss logging per epoch\n",
    "class LossHistory(Callback):\n",
    "    def on_train_begin(self, logs={}):\n",
    "        self.losses = []\n",
    "        self.val_losses = []\n",
    "        \n",
    "    def on_epoch_end(self, batch, logs={}):\n",
    "        self.losses.append(logs.get('loss'))\n",
    "        self.val_losses.append(logs.get('val_loss'))\n",
    "\n",
    "early_stopping = EarlyStopping(monitor='val_loss', patience=4, verbose=1, mode='auto')   \n",
    "history = LossHistory()"
   ]
  },
  {
   "cell_type": "code",
   "execution_count": 158,
   "metadata": {
    "collapsed": false
   },
   "outputs": [
    {
     "name": "stderr",
     "output_type": "stream",
     "text": [
      "C:\\Users\\Stoja\\Anaconda3\\envs\\tensorflow2\\lib\\site-packages\\tensorflow\\python\\ops\\gradients_impl.py:91: UserWarning: Converting sparse IndexedSlices to a dense Tensor of unknown shape. This may consume a large amount of memory.\n",
      "  \"Converting sparse IndexedSlices to a dense Tensor of unknown shape. \"\n"
     ]
    },
    {
     "name": "stdout",
     "output_type": "stream",
     "text": [
      "\n"
     ]
    },
    {
     "data": {
      "text/plain": [
       "<keras.callbacks.History at 0x1ddcfe6b400>"
      ]
     },
     "execution_count": 158,
     "metadata": {},
     "output_type": "execute_result"
    }
   ],
   "source": [
    "model.fit(seq_train, training_y, batch_size=batch_size, nb_epoch=nb_epoch,\n",
    "              validation_split=0.15, verbose=0, shuffle=True, callbacks=[TQDMNotebookCallback(leave_inner = True, leave_outer = True), history])"
   ]
  },
  {
   "cell_type": "code",
   "execution_count": 159,
   "metadata": {
    "collapsed": false
   },
   "outputs": [
    {
     "data": {
      "image/png": "[encoded data removed]",
      "text/plain": [
       "<matplotlib.figure.Figure at 0x1ddd3ec8a90>"
      ]
     },
     "metadata": {},
     "output_type": "display_data"
    }
   ],
   "source": [
    "loss = history.losses\n",
    "val_loss = history.val_losses\n",
    "\n",
    "plt.xlabel('Epochs')\n",
    "plt.ylabel('Loss')\n",
    "plt.title('VGG-16 Loss Trend')\n",
    "plt.plot(loss, 'blue', label='Training Loss')\n",
    "plt.plot(val_loss, 'green', label='Validation Loss')\n",
    "plt.xticks(range(0,nb_epoch)[0::2])\n",
    "plt.legend()\n",
    "plt.show()"
   ]
  },
  {
   "cell_type": "code",
   "execution_count": 160,
   "metadata": {
    "collapsed": true
   },
   "outputs": [],
   "source": [
    "predictions = model.predict(seq_train, verbose=0)"
   ]
  },
  {
   "cell_type": "code",
   "execution_count": 161,
   "metadata": {
    "collapsed": false
   },
   "outputs": [
    {
     "name": "stdout",
     "output_type": "stream",
     "text": [
      "I am 88.41% sure this property yields low interest\n",
      "I was right!\n",
      "1650\n",
      "I am 86.85% sure this property yields low interest\n",
      "I was right!\n",
      "1460\n",
      "I am 94.35% sure this property yields low interest\n",
      "I was right!\n",
      "233\n",
      "I am 90.56% sure this property yields low interest\n",
      "I was right!\n",
      "235\n",
      "I am 91.51% sure this property yields low interest\n",
      "I was right!\n",
      "1046\n",
      "I am 94.68% sure this property yields low interest\n",
      "I was right!\n",
      "1479\n",
      "I am 59.23% sure this property yields low interest\n",
      "I was wrong \n",
      "359\n",
      "I am 58.53% sure this property yields low interest\n",
      "I was right!\n",
      "124\n",
      "I am 81.91% sure this property yields low interest\n",
      "I was right!\n",
      "88\n",
      "I am 94.68% sure this property yields low interest\n",
      "I was wrong \n",
      "1504\n",
      "I am 72.89% sure this property yields low interest\n",
      "I was right!\n",
      "859\n",
      "I am 82.88% sure this property yields low interest\n",
      "I was right!\n",
      "731\n",
      "I am 52.27% sure this property yields medium interest\n",
      "I was right!\n",
      "585\n",
      "I am 55.78% sure this property yields low interest\n",
      "I was right!\n",
      "1172\n",
      "I am 94.34% sure this property yields low interest\n",
      "I was right!\n",
      "1892\n"
     ]
    }
   ],
   "source": [
    "indx = 0\n",
    "\n",
    "for i in np.random.randint(0,1900,15):\n",
    "    if predictions[i][0] >= 0.5: \n",
    "        print('I am {:.2%} sure this property yields low interest'.format(predictions[i][0]))\n",
    "        #print('The price on this property is ${0} per month'.format(training_aux_clean[i][0]))\n",
    "        if list(training_y[i]) == [1,0,0]:\n",
    "            print('I was right!')\n",
    "        else:\n",
    "            print('I was wrong ')\n",
    "        print(i)\n",
    "    elif predictions[i][1] >= 0.5:\n",
    "        print('I am {:.2%} sure this property yields medium interest'.format(predictions[i][1]))\n",
    "        #print('The price on this property is ${0} per month'.format(training_aux_clean[i][0]))\n",
    "        if list(training_y[i]) == [0,1,0]:\n",
    "            print('I was right!')\n",
    "        else:\n",
    "            print('I was wrong ')\n",
    "        print(i)\n",
    "    elif predictions[i][2] >= 0.5:\n",
    "        print('I am {:.2%} sure this propertry yields high interest'.format(predictions[i][2]))\n",
    "        #print('The price on this property is ${0} per month'.format(training_aux_clean[i][0]))\n",
    "        if list(training_y[i]) == [0,0,1]:\n",
    "            print('I was right!')\n",
    "        else:\n",
    "            print('I was wrong ')\n",
    "        print(i)\n",
    "    else:\n",
    "        print('Im not really sure what interest this property yields')\n",
    "        print(i)\n",
    "        \n",
    "    \n",
    "#     plt.imshow(training_x_clean[i])\n",
    "#     plt.show()"
   ]
  },
  {
   "cell_type": "code",
   "execution_count": 162,
   "metadata": {
    "collapsed": true
   },
   "outputs": [],
   "source": [
    "fpr = dict()\n",
    "tpr = dict()\n",
    "roc_auc = dict()\n",
    "\n",
    "for i in range(3):\n",
    "    fpr[i], tpr[i], _ = metrics.roc_curve(training_y[:, i], predictions[:, i])\n",
    "    roc_auc[i] = metrics.auc(fpr[i], tpr[i])"
   ]
  },
  {
   "cell_type": "code",
   "execution_count": 163,
   "metadata": {
    "collapsed": false
   },
   "outputs": [
    {
     "data": {
      "text/plain": [
       "{0: 0.81433510829156186, 1: 0.75404042925144965, 2: 0.82829148191070978}"
      ]
     },
     "execution_count": 163,
     "metadata": {},
     "output_type": "execute_result"
    }
   ],
   "source": [
    "roc_auc"
   ]
  },
  {
   "cell_type": "code",
   "execution_count": null,
   "metadata": {
    "collapsed": true
   },
   "outputs": [],
   "source": []
  }
 ],
 "metadata": {
  "anaconda-cloud": {},
  "kernelspec": {
   "display_name": "Python [conda env:tensorflow2]",
   "language": "python",
   "name": "conda-env-tensorflow2-py"
  },
  "language_info": {
   "codemirror_mode": {
    "name": "ipython",
    "version": 3
   },
   "file_extension": ".py",
   "mimetype": "text/x-python",
   "name": "python",
   "nbconvert_exporter": "python",
   "pygments_lexer": "ipython3",
   "version": "3.5.2"
  },
  "widgets": {
   "state": {
    "010cfef3e79f41139cfc201e2d14d6e9": {
     "views": [
      {
       "cell_index": 10
      }
     ]
    },
    "02f917ac654d4910a6e5e0bdf16599d0": {
     "views": [
      {
       "cell_index": 10
      }
     ]
    },
    "070e0efe6e9d4c89962cdc757adc63ae": {
     "views": [
      {
       "cell_index": 10
      }
     ]
    },
    "0ac80bb0b4734dc38fab067d95e2c338": {
     "views": [
      {
       "cell_index": 11
      }
     ]
    },
    "0b4890fdcb464e3ba378d1b2ed67edcb": {
     "views": [
      {
       "cell_index": 10
      }
     ]
    },
    "0b5257851f174c038c4675a065875676": {
     "views": [
      {
       "cell_index": 11
      }
     ]
    },
    "12447a2e49cd4066ae761f10a988faaa": {
     "views": [
      {
       "cell_index": 11
      }
     ]
    },
    "1a956fa6ffa3449c9df7deda78a591c7": {
     "views": [
      {
       "cell_index": 11
      }
     ]
    },
    "1ab5267f14c6482d94e12afb41584e30": {
     "views": [
      {
       "cell_index": 11
      }
     ]
    },
    "1fb72172644346c8a50eb62887129c7b": {
     "views": [
      {
       "cell_index": 10
      }
     ]
    },
    "29fed0610b964cc1b7f0af1afe6089df": {
     "views": [
      {
       "cell_index": 10
      }
     ]
    },
    "2a5752bdd5dd4441b80c242411ad0838": {
     "views": [
      {
       "cell_index": 10
      }
     ]
    },
    "2ab41ba4c87d4269a690cea0f65f7155": {
     "views": [
      {
       "cell_index": 10
      }
     ]
    },
    "2b75da390cd349d490f15449d0e86fbd": {
     "views": [
      {
       "cell_index": 10
      }
     ]
    },
    "2ea15e17bcf24dd6acfdbf5657eb1306": {
     "views": [
      {
       "cell_index": 11
      }
     ]
    },
    "3010a483d58f460490d55f673efba152": {
     "views": [
      {
       "cell_index": 10
      }
     ]
    },
    "327d058cf9a94dc1bd47511086ccea46": {
     "views": [
      {
       "cell_index": 10
      }
     ]
    },
    "328791cf06fe45a3baec33a19ddd440c": {
     "views": [
      {
       "cell_index": 11
      }
     ]
    },
    "37fb7eaf53cf4ddf885920d8c589b038": {
     "views": [
      {
       "cell_index": 10
      }
     ]
    },
    "38b9d67b83324fdbbb68af2b8afa2385": {
     "views": [
      {
       "cell_index": 10
      }
     ]
    },
    "3cd80eda3860473b898d11918aca2ee2": {
     "views": [
      {
       "cell_index": 11
      }
     ]
    },
    "3d9ba63e2fd3485c90df2e3924d9f0f4": {
     "views": [
      {
       "cell_index": 10
      }
     ]
    },
    "413c010d506a4ac9b602578742f13e17": {
     "views": [
      {
       "cell_index": 10
      }
     ]
    },
    "416098e499334571b428cfd948087103": {
     "views": [
      {
       "cell_index": 10
      }
     ]
    },
    "41bfd7dff06f47ebb497659414c1e923": {
     "views": [
      {
       "cell_index": 10
      }
     ]
    },
    "4260e45cbfe845e087237653d9ee3970": {
     "views": [
      {
       "cell_index": 10
      }
     ]
    },
    "4559a3f87b6f494c9d8b4078c9ece51f": {
     "views": [
      {
       "cell_index": 11
      }
     ]
    },
    "480fa23783604e5da246317f1d8a5f6d": {
     "views": [
      {
       "cell_index": 10
      }
     ]
    },
    "4c35f58b69df429fb580fc7acb5c1e75": {
     "views": [
      {
       "cell_index": 10
      }
     ]
    },
    "50252395379e4e44aef2f98a4281df51": {
     "views": [
      {
       "cell_index": 10
      }
     ]
    },
    "520f347df7a345e1a5b8f8faa9f80a69": {
     "views": [
      {
       "cell_index": 10
      }
     ]
    },
    "52e26467c41b42368c7577f4e36b38cc": {
     "views": [
      {
       "cell_index": 11
      }
     ]
    },
    "531cf7792ceb453e8137d4246d089579": {
     "views": [
      {
       "cell_index": 10
      }
     ]
    },
    "54d1334f71b94c65b32969c8aba36dc7": {
     "views": [
      {
       "cell_index": 11
      }
     ]
    },
    "55aa1fa5f003479f944468fe3c467748": {
     "views": [
      {
       "cell_index": 10
      }
     ]
    },
    "572bd512aefc48faa70c5448822d1168": {
     "views": [
      {
       "cell_index": 10
      }
     ]
    },
    "5a10b11d4f8342458141ea3c9d4ad463": {
     "views": [
      {
       "cell_index": 10
      }
     ]
    },
    "5aa38514de584ba98651cbb0649df00f": {
     "views": [
      {
       "cell_index": 10
      }
     ]
    },
    "5cd683c725844023b068b9d79de4c509": {
     "views": [
      {
       "cell_index": 11
      }
     ]
    },
    "5d27042a17c94629bd18faa8f922fcc1": {
     "views": [
      {
       "cell_index": 10
      }
     ]
    },
    "5debd10263ce497d8af16324be11a3eb": {
     "views": [
      {
       "cell_index": 11
      }
     ]
    },
    "60104a9262a64f4d98760392ab5871c7": {
     "views": [
      {
       "cell_index": 10
      }
     ]
    },
    "61e945687f86486ca63b54f252fa1086": {
     "views": [
      {
       "cell_index": 10
      }
     ]
    },
    "64f0fc5ae7134ba39e4b6e344c43f8e0": {
     "views": [
      {
       "cell_index": 10
      }
     ]
    },
    "66ffeaf4b5314c26a3ef99258aab55ea": {
     "views": [
      {
       "cell_index": 10
      }
     ]
    },
    "6760f1ce5b7c4b62b4d00de864fdac8b": {
     "views": [
      {
       "cell_index": 10
      }
     ]
    },
    "68cf39b4190d4cd6a51ec7dd26de1e55": {
     "views": [
      {
       "cell_index": 10
      }
     ]
    },
    "6b9cb4a9d80b40e4b44186b5b451165f": {
     "views": [
      {
       "cell_index": 10
      }
     ]
    },
    "6f164f6d4725444a83368433dddddbc2": {
     "views": [
      {
       "cell_index": 10
      }
     ]
    },
    "6fbc173788e64c5a9f3a221d136d4b91": {
     "views": [
      {
       "cell_index": 11
      }
     ]
    },
    "704d8603b4094736910be874fb7ad202": {
     "views": [
      {
       "cell_index": 10
      }
     ]
    },
    "71148a0f79e145b2a7db15c7b8755efd": {
     "views": [
      {
       "cell_index": 10
      }
     ]
    },
    "751b75aa4dab455d9411711778d3a985": {
     "views": [
      {
       "cell_index": 11
      }
     ]
    },
    "773d02f0818f43968a836f5e0a2921d9": {
     "views": [
      {
       "cell_index": 10
      }
     ]
    },
    "7c658746f94444f6a4f79b4cf36cc709": {
     "views": [
      {
       "cell_index": 11
      }
     ]
    },
    "7ee95ca184a8445b9eded9530b8f627a": {
     "views": [
      {
       "cell_index": 10
      }
     ]
    },
    "80188018113149cfb9cd27b8c58dda13": {
     "views": [
      {
       "cell_index": 10
      }
     ]
    },
    "85eb35ebf66b4b32a160f91289b07a51": {
     "views": [
      {
       "cell_index": 10
      }
     ]
    },
    "8826fe3b4a4b4b13bcf917d5bdf2ec49": {
     "views": [
      {
       "cell_index": 10
      }
     ]
    },
    "8898ca936dbd402c8a440bbf0db45f53": {
     "views": [
      {
       "cell_index": 10
      }
     ]
    },
    "89ed842af33d45989de7fc3d34b91307": {
     "views": [
      {
       "cell_index": 10
      }
     ]
    },
    "8b0839d1ce3a478abf40934ea175bb58": {
     "views": [
      {
       "cell_index": 10
      }
     ]
    },
    "90084ec1a3e84430bd0030b4dfda5d82": {
     "views": [
      {
       "cell_index": 11
      }
     ]
    },
    "93a7d104852e4cea9cceb40e1a129181": {
     "views": [
      {
       "cell_index": 11
      }
     ]
    },
    "93c7ba7794e048f2ac55e766206e2a3e": {
     "views": [
      {
       "cell_index": 11
      }
     ]
    },
    "96aa59a536a4479db145430b352b614c": {
     "views": [
      {
       "cell_index": 10
      }
     ]
    },
    "9774fc615dbe4697b79e5ec32ab85df5": {
     "views": [
      {
       "cell_index": 11
      }
     ]
    },
    "a11627ab9d514275bb391c49e8f43f70": {
     "views": [
      {
       "cell_index": 10
      }
     ]
    },
    "a1bacdcb24d3481d8bb8d2744d475fac": {
     "views": [
      {
       "cell_index": 10
      }
     ]
    },
    "a244318e7ef64744801a766561b22e73": {
     "views": [
      {
       "cell_index": 10
      }
     ]
    },
    "a4674ee644f743b28b3198c2e0be96ab": {
     "views": [
      {
       "cell_index": 10
      }
     ]
    },
    "a74fea20f8f74b67ad0524366732eb11": {
     "views": [
      {
       "cell_index": 10
      }
     ]
    },
    "a9f810f9fa7744d1bab3e09aff9a7fb2": {
     "views": [
      {
       "cell_index": 10
      }
     ]
    },
    "af5272400b5c40639ab05267ab681486": {
     "views": [
      {
       "cell_index": 10
      }
     ]
    },
    "b12d0818c9bc473d98594457bc863b2a": {
     "views": [
      {
       "cell_index": 10
      }
     ]
    },
    "b1e37e35a5f44fc7b2d8fedfef4c6f75": {
     "views": [
      {
       "cell_index": 11
      }
     ]
    },
    "b54fc774e09144b584904f6092c88ef5": {
     "views": [
      {
       "cell_index": 10
      }
     ]
    },
    "b6d56599995d401eae7066f75dc6f949": {
     "views": [
      {
       "cell_index": 11
      }
     ]
    },
    "b71c323b2098409097cace33bef31bed": {
     "views": [
      {
       "cell_index": 11
      }
     ]
    },
    "b8cade869919456088d9e433c950256b": {
     "views": [
      {
       "cell_index": 10
      }
     ]
    },
    "b9b96f8cf87d44afa579107b5f2fd5b4": {
     "views": [
      {
       "cell_index": 10
      }
     ]
    },
    "b9cc553f3f1c4c9d91d51f4379eb0190": {
     "views": [
      {
       "cell_index": 10
      }
     ]
    },
    "bad60ad957724bd7b67837617caf4160": {
     "views": [
      {
       "cell_index": 10
      }
     ]
    },
    "bd0e8b65f9d44d10b7db141c9afacb59": {
     "views": [
      {
       "cell_index": 10
      }
     ]
    },
    "bdaca5503845451e97efd7d01106e1a0": {
     "views": [
      {
       "cell_index": 10
      }
     ]
    },
    "c0baef22163147139a0b110917915c6f": {
     "views": [
      {
       "cell_index": 10
      }
     ]
    },
    "c250054e69ae4ba0b7ef148811e0d75b": {
     "views": [
      {
       "cell_index": 10
      }
     ]
    },
    "c4d61ca5d699478b9cd3ceb1fbac3309": {
     "views": [
      {
       "cell_index": 11
      }
     ]
    },
    "c540582115364d908c5d8ff15127b9cc": {
     "views": [
      {
       "cell_index": 10
      }
     ]
    },
    "c61ceacedb8f4cc88da07fbe4d16ce1f": {
     "views": [
      {
       "cell_index": 11
      }
     ]
    },
    "c9e0e991fdf845d2b4a88d76c3af7f61": {
     "views": [
      {
       "cell_index": 10
      }
     ]
    },
    "ccf52642fc5a402baee742da1f599f89": {
     "views": [
      {
       "cell_index": 10
      }
     ]
    },
    "d0cee50b2ae24969826eb2ccf12c3bf5": {
     "views": [
      {
       "cell_index": 11
      }
     ]
    },
    "d6ee029923df44faad22a84275ba199b": {
     "views": [
      {
       "cell_index": 10
      }
     ]
    },
    "d7e5772c76f742e0a8a30fdd82e84ea6": {
     "views": [
      {
       "cell_index": 10
      }
     ]
    },
    "d9baaa379301483a844074890832f688": {
     "views": [
      {
       "cell_index": 11
      }
     ]
    },
    "db80263d6f7d4cd0aaa6c7c696d6d686": {
     "views": [
      {
       "cell_index": 10
      }
     ]
    },
    "dc077ccd6ba7406c874aaa182895178b": {
     "views": [
      {
       "cell_index": 11
      }
     ]
    },
    "dd1147641d9f4c91838441ba0df0c7b8": {
     "views": [
      {
       "cell_index": 10
      }
     ]
    },
    "e0d7ddebe9f0431c9508f0b8cba0989a": {
     "views": [
      {
       "cell_index": 10
      }
     ]
    },
    "e0db725bfb2441b7b47499be93010e7d": {
     "views": [
      {
       "cell_index": 10
      }
     ]
    },
    "e8a90803de6a4da6a9ed767d6cbae1c7": {
     "views": [
      {
       "cell_index": 10
      }
     ]
    },
    "eb9f842d2450469499ec72bfcde3d97c": {
     "views": [
      {
       "cell_index": 10
      }
     ]
    },
    "f03d7577c7ea4b46bdffb47867653939": {
     "views": [
      {
       "cell_index": 11
      }
     ]
    },
    "f046e3c9f302457c975e3c6e1ba847f9": {
     "views": [
      {
       "cell_index": 11
      }
     ]
    },
    "f66976effa55458f9b507f3cef42d415": {
     "views": [
      {
       "cell_index": 10
      }
     ]
    },
    "f6a887b51e7f4eb89aec1ae5782db03b": {
     "views": [
      {
       "cell_index": 11
      }
     ]
    },
    "f7995578acf648f08b8b2490648d5416": {
     "views": [
      {
       "cell_index": 10
      }
     ]
    },
    "f965fa84eb064d1f91807c00f5025ddf": {
     "views": [
      {
       "cell_index": 10
      }
     ]
    },
    "fbcfe27650b448889f799fff26b73c25": {
     "views": [
      {
       "cell_index": 10
      }
     ]
    },
    "fdda4bbe6d0144b693e97a78b6d46253": {
     "views": [
      {
       "cell_index": 11
      }
     ]
    }
   },
   "version": "1.2.0"
  }
 },
 "nbformat": 4,
 "nbformat_minor": 2
}
